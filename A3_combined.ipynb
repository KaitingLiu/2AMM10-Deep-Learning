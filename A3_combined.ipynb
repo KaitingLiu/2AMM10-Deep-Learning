{
  "cells": [
    {
      "cell_type": "markdown",
      "metadata": {
        "id": "view-in-github",
        "colab_type": "text"
      },
      "source": [
        "<a href=\"https://colab.research.google.com/github/KaitingLiu/2AMM10-Deep-Learning/blob/main/A3_combined.ipynb\" target=\"_parent\"><img src=\"https://colab.research.google.com/assets/colab-badge.svg\" alt=\"Open In Colab\"/></a>"
      ]
    },
    {
      "cell_type": "markdown",
      "id": "963690b2",
      "metadata": {
        "id": "963690b2"
      },
      "source": [
        "<a href=\"https://colab.research.google.com/github/vlamen/tue-deeplearning/blob/main/assignments/assignment_2_3/a3_skeleton.ipynb\" target=\"_parent\"><img src=\"https://colab.research.google.com/assets/colab-badge.svg\" alt=\"Open In Colab\"/></a>"
      ]
    },
    {
      "cell_type": "markdown",
      "id": "bd8459f1",
      "metadata": {
        "id": "bd8459f1"
      },
      "source": [
        "# Group Number: 60\n",
        "\n",
        "# Student 1: Kaiting Liu\n",
        "\n",
        "# Student 2: Sihan Zhu\n",
        "\n",
        "# Student 3: Ruozhu Yao\n"
      ]
    },
    {
      "cell_type": "markdown",
      "id": "dde28458",
      "metadata": {
        "id": "dde28458"
      },
      "source": [
        "# Downloading Data and Preliminaries"
      ]
    },
    {
      "cell_type": "code",
      "execution_count": 136,
      "id": "7d0580a5",
      "metadata": {
        "id": "7d0580a5"
      },
      "outputs": [],
      "source": [
        "import pickle\n",
        "import matplotlib.pyplot as plt\n",
        "import matplotlib\n",
        "import numpy as np\n",
        "\n",
        "from zipfile import ZipFile\n",
        "import requests\n",
        "import io\n",
        "import tqdm\n",
        "import torch\n",
        "from torch.utils.data import DataLoader"
      ]
    },
    {
      "cell_type": "code",
      "execution_count": 137,
      "id": "8ce00edc",
      "metadata": {
        "id": "8ce00edc"
      },
      "outputs": [],
      "source": [
        "def load_zip(url):\n",
        "    response = requests.get(url)\n",
        "    response.raise_for_status()\n",
        "    zipf = ZipFile(io.BytesIO(response.content))\n",
        "    return {name: zipf.read(name) for name in zipf.namelist()}\n",
        "\n",
        "def load_pickle(zipfile, fn):\n",
        "    return pickle.load(io.BytesIO(zipfile[fn]))"
      ]
    },
    {
      "cell_type": "code",
      "execution_count": 138,
      "id": "bb77a4be",
      "metadata": {
        "id": "bb77a4be"
      },
      "outputs": [],
      "source": [
        "data = load_zip('https://surfdrive.surf.nl/files/index.php/s/cwqGaS22KXgnXtg/download')\n",
        "\n",
        "    \n",
        "\"\"\"\n",
        "simulation_{train, valid, test} is stored as a list of simulations. \n",
        "Each simulation is a numpy array of size (t, 2): For t timesteps an x and y coordinate of our particle.\n",
        "\"\"\"\n",
        "simulation_train = load_pickle(data, 'data/train/simulation.pickle')  # 3.1 + 3.2\n",
        "simulation_valid = load_pickle(data, 'data/valid/simulation.pickle')  # 3.1 + 3.2\n",
        "simulation_test = load_pickle(data, 'data/test/simulation.pickle')  # 3.1 + 3.2\n",
        "\n",
        "\"\"\"\n",
        "charges_{train, valid, test} is stored as a list of simulation-charges. \n",
        "These charges are stored as numpy arrays of size (3,): One value for each charge.\n",
        "\"\"\"\n",
        "charges_train = load_pickle(data, 'data/train/charges.pickle')  # 3.1\n",
        "charges_valid = load_pickle(data, 'data/valid/charges.pickle')  # 3.1\n",
        "charges_test = load_pickle(data, 'data/test/charges.pickle')  # 3.1\n",
        "\n",
        "\"\"\"\n",
        "simulation_continued_{train, valid, test} is stored as a list of simulations. \n",
        "Each simulation is a numpy array of size (t, 2): For t timesteps an x and y coordinate of our particle.\n",
        "\"\"\"\n",
        "simulation_continued_train = load_pickle(data, 'data/train/simulation_continued.pickle')  # 3.2\n",
        "simulation_continued_valid = load_pickle(data, 'data/valid/simulation_continued.pickle')  # 3.2\n",
        "simulation_continued_test = load_pickle(data, 'data/test/simulation_continued.pickle')  # 3.2\n",
        "\n",
        "\"\"\"\n",
        "Note that the indices are shared throughout the different lists, e.g., for the 4th training simulation:\n",
        "simulation_train[3] contains its initial simulation\n",
        "charges_train[3] contains the charges associated with the simulation\n",
        "simulation_continued_train[3] contains the continuation of the simulation \n",
        "                --> simulation_continued_train[3][0] is the state after simulation_train[3][-1]\n",
        "\"\"\"\n",
        "pass"
      ]
    },
    {
      "cell_type": "code",
      "execution_count": 139,
      "id": "10a3438a",
      "metadata": {
        "colab": {
          "base_uri": "https://localhost:8080/"
        },
        "id": "10a3438a",
        "outputId": "875cf361-952b-41e1-b657-46148416b7bc"
      },
      "outputs": [
        {
          "output_type": "stream",
          "name": "stdout",
          "text": [
            "Overview of no. datapoints:\n",
            "\n",
            "Task 3.1:\n",
            "800 train, 100 validation, 100 test simulations\n",
            "800 train, 100 validation, 100 test charge pairs\n",
            "\n",
            "Task 3.2:\n",
            "Since len(simulation_continued_train) < len(simulation_train), we can only use a subset of initial simulations\n",
            "We cut simulation_train down to the first 150 samples in simulation_train_task32\n",
            "150 train, 100 validation, 100 test simulations\n",
            "150 train, 100 validation, 100 test continuations\n",
            "\n",
            "For task 3.1, use:\n",
            "simulation_train + charges_train\n",
            "simulation_valid + charges_valid\n",
            "simulation_test + charges_test\n",
            "\n",
            "For task 3.2, use:\n",
            "simulation_train_task32 + simulation_continued_train\n",
            "simulation_valid + simulation_continued_valid\n",
            "simulation_test + simulation_continued_test\n",
            "\n"
          ]
        }
      ],
      "source": [
        "print('Overview of no. datapoints:\\n')\n",
        "\n",
        "print('Task 3.1:')\n",
        "print(f'{len(simulation_train)} train, {len(simulation_valid)} validation, {len(simulation_test)} test simulations')\n",
        "print(f'{len(charges_train)} train, {len(charges_valid)} validation, {len(charges_test)} test charge pairs')\n",
        "print()\n",
        "\n",
        "print('Task 3.2:')\n",
        "print('Since len(simulation_continued_train) < len(simulation_train), we can only use a subset of initial simulations')\n",
        "print('We cut simulation_train down to the first 150 samples in simulation_train_task32')\n",
        "simulation_train_task32 = simulation_train[:150]\n",
        "print(f'{len(simulation_train_task32)} train, {len(simulation_valid)} validation, {len(simulation_test)} test simulations')\n",
        "print(f'{len(simulation_continued_train)} train, {len(simulation_continued_valid)} validation, {len(simulation_continued_test)} test continuations')\n",
        "\n",
        "print(f\"\"\"\n",
        "For task 3.1, use:\n",
        "{chr(10).join([\"simulation_{} + charges_{}\".format(t, t) for t in [\"train\", \"valid\", \"test\"]])}\n",
        "\n",
        "For task 3.2, use:\n",
        "{chr(10).join([\"simulation_{} + simulation_continued_{}\".format(*((t[0], t[1]) if isinstance(t, tuple) else (t, t))) for t in [(\"train_task32\", \"train\"), \"valid\", \"test\"]])}\n",
        "\"\"\")\n"
      ]
    },
    {
      "cell_type": "code",
      "execution_count": 140,
      "id": "3cfafdb3",
      "metadata": {
        "colab": {
          "base_uri": "https://localhost:8080/"
        },
        "id": "3cfafdb3",
        "outputId": "fd7d79e2-a0bb-482b-d048-c6651908d181"
      },
      "outputs": [
        {
          "output_type": "stream",
          "name": "stdout",
          "text": [
            "Print some shapes:\n",
            "\n",
            "simulation_train[0].shape: (103, 2) -> (t, 2), (x, y) at every t)\n",
            "charges_train[0].shape: (3,) -> charges for the simulation\n",
            "simulation_continued_train[0].shape: (54, 2) -> (t, 2), (x, y) at every t)\n",
            "----\n",
            "\n",
            "simulation_train[1].shape: (97, 2) -> (t, 2), (x, y) at every t)\n",
            "charges_train[1].shape: (3,) -> charges for the simulation\n",
            "simulation_continued_train[1].shape: (45, 2) -> (t, 2), (x, y) at every t)\n",
            "----\n",
            "\n",
            "simulation_train[2].shape: (99, 2) -> (t, 2), (x, y) at every t)\n",
            "charges_train[2].shape: (3,) -> charges for the simulation\n",
            "simulation_continued_train[2].shape: (47, 2) -> (t, 2), (x, y) at every t)\n",
            "----\n",
            "\n"
          ]
        }
      ],
      "source": [
        "print('Print some shapes:\\n')\n",
        "for i in range(3):\n",
        "    print('simulation_train[{}].shape:'.format(i), simulation_train[i].shape, '-> (t, 2), (x, y) at every t)')\n",
        "    print('charges_train[{}].shape:'.format(i), charges_train[i].shape, '-> charges for the simulation')\n",
        "    print('simulation_continued_train[{}].shape:'.format(i), simulation_continued_train[i].shape, '-> (t, 2), (x, y) at every t)')\n",
        "    print('----\\n')"
      ]
    },
    {
      "cell_type": "code",
      "execution_count": 141,
      "id": "34a450a6",
      "metadata": {
        "colab": {
          "base_uri": "https://localhost:8080/"
        },
        "id": "34a450a6",
        "outputId": "1dd3f8be-15de-4c6f-885b-a9d3c7247f5d"
      },
      "outputs": [
        {
          "output_type": "stream",
          "name": "stdout",
          "text": [
            "(103, 2) <class 'list'> [-2.35932245  0.06356978]\n",
            "800\n"
          ]
        }
      ],
      "source": [
        "print(np.shape(simulation_train[0]),type(simulation_train),simulation_train[0][0])\n",
        "print(len(simulation_train))"
      ]
    },
    {
      "cell_type": "code",
      "execution_count": 142,
      "id": "f9106543",
      "metadata": {
        "id": "f9106543"
      },
      "outputs": [],
      "source": [
        "def plot_example(x, x_gt=None, x_pred=None, fn=None):\n",
        "    charge_locations = np.array([[-1.53846154, -1.53846154],\n",
        "                                 [ 1.53846154, -1.53846154],\n",
        "                                 [ 0.        ,  1.53846154]])  # charge locations are fixed\n",
        "    fig = plt.figure()\n",
        "    axes = plt.gca()\n",
        "    axes.set_xlim([-5., 5.])\n",
        "    axes.set_ylim([-5., 5.])\n",
        "    cmap = matplotlib.cm.get_cmap('tab20')\n",
        "    plt.plot(x[:, 0], x[:, 1], color=cmap(0))\n",
        "    plt.plot(x[0, 0], x[0, 1], 'd', color=cmap(1))\n",
        "    fig.set_size_inches(5, 5)\n",
        "    for charge in charge_locations:\n",
        "        plt.plot(charge[0], charge[1], 'd', color='black')\n",
        "    if x_gt is not None:\n",
        "        plt.plot(x_gt[:, 0], x_gt[:, 1], color='red', linewidth=.5)\n",
        "    if x_pred is not None:\n",
        "        plt.plot(x_pred[:, 0], x_pred[:, 1], color='green', linestyle='--')\n",
        "    if fn is None:\n",
        "        plt.show()\n",
        "    else:\n",
        "        plt.savefig(fn)"
      ]
    },
    {
      "cell_type": "code",
      "execution_count": 143,
      "id": "d28681a6",
      "metadata": {
        "colab": {
          "base_uri": "https://localhost:8080/",
          "height": 338
        },
        "id": "d28681a6",
        "outputId": "27a7d025-4e17-470f-8fca-aaf63aadcac4"
      },
      "outputs": [
        {
          "output_type": "display_data",
          "data": {
            "text/plain": [
              "<Figure size 360x360 with 1 Axes>"
            ],
            "image/png": "[encoded data removed]"
          },
          "metadata": {
            "needs_background": "light"
          }
        },
        {
          "output_type": "stream",
          "name": "stdout",
          "text": [
            "Charges are [-0.85727472 -0.52657655 -0.09680789]\n"
          ]
        }
      ],
      "source": [
        "test_idx = np.random.randint(150)\n",
        "plot_example(simulation_train[test_idx], simulation_continued_train[test_idx])\n",
        "print(f'Charges are {charges_train[test_idx]}')"
      ]
    },
    {
      "cell_type": "markdown",
      "id": "883762b1",
      "metadata": {
        "id": "883762b1"
      },
      "source": [
        "# Task 3.1"
      ]
    },
    {
      "cell_type": "markdown",
      "id": "4c1ddabe",
      "metadata": {
        "id": "4c1ddabe"
      },
      "source": [
        "## Data Handling and Preprocessing"
      ]
    },
    {
      "cell_type": "code",
      "execution_count": 144,
      "id": "53253361",
      "metadata": {
        "id": "53253361"
      },
      "outputs": [],
      "source": [
        "train_tokenized = [(torch.tensor(simulation_train[i]), \n",
        "                    torch.tensor(charges_train[i])) \n",
        "                    for i in range(len(simulation_train))]\n",
        "val_tokenized = [(torch.tensor(simulation_valid[i]), \n",
        "                    torch.tensor(charges_valid[i])) \n",
        "                    for i in range(len(simulation_valid))]\n",
        "test_tokenized = [(torch.tensor(simulation_test[i]), \n",
        "                    torch.tensor(charges_test[i])) \n",
        "                    for i in range(len(simulation_test))]"
      ]
    },
    {
      "cell_type": "code",
      "execution_count": 145,
      "id": "d0db1197",
      "metadata": {
        "id": "d0db1197"
      },
      "outputs": [],
      "source": [
        "# train_dataloader = DataLoader(train_tokenized, batch_size=1)\n",
        "# val_dataloader = DataLoader(val_tokenized, batch_size=1)\n",
        "# test_dataloader = DataLoader(test_tokenized, batch_size=1)"
      ]
    },
    {
      "cell_type": "code",
      "execution_count": 146,
      "id": "bd9df856",
      "metadata": {
        "id": "bd9df856"
      },
      "outputs": [],
      "source": [
        "from torch.utils.data import DataLoader\n",
        "from torch.nn.utils.rnn import pad_sequence\n",
        "\n",
        "def collate_batch(batch):\n",
        "    \"\"\"\n",
        "    Concatenate multiple datapoints to obtain a single batch of data\n",
        "    \"\"\"\n",
        "    # sentences are stored as tuples; get respective lists\n",
        "    batch.sort(key=lambda x: len(x[0]), reverse=True)\n",
        "    sim_list = [x[0] for x in batch]\n",
        "    data_length = [len(x[0]) for x in batch]\n",
        "    charge_list = [x[1] for x in batch]\n",
        "\n",
        "    # pad sequences in batch\n",
        "    sim_padded = pad_sequence(sequences = sim_list, \n",
        "                             batch_first = True, \n",
        "                             padding_value = 0)\n",
        "    charge_padded = pad_sequence(sequences = charge_list, \n",
        "                             batch_first = True, \n",
        "                             padding_value = 0)\n",
        "    return sim_padded, charge_padded, data_length"
      ]
    },
    {
      "cell_type": "markdown",
      "id": "cc8853f6",
      "metadata": {
        "id": "cc8853f6"
      },
      "source": [
        "\n",
        "\n",
        "\n",
        "## Model Implementation"
      ]
    },
    {
      "cell_type": "code",
      "execution_count": 147,
      "id": "76e1f438",
      "metadata": {
        "id": "76e1f438"
      },
      "outputs": [],
      "source": [
        "from torch import nn\n",
        "\n",
        "class RNNClassificationModel(nn.Module):\n",
        "    \"\"\" LSTM with embedding layer\"\"\"\n",
        "    def __init__(self, embed_dim, n_layers, hidden_dim):\n",
        "        super(RNNClassificationModel, self).__init__()\n",
        "        \n",
        "        # save some parameters\n",
        "        self.n_layers = n_layers\n",
        "        self.embed_dim = embed_dim\n",
        "\n",
        "        self.input_embedding_layer = nn.Linear(2, self.embed_dim)\n",
        "        \n",
        "        self.rnn = nn.LSTM(embed_dim, hidden_dim, n_layers, batch_first=True)\n",
        "        \n",
        "        self.fc1 = nn.Linear(hidden_dim, hidden_dim)\n",
        "\n",
        "        self.fc2 = nn.Linear(hidden_dim, 3)\n",
        "        \n",
        "        self.drop = nn.Dropout(p=0.5)\n",
        "        \n",
        "        self.criterion = nn.MSELoss()\n",
        "        \n",
        "        self.optimizer = torch.optim.Adam(self.parameters(),lr=1e-4)\n",
        "        \n",
        "\n",
        "    def forward(self, seq, seq_length):\n",
        "\n",
        "        seq = seq.float() \n",
        "        h = self.input_embedding_layer(seq)\n",
        "\n",
        "        packed_h = torch.nn.utils.rnn.pack_padded_sequence(h, seq_length, batch_first=True,enforce_sorted=False)\n",
        "    \n",
        "        # Feed packed input sequence to lstm \n",
        "        out, (hidden, _) = self.rnn(packed_h)\n",
        "        \n",
        "        # Original unpadded length\n",
        "        unpacked, unpacked_len = torch.nn.utils.rnn.pad_packed_sequence(out, batch_first=True)\n",
        "        # retrieve final hidden output of last timestep for each sequence\n",
        "        # shape [batch_size, hidden_dim]\n",
        "        indices = torch.LongTensor(np.array(unpacked_len) - 1).view(-1, 1).expand(unpacked.size(0), unpacked.size(2)).unsqueeze(1)\n",
        "        last_timestep = unpacked.gather(dim=1, index=indices).squeeze(dim=1)\n",
        "        \n",
        "        # apply dropout\n",
        "        last_timestep = self.drop(last_timestep)\n",
        "        \n",
        "        # feed lstm output to MLP, apply ReLU nonlinearity\n",
        "        # shape [batch_size, hidden_dim]\n",
        "        h = self.drop(self.fc1(last_timestep))\n",
        "        h = nn.ReLU()(h)\n",
        "        \n",
        "        # shape [batch_size, num_classes]\n",
        "        y_pred = self.fc2(h)\n",
        "    \n",
        "        return y_pred\n"
      ]
    },
    {
      "cell_type": "code",
      "execution_count": 148,
      "id": "5b935865",
      "metadata": {
        "id": "5b935865"
      },
      "outputs": [],
      "source": [
        "from torch import nn\n",
        "\n",
        "class RNNClassificationModel_bl1(nn.Module):\n",
        "    \"\"\"Baseline model 1: RNN with embedding layer\"\"\"\n",
        "    def __init__(self, embed_dim, n_layers, hidden_dim):\n",
        "        super(RNNClassificationModel_bl1, self).__init__()\n",
        "        \n",
        "        # save some parameters\n",
        "        self.n_layers = n_layers\n",
        "\n",
        "        self.embed_dim = embed_dim\n",
        "\n",
        "        self.input_embedding_layer = nn.Linear(2, self.embed_dim)\n",
        "        \n",
        "        self.rnn = nn.RNN(embed_dim, hidden_dim, n_layers, batch_first=True)\n",
        "        \n",
        "        self.fc1 = nn.Linear(hidden_dim, hidden_dim)\n",
        "   \n",
        "        self.fc2 = nn.Linear(hidden_dim, 3)\n",
        "        \n",
        "        self.drop = nn.Dropout(p=0.5)\n",
        "        \n",
        "        self.criterion = nn.MSELoss()\n",
        "        \n",
        "        self.optimizer = torch.optim.Adam(self.parameters(),lr=1e-4)\n",
        "        \n",
        "\n",
        "    def forward(self, seq, seq_length):\n",
        "        \n",
        "        seq = seq.float() \n",
        "        h = self.input_embedding_layer(seq)\n",
        "\n",
        "        packed_h = torch.nn.utils.rnn.pack_padded_sequence(h, seq_length, batch_first=True,enforce_sorted=False)\n",
        "    \n",
        "        # Feed packed input sequence to lstm \n",
        "        out, hidden = self.rnn(packed_h)\n",
        "        \n",
        "        # Original unpadded length\n",
        "        unpacked, unpacked_len = torch.nn.utils.rnn.pad_packed_sequence(out, batch_first=True)\n",
        "        indices = torch.LongTensor(np.array(unpacked_len) - 1).view(-1, 1).expand(unpacked.size(0), unpacked.size(2)).unsqueeze(1)\n",
        "        last_timestep = unpacked.gather(dim=1, index=indices).squeeze(dim=1)\n",
        "        \n",
        "        # apply dropout\n",
        "        last_timestep = self.drop(last_timestep)\n",
        "        \n",
        "        # feed lstm output to MLP, apply ReLU nonlinearity\n",
        "        # shape [batch_size, hidden_dim]\n",
        "        h = self.drop(self.fc1(last_timestep))\n",
        "        h = nn.ReLU()(h)\n",
        "        \n",
        "        # shape [batch_size, num_classes]\n",
        "        y_pred = self.fc2(h)\n",
        "    \n",
        "        return y_pred"
      ]
    },
    {
      "cell_type": "code",
      "execution_count": 149,
      "id": "8f189d19",
      "metadata": {
        "id": "8f189d19"
      },
      "outputs": [],
      "source": [
        "from torch import nn\n",
        "\n",
        "class RNNClassificationModel_bl2(nn.Module):\n",
        "    \"\"\"Baseline model 2: LSTM without embedding layer\"\"\"\n",
        "\n",
        "    def __init__(self, embed_dim, n_layers, hidden_dim):\n",
        "        super(RNNClassificationModel_bl2, self).__init__()\n",
        "        \n",
        "        # save some parameters\n",
        "        self.n_layers = n_layers\n",
        "        self.embed_dim = embed_dim\n",
        "\n",
        "        #self.input_embedding_layer = nn.Linear(2, self.embed_dim)\n",
        "        \n",
        "        #self.word_embeddings = nn.Embedding(vocab_size, embed_dim)\n",
        "        \n",
        "        self.rnn = nn.LSTM(embed_dim, hidden_dim, n_layers, batch_first=True)\n",
        "        \n",
        "        self.fc1 = nn.Linear(hidden_dim, hidden_dim)\n",
        "        #make output in [-1,0]\n",
        "        self.fc2 = nn.Linear(hidden_dim, 3)\n",
        "        \n",
        "        self.drop = nn.Dropout(p=0.5)\n",
        "        \n",
        "        self.criterion = nn.MSELoss()\n",
        "        \n",
        "        self.optimizer = torch.optim.Adam(self.parameters(),lr=1e-4)\n",
        "        \n",
        "\n",
        "    def forward(self, seq, seq_length):\n",
        "        \n",
        "        # input shapes:\n",
        "        # text: [batch_size, max. sequence length in batch]\n",
        "        \n",
        "        \n",
        "        # embed sequences with word embedding\n",
        "        # shape [batch_size, max. sequence length in batch, embed_dim]\n",
        "        seq = seq.float() \n",
        "        h = seq\n",
        "\n",
        "        packed_h = torch.nn.utils.rnn.pack_padded_sequence(h, seq_length, batch_first=True,enforce_sorted=False)\n",
        "    \n",
        "        # Feed packed input sequence to lstm \n",
        "        out, (hidden, _) = self.rnn(packed_h)\n",
        "        \n",
        "        # Original unpadded length\n",
        "        unpacked, unpacked_len = torch.nn.utils.rnn.pad_packed_sequence(out, batch_first=True)\n",
        "        # retrieve final hidden output of last timestep for each sequence\n",
        "        # shape [batch_size, hidden_dim]\n",
        "        indices = torch.LongTensor(np.array(unpacked_len) - 1).view(-1, 1).expand(unpacked.size(0), unpacked.size(2)).unsqueeze(1)\n",
        "        last_timestep = unpacked.gather(dim=1, index=indices).squeeze(dim=1)\n",
        "        \n",
        "        # apply dropout\n",
        "        last_timestep = self.drop(last_timestep)\n",
        "        \n",
        "        # feed lstm output to MLP, apply ReLU nonlinearity\n",
        "        # shape [batch_size, hidden_dim]\n",
        "        h = self.drop(self.fc1(last_timestep))\n",
        "        h = nn.ReLU()(h)\n",
        "        \n",
        "        # shape [batch_size, num_classes]\n",
        "        y_pred = self.fc2(h)\n",
        "    \n",
        "        return y_pred"
      ]
    },
    {
      "cell_type": "markdown",
      "id": "0e443b7f",
      "metadata": {
        "id": "0e443b7f"
      },
      "source": [
        "## Model Training"
      ]
    },
    {
      "cell_type": "code",
      "source": [
        "model = RNNClassificationModel(embed_dim=64, \n",
        "                               n_layers = 1, \n",
        "                               hidden_dim=128)"
      ],
      "metadata": {
        "id": "zCUpAqjq-Ryt"
      },
      "id": "zCUpAqjq-Ryt",
      "execution_count": 150,
      "outputs": []
    },
    {
      "cell_type": "code",
      "execution_count": 151,
      "id": "0ec19a8d",
      "metadata": {
        "id": "0ec19a8d"
      },
      "outputs": [],
      "source": [
        "model_bl1 = RNNClassificationModel_bl1(embed_dim=64, \n",
        "                               n_layers = 1, \n",
        "                               hidden_dim=128)"
      ]
    },
    {
      "cell_type": "code",
      "execution_count": 152,
      "id": "0c58dc02",
      "metadata": {
        "id": "0c58dc02"
      },
      "outputs": [],
      "source": [
        "model_bl2 = RNNClassificationModel_bl2(embed_dim=2, \n",
        "                               n_layers = 1, \n",
        "                               hidden_dim=128)"
      ]
    },
    {
      "cell_type": "code",
      "execution_count": 153,
      "id": "b32ae5b4",
      "metadata": {
        "id": "b32ae5b4"
      },
      "outputs": [],
      "source": [
        "import time\n",
        "from torch.nn.functional import softmax\n",
        "\n",
        "def train(model,dataloader):\n",
        "\n",
        "    rmse_losses = []\n",
        "    mse_losses = []\n",
        "    \n",
        "    model.train()\n",
        "    \n",
        "    total_acc, total_count = 0, 0\n",
        "    start_time = time.time()\n",
        "    for (batch_x, y_true, batch_len) in tqdm.tqdm(dataloader):\n",
        "                \n",
        "        model.optimizer.zero_grad()\n",
        "\n",
        "        y_true = y_true.to(torch.float32)\n",
        "        \n",
        "        y_pred = model(batch_x,batch_len) #shape (batch_size, num_classes) \n",
        "\n",
        "        mse_loss = model.criterion(y_pred, y_true)\n",
        "        mse_losses.append(mse_loss.item())\n",
        "        rmse_loss = torch.sqrt(model.criterion(y_pred, y_true))\n",
        "\n",
        "        rmse_losses.append(rmse_loss.item())\n",
        "        \n",
        "        mse_loss.backward()\n",
        "        \n",
        "        torch.nn.utils.clip_grad_norm_(model.parameters(), 0.1)\n",
        "        \n",
        "        model.optimizer.step()\n",
        "  \n",
        "    return mse_losses, rmse_losses\n",
        "\n",
        "def evaluate(model,dataloader):\n",
        "    \n",
        "    rmse_losses = []\n",
        "    mse_losses = []\n",
        "\n",
        "    model.eval()\n",
        "    total_acc, total_count = 0, 0\n",
        "\n",
        "    with torch.no_grad():\n",
        "        for idx, (batch_x, y_true, batch_len) in enumerate(dataloader):\n",
        "            \n",
        "            y_pred = model(batch_x,batch_len) #shape (batch_size, num_classes) \n",
        "            \n",
        "            mse_loss = model.criterion(y_pred, y_true)\n",
        "            mse_losses.append(mse_loss.item())\n",
        "            rmse_loss = torch.sqrt(model.criterion(y_pred, y_true))\n",
        "\n",
        "            rmse_losses.append(rmse_loss.item())\n",
        "\n",
        "    return mse_losses, rmse_losses"
      ]
    },
    {
      "cell_type": "code",
      "execution_count": 154,
      "id": "b3b5b766",
      "metadata": {
        "colab": {
          "base_uri": "https://localhost:8080/"
        },
        "id": "b3b5b766",
        "outputId": "626b059c-5d89-4367-f8cb-180a9ddf91e7"
      },
      "outputs": [
        {
          "output_type": "stream",
          "name": "stderr",
          "text": [
            "100%|██████████| 100/100 [00:11<00:00,  8.95it/s]\n"
          ]
        },
        {
          "output_type": "stream",
          "name": "stdout",
          "text": [
            "-----------------------------------------------------------\n"
          ]
        },
        {
          "output_type": "stream",
          "name": "stderr",
          "text": [
            "100%|██████████| 100/100 [00:11<00:00,  8.91it/s]\n"
          ]
        },
        {
          "output_type": "stream",
          "name": "stdout",
          "text": [
            "-----------------------------------------------------------\n"
          ]
        }
      ],
      "source": [
        "EPOCHS = 2 #100 # epoch\n",
        "BATCH_SIZE = 8\n",
        "\n",
        "scheduler = torch.optim.lr_scheduler.StepLR(model.optimizer, step_size=20, gamma=0.1)\n",
        "\n",
        "train_loss_mse, train_loss_rmse, val_loss_mse, val_loss_rmse = [], [], [], []\n",
        "for epoch in range(1, EPOCHS + 1):\n",
        "    epoch_start_time = time.time()\n",
        "    \n",
        "    train_dataloader = DataLoader(train_tokenized, batch_size=BATCH_SIZE, shuffle=True, \n",
        "                             collate_fn=collate_batch)\n",
        "    val_dataloader = DataLoader(val_tokenized, batch_size=BATCH_SIZE, shuffle=True, \n",
        "                             collate_fn=collate_batch)\n",
        "    # train_dataloader = DataLoader(train_tokenized, batch_size=BATCH_SIZE)\n",
        "    # test_dataloader = DataLoader(test_tokenized, batch_size=BATCH_SIZE)\n",
        "    \n",
        "    train_loss_mse_epoch, train_loss_rmse_epoch = train(model, train_dataloader)\n",
        "    train_loss_mse.append(train_loss_mse_epoch)\n",
        "    train_loss_rmse.append(train_loss_rmse_epoch)\n",
        "    val_loss_mse_epoch, val_loss_rmse_epoch = evaluate(model, val_dataloader)\n",
        "    val_loss_mse.append(val_loss_mse_epoch)\n",
        "    val_loss_rmse.append(val_loss_rmse_epoch)\n",
        "    \n",
        "    print('-' * 59)\n",
        "    scheduler.step()\n",
        "# store the average loss for every epoch during training \n",
        "train_loss_mean_mse, val_loss_mean_mse, train_loss_mean_rmse, val_loss_mean_rmse = [], [], [], []\n",
        "for i in range(EPOCHS):\n",
        "    train_loss_mean_mse.append(sum(train_loss_mse[i]) / len(train_loss_mse[i]))\n",
        "    val_loss_mean_mse.append(sum(val_loss_mse[i]) / len(val_loss_mse[i]))\n",
        "    train_loss_mean_rmse.append(sum(train_loss_rmse[i]) / len(train_loss_rmse[i]))\n",
        "    val_loss_mean_rmse.append(sum(val_loss_rmse[i]) / len(val_loss_rmse[i]))"
      ]
    },
    {
      "cell_type": "markdown",
      "id": "da139d5b",
      "metadata": {
        "id": "da139d5b"
      },
      "source": [
        "## Evaluation"
      ]
    },
    {
      "cell_type": "code",
      "execution_count": 155,
      "id": "19d9581b",
      "metadata": {
        "id": "19d9581b"
      },
      "outputs": [],
      "source": [
        "def get_test_score_ind(model, dataloader):\n",
        "    \"\"\"\"\n",
        "    eveluate the performance of model on test set \n",
        "    get the index and loss of worst cases where the model fails\n",
        "    and the best cases where the model show good performance\n",
        "    \"\"\"\n",
        "\n",
        "    rmse_losses = []\n",
        "    mse_losses = []\n",
        "\n",
        "    model.eval()\n",
        "\n",
        "    with torch.no_grad():\n",
        "        for idx, (batch_x, y_true, batch_len) in enumerate(dataloader):\n",
        "            \n",
        "            y_pred = model(batch_x,batch_len) #shape (batch_size, num_classes) \n",
        "            \n",
        "            mse_loss = model.criterion(y_pred, y_true)\n",
        "            mse_losses.append(mse_loss.item())\n",
        "            rmse_loss = torch.sqrt(model.criterion(y_pred, y_true))\n",
        "\n",
        "            rmse_losses.append(rmse_loss.item())\n",
        "\n",
        "            \n",
        "    worst_inds= np.argpartition(mse_losses,-5)[-5:]\n",
        "    best_inds= np.argpartition(mse_losses, 5)[:5]\n",
        "    mse_score = sum(mse_losses) / len(mse_losses)\n",
        "    rmse_score = sum(rmse_losses) / len(rmse_losses)\n",
        "    return mse_score, rmse_score, mse_losses, rmse_losses, worst_inds, best_inds\n",
        "test_dataloader = DataLoader(test_tokenized, batch_size=BATCH_SIZE, shuffle=True, \n",
        "                             collate_fn=collate_batch)\n",
        "model = torch.load('model')\n",
        "mse_score, rmse_score, mse_losses, rmse_losses, worst_inds, best_inds = get_test_score_ind(model, test_dataloader)"
      ]
    },
    {
      "cell_type": "code",
      "source": [
        "\"\"\"\"show the best cases and their corresponding charges\"\"\"\n",
        "for best_i in best_inds:\n",
        "  plot_example(simulation_test[best_i])\n",
        "  print(mse_losses[best_i])\n",
        "  print(f'Example with lowest loss: Charges are {charges_train[best_i]}')"
      ],
      "metadata": {
        "colab": {
          "base_uri": "https://localhost:8080/",
          "height": 1000
        },
        "id": "7CBakBk1-z7r",
        "outputId": "2a889504-2f8b-4b6a-e270-e3adeb2a153c"
      },
      "id": "7CBakBk1-z7r",
      "execution_count": 156,
      "outputs": [
        {
          "output_type": "display_data",
          "data": {
            "text/plain": [
              "<Figure size 360x360 with 1 Axes>"
            ],
            "image/png": "[encoded data removed]"
          },
          "metadata": {
            "needs_background": "light"
          }
        },
        {
          "output_type": "stream",
          "name": "stdout",
          "text": [
            "0.05699778745436468\n",
            "Example with lowest loss: Charges are [-0.1375296  -0.05280612 -0.95305736]\n"
          ]
        },
        {
          "output_type": "display_data",
          "data": {
            "text/plain": [
              "<Figure size 360x360 with 1 Axes>"
            ],
            "image/png": "[encoded data removed]"
          },
          "metadata": {
            "needs_background": "light"
          }
        },
        {
          "output_type": "stream",
          "name": "stdout",
          "text": [
            "0.050555702725638356\n",
            "Example with lowest loss: Charges are [-0.80701162 -0.35913297 -0.66586403]\n"
          ]
        },
        {
          "output_type": "display_data",
          "data": {
            "text/plain": [
              "<Figure size 360x360 with 1 Axes>"
            ],
            "image/png": "[encoded data removed]"
          },
          "metadata": {
            "needs_background": "light"
          }
        },
        {
          "output_type": "stream",
          "name": "stdout",
          "text": [
            "0.07314670455448742\n",
            "Example with lowest loss: Charges are [-0.0918499  -0.35406486 -0.68168262]\n"
          ]
        },
        {
          "output_type": "display_data",
          "data": {
            "text/plain": [
              "<Figure size 360x360 with 1 Axes>"
            ],
            "image/png": "[encoded data removed]"
          },
          "metadata": {
            "needs_background": "light"
          }
        },
        {
          "output_type": "stream",
          "name": "stdout",
          "text": [
            "0.07265017385578211\n",
            "Example with lowest loss: Charges are [-0.81015605 -0.67512385 -0.16594701]\n"
          ]
        },
        {
          "output_type": "display_data",
          "data": {
            "text/plain": [
              "<Figure size 360x360 with 1 Axes>"
            ],
            "image/png": "[encoded data removed]"
          },
          "metadata": {
            "needs_background": "light"
          }
        },
        {
          "output_type": "stream",
          "name": "stdout",
          "text": [
            "0.04082953500050829\n",
            "Example with lowest loss: Charges are [-0.98451836 -0.1667747  -0.34789858]\n"
          ]
        }
      ]
    },
    {
      "cell_type": "code",
      "source": [
        "\"\"\"\"show the worst cases and their corresponding charges\"\"\"\n",
        "for worst_i in worst_inds:\n",
        "  plot_example(simulation_test[worst_i])\n",
        "  print(mse_losses[worst_i])\n",
        "  print(f'Example with highest loss:Charges are {charges_train[worst_i]}')"
      ],
      "metadata": {
        "colab": {
          "base_uri": "https://localhost:8080/",
          "height": 1000
        },
        "id": "8QibtNcy_K5X",
        "outputId": "c2c58817-5ec2-4272-e1d3-5442b976fca8"
      },
      "id": "8QibtNcy_K5X",
      "execution_count": 157,
      "outputs": [
        {
          "output_type": "display_data",
          "data": {
            "text/plain": [
              "<Figure size 360x360 with 1 Axes>"
            ],
            "image/png": "[encoded data removed]"
          },
          "metadata": {
            "needs_background": "light"
          }
        },
        {
          "output_type": "stream",
          "name": "stdout",
          "text": [
            "0.09945381565249169\n",
            "Example with highest loss:Charges are [-0.99508806 -0.44820919 -0.2730329 ]\n"
          ]
        },
        {
          "output_type": "display_data",
          "data": {
            "text/plain": [
              "<Figure size 360x360 with 1 Axes>"
            ],
            "image/png": "[encoded data removed]"
          },
          "metadata": {
            "needs_background": "light"
          }
        },
        {
          "output_type": "stream",
          "name": "stdout",
          "text": [
            "0.10169078757184886\n",
            "Example with highest loss:Charges are [-0.36186577 -0.85073117 -0.15300605]\n"
          ]
        },
        {
          "output_type": "display_data",
          "data": {
            "text/plain": [
              "<Figure size 360x360 with 1 Axes>"
            ],
            "image/png": "[encoded data removed]"
          },
          "metadata": {
            "needs_background": "light"
          }
        },
        {
          "output_type": "stream",
          "name": "stdout",
          "text": [
            "0.10319420640397277\n",
            "Example with highest loss:Charges are [-0.48912768 -0.53956225 -0.53497113]\n"
          ]
        },
        {
          "output_type": "display_data",
          "data": {
            "text/plain": [
              "<Figure size 360x360 with 1 Axes>"
            ],
            "image/png": "[encoded data removed]"
          },
          "metadata": {
            "needs_background": "light"
          }
        },
        {
          "output_type": "stream",
          "name": "stdout",
          "text": [
            "0.11343997556914044\n",
            "Example with highest loss:Charges are [-0.37120766 -0.09868825 -0.31392034]\n"
          ]
        },
        {
          "output_type": "display_data",
          "data": {
            "text/plain": [
              "<Figure size 360x360 with 1 Axes>"
            ],
            "image/png": "[encoded data removed]"
          },
          "metadata": {
            "needs_background": "light"
          }
        },
        {
          "output_type": "stream",
          "name": "stdout",
          "text": [
            "0.12416306575241609\n",
            "Example with highest loss:Charges are [-0.4106839  -0.08464682 -0.99831876]\n"
          ]
        }
      ]
    },
    {
      "cell_type": "code",
      "execution_count": 158,
      "id": "ebed03ba",
      "metadata": {
        "colab": {
          "base_uri": "https://localhost:8080/",
          "height": 518
        },
        "id": "ebed03ba",
        "outputId": "8ba17b94-76e9-41d5-80c3-eeed3631f910"
      },
      "outputs": [
        {
          "output_type": "display_data",
          "data": {
            "text/plain": [
              "<Figure size 720x576 with 1 Axes>"
            ],
            "image/png": "[encoded data removed]"
          },
          "metadata": {
            "needs_background": "light"
          }
        }
      ],
      "source": [
        "# plot the training loss and the validation loss during the training process\n",
        "eval_meth = 'mse'\n",
        "f, ax = plt.subplots(1,1, figsize=(10,8))\n",
        "\n",
        "fnt=16\n",
        "ax.plot(train_loss_mean_mse, color='blue', label='Train')\n",
        "ax.plot(val_loss_mean_mse, color='red', linestyle='--', label='Val')\n",
        "ax.legend(fontsize=fnt)\n",
        "#ax.tick_params(axis='both', labelsize=fnt)\n",
        "plt.title(eval_meth)\n",
        "ax.set_xlabel(\"Epoch\", fontsize=fnt)\n",
        "ax.set_ylabel(\"Loss\", fontsize=fnt);\n",
        "#f.savefig(eval_meth+str(BATCH_SIZE)+'.jpg')"
      ]
    },
    {
      "cell_type": "markdown",
      "id": "9a59808b",
      "metadata": {
        "id": "9a59808b"
      },
      "source": [
        "# Task 3.2"
      ]
    },
    {
      "cell_type": "markdown",
      "id": "f64a855d",
      "metadata": {
        "id": "f64a855d"
      },
      "source": [
        "## Data Handling and Preprocessing"
      ]
    },
    {
      "cell_type": "code",
      "execution_count": 159,
      "id": "36fe2739",
      "metadata": {
        "id": "36fe2739"
      },
      "outputs": [],
      "source": [
        "import torch\n",
        "from torchvision import transforms\n",
        "import torch.nn as nn\n",
        "import torch.nn.functional as F\n",
        "from torch.utils.data import Dataset, DataLoader, TensorDataset\n",
        "import numpy as np\n",
        "from PIL import Image\n",
        "\n",
        "class MyDataset(Dataset):\n",
        "    def __init__(self, input_data, label_data):\n",
        "        self.input_data = input_data\n",
        "        self.label_data = label_data\n",
        "        \n",
        "    def __getitem__(self, index):\n",
        "        input = self.input_data[index]\n",
        "        label = self.label_data[index]\n",
        "        return torch.FloatTensor(input), torch.FloatTensor(label)\n",
        "        \n",
        "    def __len__(self):\n",
        "        return len(self.label_data)"
      ]
    },
    {
      "cell_type": "code",
      "execution_count": 160,
      "id": "f80b1ca2",
      "metadata": {
        "id": "f80b1ca2"
      },
      "outputs": [],
      "source": [
        "device = torch.device(\"cuda\" if torch.cuda.is_available() else \"cpu\")"
      ]
    },
    {
      "cell_type": "code",
      "execution_count": 161,
      "id": "fdbf2800",
      "metadata": {
        "id": "fdbf2800",
        "colab": {
          "base_uri": "https://localhost:8080/"
        },
        "outputId": "086ef7b3-4547-4d54-b48f-7958d429c9ed"
      },
      "outputs": [
        {
          "output_type": "stream",
          "name": "stdout",
          "text": [
            "torch.Size([1, 103, 2]) torch.Size([1, 54, 2])\n"
          ]
        }
      ],
      "source": [
        "train_dataset = MyDataset(simulation_train, simulation_continued_train)\n",
        "# data loader\n",
        "train_loader = torch.utils.data.DataLoader(train_dataset, batch_size=1,pin_memory=True)\n",
        "# print(train_loader[0])\n",
        "for x, y in train_loader:\n",
        "  print(x.size(), y.size())\n",
        "  break\n",
        "# for x, y in enumerate(train_loader):"
      ]
    },
    {
      "cell_type": "markdown",
      "metadata": {
        "id": "-bBsd-zimhKa"
      },
      "source": [
        "\n",
        "\n",
        "## Model Implementation"
      ],
      "id": "-bBsd-zimhKa"
    },
    {
      "cell_type": "code",
      "source": [
        "import torch.nn as nn\n",
        "\n",
        "class Encoder(nn.Module):\n",
        "    def __init__(self, input_dim, hid_dim, n_layers, output_dim, dropout):\n",
        "        super().__init__()\n",
        "        self.hid_dim = hid_dim\n",
        "        self.n_layers = n_layers\n",
        "        \n",
        "        self.rnn = nn.GRU(input_size=input_dim, hidden_size=hid_dim, num_layers=n_layers, dropout = dropout, batch_first=True)\n",
        "        self.linear = nn.Linear(hid_dim, output_dim)\n",
        "        self.dropout = nn.Dropout(dropout)\n",
        "        \n",
        "        \n",
        "    def forward(self, input):\n",
        "        out, hidden = self.rnn(input)\n",
        "        output = self.linear(out)\n",
        "        \n",
        "        return output, hidden"
      ],
      "metadata": {
        "id": "Fi383rgkmg2Y"
      },
      "id": "Fi383rgkmg2Y",
      "execution_count": 162,
      "outputs": []
    },
    {
      "cell_type": "code",
      "source": [
        "class Decoder(nn.Module):\n",
        "    def __init__(self, input_dim, hid_dim, n_layers, output_dim, dropout):\n",
        "        super().__init__()\n",
        "        \n",
        "        self.hid_dim = hid_dim\n",
        "        self.n_layers = n_layers\n",
        "\n",
        "        self.rnn = nn.GRU(input_dim, hid_dim, n_layers, dropout = dropout,batch_first=True)\n",
        "        self.fc_out = nn.Linear(hid_dim, output_dim)\n",
        "        self.dropout = nn.Dropout(dropout)\n",
        "    \n",
        "        \n",
        "    def forward(self, input, hidden):\n",
        "        # pytorch expects a sequence, but we use batches with 1 element, i.e., sequence length 1\n",
        "        input = input.unsqueeze(1)\n",
        "        output, hidden = self.rnn(input, hidden)\n",
        "        \n",
        "        prediction = self.fc_out(output.squeeze(1))  # squeeze our 'sequence length 1' away\n",
        "        #prediction = [batch size, output dim]      \n",
        "        \n",
        "        return prediction, hidden"
      ],
      "metadata": {
        "id": "AuKHazq_mo_g"
      },
      "id": "AuKHazq_mo_g",
      "execution_count": 163,
      "outputs": []
    },
    {
      "cell_type": "code",
      "source": [
        "import torch.optim as optim\n",
        "import random\n",
        "\n",
        "class Seq2Seq(nn.Module):\n",
        "    def __init__(self, encoder, decoder, device):\n",
        "        super().__init__()\n",
        "        \n",
        "        self.encoder = encoder\n",
        "        self.decoder = decoder\n",
        "        self.device = device\n",
        "        \n",
        "        ### Your code here ###\n",
        "        # self.optimizer = torch.optim.SGD(self.parameters(), lr=0.01, momentum=0.5)\n",
        "        # self.optimizer = optim.Adam(self.parameters(),lr=0.005,weight_decay=0.01)\n",
        "        # self.optimizer = optim.Adam(self.parameters(),weight_decay=0.0001)\n",
        "        # self.optimizer = torch.optim.SGD(self.parameters(), lr=0.25, momentum=0.5)\n",
        "        self.optimizer = optim.Adam(self.parameters(),lr = 1e-3, weight_decay=0)\n",
        "        self.criterion = nn.L1Loss()\n",
        "        \n",
        "\n",
        "    def forward(self, src, trg, teacher_forcing_ratio = 0):\n",
        "        \"\"\"\n",
        "        Forward pass of the seq2seq model. It encodes the source sentence into\n",
        "        a dense representation and thereafter transduces into the target\n",
        "        sentence.\n",
        "        \n",
        "        Inputs:\n",
        "        src: \n",
        "        trg:  \n",
        "        teacher_forcing_ratio: probability to use teacher forcing, e.g. 0.5 we use ground-truth target sentence 50% of the time\n",
        "        \n",
        "        Outputs:\n",
        "        outputs: index representation of the predicted positions with shape [batch_size, trg_len, element_size]\n",
        "        \"\"\"\n",
        "        batch_size = trg.shape[0]\n",
        "        trg_len = trg.shape[1]\n",
        "        element_size = trg.shape[2]\n",
        "\n",
        "        #tensor to store decoder outputs\n",
        "        outputs = torch.zeros(batch_size, trg_len, element_size).to(self.device)\n",
        "        #last hidden state of the encoder is used as the initial hidden state of the decoder\n",
        "        output, hidden = self.encoder(src)\n",
        "        \n",
        "        # first input to the decoder is the <sos> tokens\n",
        "        input = output[:, -1, :].clone()\n",
        "        outputs[:,0,:] = input\n",
        "        for t in range(1, trg_len):\n",
        "            output, hidden= self.decoder(input, hidden)\n",
        "\n",
        "            #place predictions in a tensor holding predictions for each time point\n",
        "            outputs[:,t,:] = output.squeeze(1)\n",
        "            \n",
        "            #decide if we are going to use teacher forcing or not\n",
        "            teacher_force = random.random() < teacher_forcing_ratio\n",
        "            \n",
        "            #if teacher forcing, use actual next positions as next input\n",
        "            #if not, use predicted positions\n",
        "            input = trg[:,t,:].clone() if teacher_force else outputs[:,t,:].clone()\n",
        "\n",
        "        return outputs\n"
      ],
      "metadata": {
        "id": "atTyVe8kmsJ0"
      },
      "id": "atTyVe8kmsJ0",
      "execution_count": 164,
      "outputs": []
    },
    {
      "cell_type": "markdown",
      "id": "826fae3f",
      "metadata": {
        "id": "826fae3f"
      },
      "source": [
        "## Model Training"
      ]
    },
    {
      "cell_type": "code",
      "execution_count": 165,
      "id": "db3fce95",
      "metadata": {
        "id": "db3fce95"
      },
      "outputs": [],
      "source": [
        "BATCH_SIZE = 1\n",
        "N_EPOCHS = 2 #50\n",
        "DROPOUT = 0.5\n",
        "N_LAYERS = 4 #paper uses 4\n",
        "HIDDEN_DIM = 64 #dimension of the lstm's hidden state\n",
        "INPUT_DIM = 2\n",
        "OUTPUT_DIM = 2"
      ]
    },
    {
      "cell_type": "code",
      "execution_count": 166,
      "id": "41ddb47d",
      "metadata": {
        "id": "41ddb47d"
      },
      "outputs": [],
      "source": [
        "from torch.optim import optimizer\n",
        "# initiate seq2seq translation model\n",
        "enc = Encoder(INPUT_DIM, HIDDEN_DIM, N_LAYERS, OUTPUT_DIM, DROPOUT)\n",
        "dec = Decoder(INPUT_DIM, HIDDEN_DIM, N_LAYERS, OUTPUT_DIM, DROPOUT)\n",
        "\n",
        "seq2seq = Seq2Seq(enc, dec, device).to(device)\n",
        "train_dataset = MyDataset(simulation_train, simulation_continued_train)\n",
        "valid_dataset = MyDataset(simulation_valid, simulation_continued_valid)\n",
        "# data loader\n",
        "# train_loader = torch.utils.data.DataLoader(train_dataset, batch_size=10, collate_fn=collate_batch)\n",
        "# print(train_loader[0])"
      ]
    },
    {
      "cell_type": "code",
      "execution_count": 167,
      "id": "4ee069fc",
      "metadata": {
        "id": "4ee069fc"
      },
      "outputs": [],
      "source": [
        "def baseline_predict(src_arr,trg_arr):\n",
        "  last_pos =src_arr[-1]\n",
        "  second_last_pos = src_arr[-2]\n",
        "  pos_diff = second_last_pos-last_pos\n",
        "\n",
        "  trg_len = len(trg_arr)\n",
        "  predictions = []\n",
        "  for i in range(trg_len):\n",
        "    if i==0:\n",
        "      current_pos = last_pos\n",
        "    current_pos = last_pos+pos_diff\n",
        "    predictions.append(current_pos)\n",
        "  \n",
        "  return np.array(predictions)"
      ]
    },
    {
      "cell_type": "code",
      "source": [
        "from numpy.linalg import norm\n",
        "\n",
        "def get_score(output,baseline,targets):\n",
        "  # print(\"output\")\n",
        "  # print(output.shape)\n",
        "  # print(\"target\")\n",
        "  # print(targets.shape)\n",
        "  cos_sim = np.sum(output*targets, axis=1)/(norm(output, axis=1)*norm(targets, axis=1))\n",
        "  # return a list of similarities corresponds to the number of output time points\n",
        "  # print(\"cosine_sim\")\n",
        "  # print(cos_sim.shape)\n",
        "\n",
        "  out_trg_dist = np.linalg.norm(output-targets)\n",
        "  base_trg_dist = np.linalg.norm(baseline-targets)\n",
        "  ratio = out_trg_dist / base_trg_dist\n",
        "\n",
        "  return np.mean(cos_sim), ratio"
      ],
      "metadata": {
        "id": "kr6xbk6RnCCc"
      },
      "id": "kr6xbk6RnCCc",
      "execution_count": 168,
      "outputs": []
    },
    {
      "cell_type": "code",
      "source": [
        "import time\n",
        "from tqdm import tqdm\n",
        "from torch.utils.data.dataloader import default_collate\n",
        "from sklearn.metrics import r2_score\n",
        "\n",
        "\n",
        "def train(dataset):\n",
        "    epoch_loss = 0\n",
        "    seq2seq.train()\n",
        "    dataloader = DataLoader(dataset, batch_size=BATCH_SIZE,collate_fn=lambda x: tuple(x_.to(device) for x_ in default_collate(x)))\n",
        "    sim_scores=[]\n",
        "    comparison_scores = []\n",
        "\n",
        "    ### Your code here ###\n",
        "    for i, (src, trg) in enumerate(tqdm(dataloader)):\n",
        "        seq2seq.optimizer.zero_grad()\n",
        "        output = seq2seq(src, trg)\n",
        "        \n",
        "        loss = seq2seq.criterion(output, trg)\n",
        "        \n",
        "        loss.backward() # inputs=list(seq2seq.parameters())\n",
        "        \n",
        "        # torch.nn.utils.clip_grad_norm_(seq2seq.parameters(), clip)\n",
        "        \n",
        "        seq2seq.optimizer.step()\n",
        "        \n",
        "        epoch_loss += loss.item()\n",
        "        \n",
        "        if device == torch.device(\"cuda\"):\n",
        "          torch.cuda.empty_cache()\n",
        "        \n",
        "        # print(output.cpu().detach().numpy()[0])\n",
        "        # calculate r2 score (use [0] to reduce the dimension of the 3d numpy array to 2d)\n",
        "\n",
        "        # evaluation based on the baseline\n",
        "        src_arr = src.cpu().detach().numpy()[0] # (sequence length, two positions)\n",
        "        trg_arr = trg.cpu().detach().numpy()[0]\n",
        "        baseline = baseline_predict(src_arr,trg_arr)\n",
        "        cos_sim,comparison_score = get_score(output.cpu().detach().numpy()[0],baseline,trg_arr)\n",
        "        sim_scores.append(cos_sim)\n",
        "        comparison_scores.append(comparison_score)\n",
        "    \n",
        "    avg_sim_score = np.mean(sim_scores)\n",
        "    avg_comp_score = np.mean(comparison_scores)\n",
        "    return avg_sim_score, avg_comp_score, epoch_loss / len(dataloader)\n",
        "\n",
        "def evaluate(dataset):\n",
        "    epoch_loss = 0\n",
        "    seq2seq.eval()\n",
        "    dataloader = DataLoader(dataset, batch_size=BATCH_SIZE,collate_fn=lambda x: tuple(x_.to(device) for x_ in default_collate(x)))\n",
        "    sim_scores=[]\n",
        "    comparison_scores = []\n",
        "    with torch.no_grad():\n",
        "\n",
        "        for i, (src, trg) in enumerate(dataloader):\n",
        "\n",
        "            output = seq2seq(src, trg, 0) #turn off teacher forcing\n",
        "\n",
        "            loss = seq2seq.criterion(output, trg)\n",
        "            \n",
        "            epoch_loss += loss.item()\n",
        "\n",
        "            # evaluation based on the baseline\n",
        "            src_arr = src.cpu().detach().numpy()[0] # (sequence length, two positions)\n",
        "            trg_arr = trg.cpu().detach().numpy()[0]\n",
        "            baseline = baseline_predict(src_arr,trg_arr)\n",
        "            sim_score,comp_score = get_score(output.cpu().detach().numpy()[0],baseline,trg_arr)\n",
        "            sim_scores.append(sim_score)\n",
        "            comparison_scores.append(comp_score)\n",
        "            \n",
        "            if device == torch.device(\"cuda\"):\n",
        "              torch.cuda.empty_cache()\n",
        "\n",
        "        avg_sim_score = np.mean(sim_scores)\n",
        "        avg_comp_score = np.mean(comparison_scores)\n",
        "    \n",
        "    return avg_sim_score, avg_comp_score, epoch_loss / len(dataloader)\n",
        "\n",
        "\n",
        "best_valid_loss = float('inf')\n",
        "train_loss_list = []; \n",
        "val_loss_list = [];\n",
        "train_sim_scores,val_sim_scores,train_comp_scores,val_comp_scores=[],[],[],[]\n",
        "\n",
        "for epoch in range(N_EPOCHS):\n",
        "    \n",
        "    epoch_start_time = time.time()\n",
        "\n",
        "    train_sim_score,train_comp_score,train_loss = train(train_dataset)\n",
        "    val_sim_score,val_comp_score,val_loss = evaluate(valid_dataset)\n",
        "    train_sim_scores.append(train_sim_score)\n",
        "    val_sim_scores.append(val_sim_score)\n",
        "    train_comp_scores.append(train_comp_score)\n",
        "    val_comp_scores.append(val_comp_score)\n",
        "    \n",
        "    train_loss_list.append(train_loss)\n",
        "    val_loss_list.append(val_loss)\n",
        "    \n",
        "    if val_loss < best_valid_loss:\n",
        "        best_val_loss = val_loss\n",
        "        torch.save(seq2seq.state_dict(), 'p3_3-model.pt')\n",
        "    \n",
        "    print('-' * 76)\n",
        "    print('| end of epoch {:3d} | time: {:5.2f}s | '\n",
        "          'train loss {:8.3f} '\n",
        "          'valid loss {:8.3f} '.format(epoch,\n",
        "                                           time.time() - epoch_start_time, \n",
        "                                           train_loss_list[-1],\n",
        "                                           val_loss_list[-1]))\n",
        "    print('-' * 76)\n"
      ],
      "metadata": {
        "id": "hepsgprpnK5g",
        "colab": {
          "base_uri": "https://localhost:8080/"
        },
        "outputId": "e9435d44-ad09-4bc6-91b9-39c566df6c9b"
      },
      "id": "hepsgprpnK5g",
      "execution_count": 169,
      "outputs": [
        {
          "output_type": "stream",
          "name": "stderr",
          "text": [
            "100%|██████████| 150/150 [00:09<00:00, 15.18it/s]\n"
          ]
        },
        {
          "output_type": "stream",
          "name": "stdout",
          "text": [
            "----------------------------------------------------------------------------\n",
            "| end of epoch   0 | time: 11.39s | train loss    1.363 valid loss    1.352 \n",
            "----------------------------------------------------------------------------\n"
          ]
        },
        {
          "output_type": "stream",
          "name": "stderr",
          "text": [
            "100%|██████████| 150/150 [00:09<00:00, 15.27it/s]\n"
          ]
        },
        {
          "output_type": "stream",
          "name": "stdout",
          "text": [
            "----------------------------------------------------------------------------\n",
            "| end of epoch   1 | time: 11.31s | train loss    1.219 valid loss    1.433 \n",
            "----------------------------------------------------------------------------\n"
          ]
        }
      ]
    },
    {
      "cell_type": "markdown",
      "id": "c87278a2",
      "metadata": {
        "id": "c87278a2"
      },
      "source": [
        "## Evaluation"
      ]
    },
    {
      "cell_type": "code",
      "execution_count": 170,
      "id": "2cbb6137",
      "metadata": {
        "id": "2cbb6137"
      },
      "outputs": [],
      "source": [
        "def loss_evaluate(dataset):\n",
        "    epoch_loss = 0\n",
        "    seq2seq.eval()\n",
        "    dataloader = DataLoader(dataset, batch_size=BATCH_SIZE,collate_fn=lambda x: tuple(x_.to(device) for x_ in default_collate(x)))\n",
        "    baseline_losses = []\n",
        "    nn_losses = []\n",
        "    with torch.no_grad():\n",
        "\n",
        "        for i, (src, trg) in enumerate(dataloader):\n",
        "\n",
        "            output = seq2seq(src, trg, 0) #turn off teacher forcing\n",
        "\n",
        "            loss = seq2seq.criterion(output, trg)\n",
        "            nn_losses.append(loss)\n",
        "            \n",
        "            epoch_loss += loss.item()\n",
        "\n",
        "            # evaluation based on the baseline\n",
        "            src_arr = src.cpu().detach().numpy()[0] # (sequence length, two positions)\n",
        "            trg_arr = trg.cpu().detach().numpy()[0]\n",
        "            baseline = baseline_predict(src_arr,trg_arr)\n",
        "            # print(baseline.shape)\n",
        "            baseline_tensor = torch.from_numpy(baseline).to(device)\n",
        "            trg_squeeze=torch.squeeze(trg,0)\n",
        "            # baseline_tensor\n",
        "            # trg_squeeze.to(device)\n",
        "            baseline_loss = seq2seq.criterion(baseline_tensor, trg_squeeze)\n",
        "            # print(\"~~~~~~~~~~~~~~~~~~~~~~~~\")\n",
        "            baseline_losses.append(baseline_loss)\n",
        "            \n",
        "            if device == torch.device(\"cuda\"):\n",
        "              torch.cuda.empty_cache()\n",
        "\n",
        "        baseline_loss_mean = torch.mean(torch.stack(baseline_losses))\n",
        "        # baseline_loss_mean = torch.mean(baseline_loss)\n",
        "        nn_loss_mean = torch.mean(torch.stack(nn_losses))\n",
        "    return baseline_loss_mean, nn_loss_mean"
      ]
    },
    {
      "cell_type": "code",
      "execution_count": 171,
      "id": "2cf6f4b7",
      "metadata": {
        "id": "2cf6f4b7"
      },
      "outputs": [],
      "source": [
        "test_dataset = MyDataset(simulation_test, simulation_continued_test)\n",
        "test_sim_score,test_comp_score,test_loss = evaluate(test_dataset)"
      ]
    },
    {
      "cell_type": "code",
      "execution_count": 172,
      "id": "736c10d8",
      "metadata": {
        "id": "736c10d8"
      },
      "outputs": [],
      "source": [
        "baseline_loss_mean, nn_loss_mean = loss_evaluate(test_dataset)"
      ]
    },
    {
      "cell_type": "code",
      "source": [
        "print(baseline_loss_mean)\n",
        "print(nn_loss_mean)"
      ],
      "metadata": {
        "id": "t60XtwgJnazn",
        "colab": {
          "base_uri": "https://localhost:8080/"
        },
        "outputId": "6fc95851-4f8d-4be0-a2f8-926e44422eba"
      },
      "id": "t60XtwgJnazn",
      "execution_count": 173,
      "outputs": [
        {
          "output_type": "stream",
          "name": "stdout",
          "text": [
            "tensor(1.3877, device='cuda:0')\n",
            "tensor(1.4080, device='cuda:0')\n"
          ]
        }
      ]
    },
    {
      "cell_type": "code",
      "source": [
        "print(test_comp_score)"
      ],
      "metadata": {
        "id": "NpYkdzDFncs3",
        "colab": {
          "base_uri": "https://localhost:8080/"
        },
        "outputId": "ce1462bf-e7d9-4c8b-ca1c-b4db4d0a38c1"
      },
      "id": "NpYkdzDFncs3",
      "execution_count": 174,
      "outputs": [
        {
          "output_type": "stream",
          "name": "stdout",
          "text": [
            "1.19497\n"
          ]
        }
      ]
    },
    {
      "cell_type": "code",
      "source": [
        "### Plot the training/validation accuracy vs. epochs ###\n",
        "%pylab inline\n",
        "import matplotlib.pyplot as plt\n",
        "\n",
        "f, ax = plt.subplots(1, 1, figsize=(10,8))\n",
        "\n",
        "fnt=16\n",
        "ax.plot(train_loss_list, color='blue', label='Train')\n",
        "ax.plot(val_loss_list, color='red', linestyle='--', label='Val')\n",
        "ax.legend(fontsize=fnt)\n",
        "ax.tick_params(axis='both', labelsize=fnt)\n",
        "\n",
        "ax.set_xlabel(\"Epoch\", fontsize=fnt)\n",
        "ax.set_ylabel(\"Loss\", fontsize=fnt)"
      ],
      "metadata": {
        "id": "MADidObWnfPA",
        "colab": {
          "base_uri": "https://localhost:8080/",
          "height": 616
        },
        "outputId": "f9b664ca-33fc-4448-8b7c-cfe0d36c8ede"
      },
      "id": "MADidObWnfPA",
      "execution_count": 175,
      "outputs": [
        {
          "output_type": "stream",
          "name": "stdout",
          "text": [
            "Populating the interactive namespace from numpy and matplotlib\n"
          ]
        },
        {
          "output_type": "stream",
          "name": "stderr",
          "text": [
            "/usr/local/lib/python3.7/dist-packages/IPython/core/magics/pylab.py:161: UserWarning: pylab import has clobbered these variables: ['f', 'random']\n",
            "`%matplotlib` prevents importing * from pylab and numpy\n",
            "  \"\\n`%matplotlib` prevents importing * from pylab and numpy\"\n"
          ]
        },
        {
          "output_type": "execute_result",
          "data": {
            "text/plain": [
              "Text(0, 0.5, 'Loss')"
            ]
          },
          "metadata": {},
          "execution_count": 175
        },
        {
          "output_type": "display_data",
          "data": {
            "text/plain": [
              "<Figure size 720x576 with 1 Axes>"
            ],
            "image/png": "[encoded data removed]"
          },
          "metadata": {
            "needs_background": "light"
          }
        }
      ]
    },
    {
      "cell_type": "code",
      "source": [
        "\n",
        "### Plot the training/validation accuracy vs. epochs ###\n",
        "%pylab inline\n",
        "import matplotlib.pyplot as plt\n",
        "\n",
        "f, ax = plt.subplots(1, 1, figsize=(10,8))\n",
        "\n",
        "fnt=16\n",
        "ax.plot(train_sim_scores, color='blue', label='Train')\n",
        "ax.plot(val_sim_scores, color='red', linestyle='--', label='Val')\n",
        "ax.legend(fontsize=fnt)\n",
        "ax.tick_params(axis='both', labelsize=fnt)\n",
        "\n",
        "ax.set_xlabel(\"Epoch\", fontsize=fnt)\n",
        "ax.set_ylabel(\"Cosine similarity\", fontsize=fnt)"
      ],
      "metadata": {
        "id": "AvEOveJ0ni1H",
        "colab": {
          "base_uri": "https://localhost:8080/",
          "height": 619
        },
        "outputId": "7a6952b3-feba-4ee1-d8b0-ed8bbd57c0a5"
      },
      "id": "AvEOveJ0ni1H",
      "execution_count": 176,
      "outputs": [
        {
          "output_type": "stream",
          "name": "stdout",
          "text": [
            "Populating the interactive namespace from numpy and matplotlib\n"
          ]
        },
        {
          "output_type": "stream",
          "name": "stderr",
          "text": [
            "/usr/local/lib/python3.7/dist-packages/IPython/core/magics/pylab.py:161: UserWarning: pylab import has clobbered these variables: ['f']\n",
            "`%matplotlib` prevents importing * from pylab and numpy\n",
            "  \"\\n`%matplotlib` prevents importing * from pylab and numpy\"\n"
          ]
        },
        {
          "output_type": "execute_result",
          "data": {
            "text/plain": [
              "Text(0, 0.5, 'Cosine similarity')"
            ]
          },
          "metadata": {},
          "execution_count": 176
        },
        {
          "output_type": "display_data",
          "data": {
            "text/plain": [
              "<Figure size 720x576 with 1 Axes>"
            ],
            "image/png": "[encoded data removed]"
          },
          "metadata": {
            "needs_background": "light"
          }
        }
      ]
    },
    {
      "cell_type": "code",
      "source": [
        "### Plot the training/validation accuracy vs. epochs ###\n",
        "%pylab inline\n",
        "import matplotlib.pyplot as plt\n",
        "\n",
        "f, ax = plt.subplots(1, 1, figsize=(10,8))\n",
        "\n",
        "fnt=16\n",
        "ax.plot(train_comp_scores, color='blue', label='Train')\n",
        "ax.plot(val_comp_scores, color='red', linestyle='--', label='Val')\n",
        "ax.legend(fontsize=fnt)\n",
        "ax.tick_params(axis='both', labelsize=fnt)\n",
        "\n",
        "ax.set_xlabel(\"Epoch\", fontsize=fnt)\n",
        "ax.set_ylabel(\"Comparison scores\", fontsize=fnt)"
      ],
      "metadata": {
        "id": "5H6HN92MnmU2",
        "colab": {
          "base_uri": "https://localhost:8080/",
          "height": 616
        },
        "outputId": "f33276ea-042a-4c72-92e2-8414a16a652f"
      },
      "id": "5H6HN92MnmU2",
      "execution_count": 177,
      "outputs": [
        {
          "output_type": "stream",
          "name": "stdout",
          "text": [
            "Populating the interactive namespace from numpy and matplotlib\n"
          ]
        },
        {
          "output_type": "stream",
          "name": "stderr",
          "text": [
            "/usr/local/lib/python3.7/dist-packages/IPython/core/magics/pylab.py:161: UserWarning: pylab import has clobbered these variables: ['f']\n",
            "`%matplotlib` prevents importing * from pylab and numpy\n",
            "  \"\\n`%matplotlib` prevents importing * from pylab and numpy\"\n"
          ]
        },
        {
          "output_type": "execute_result",
          "data": {
            "text/plain": [
              "Text(0, 0.5, 'Comparison scores')"
            ]
          },
          "metadata": {},
          "execution_count": 177
        },
        {
          "output_type": "display_data",
          "data": {
            "text/plain": [
              "<Figure size 720x576 with 1 Axes>"
            ],
            "image/png": "[encoded data removed]"
          },
          "metadata": {
            "needs_background": "light"
          }
        }
      ]
    },
    {
      "cell_type": "code",
      "source": [
        "def get_test_inds(dataset):\n",
        "    seq2seq.eval()\n",
        "    dataloader = DataLoader(dataset, batch_size=BATCH_SIZE,collate_fn=lambda x: tuple(x_.to(device) for x_ in default_collate(x)))\n",
        "    loss_history = []\n",
        "    with torch.no_grad():\n",
        "\n",
        "        for i, (src, trg) in enumerate(dataloader):\n",
        "\n",
        "            output = seq2seq(src, trg, 0) #turn off teacher forcing\n",
        "\n",
        "            loss = seq2seq.criterion(output, trg)\n",
        "\n",
        "            loss_history.append(loss.cpu())\n",
        "            \n",
        "            if device == torch.device(\"cuda\"):\n",
        "              torch.cuda.empty_cache()\n",
        "    worst_inds= np.argpartition(loss_history,-5)[-5:]\n",
        "    best_inds= np.argpartition(loss_history, 5)[:5]\n",
        "    \n",
        "    return best_inds,worst_inds"
      ],
      "metadata": {
        "id": "_cSElFDWnpRo"
      },
      "id": "_cSElFDWnpRo",
      "execution_count": 178,
      "outputs": []
    },
    {
      "cell_type": "code",
      "source": [
        "test_dataset = MyDataset(simulation_test, simulation_continued_test)\n",
        "best_inds,worst_inds = get_test_inds(test_dataset)"
      ],
      "metadata": {
        "id": "IiK8hnKxnrQ7"
      },
      "id": "IiK8hnKxnrQ7",
      "execution_count": 179,
      "outputs": []
    },
    {
      "cell_type": "code",
      "source": [
        "for best_i in best_inds:\n",
        "  plot_example(simulation_test[best_i], simulation_continued_test[best_i])\n",
        "  print(f'Example with lowest loss: Charges are {charges_train[best_i]}')"
      ],
      "metadata": {
        "id": "BBo5nz82ntCJ",
        "colab": {
          "base_uri": "https://localhost:8080/",
          "height": 1000
        },
        "outputId": "ce859f72-6258-4c98-ac2d-5f5b992751fb"
      },
      "id": "BBo5nz82ntCJ",
      "execution_count": 180,
      "outputs": [
        {
          "output_type": "display_data",
          "data": {
            "text/plain": [
              "<Figure size 360x360 with 1 Axes>"
            ],
            "image/png": "[encoded data removed]"
          },
          "metadata": {
            "needs_background": "light"
          }
        },
        {
          "output_type": "stream",
          "name": "stdout",
          "text": [
            "Example with lowest loss: Charges are [-0.01904122 -0.20077435 -0.36067369]\n"
          ]
        },
        {
          "output_type": "display_data",
          "data": {
            "text/plain": [
              "<Figure size 360x360 with 1 Axes>"
            ],
            "image/png": "[encoded data removed]"
          },
          "metadata": {
            "needs_background": "light"
          }
        },
        {
          "output_type": "stream",
          "name": "stdout",
          "text": [
            "Example with lowest loss: Charges are [-0.1399828  -0.60077349 -0.94377978]\n"
          ]
        },
        {
          "output_type": "display_data",
          "data": {
            "text/plain": [
              "<Figure size 360x360 with 1 Axes>"
            ],
            "image/png": "[encoded data removed]"
          },
          "metadata": {
            "needs_background": "light"
          }
        },
        {
          "output_type": "stream",
          "name": "stdout",
          "text": [
            "Example with lowest loss: Charges are [-0.19566214 -0.50865248 -0.61905666]\n"
          ]
        },
        {
          "output_type": "display_data",
          "data": {
            "text/plain": [
              "<Figure size 360x360 with 1 Axes>"
            ],
            "image/png": "[encoded data removed]"
          },
          "metadata": {
            "needs_background": "light"
          }
        },
        {
          "output_type": "stream",
          "name": "stdout",
          "text": [
            "Example with lowest loss: Charges are [-0.52714657 -0.93753794 -0.78466797]\n"
          ]
        },
        {
          "output_type": "display_data",
          "data": {
            "text/plain": [
              "<Figure size 360x360 with 1 Axes>"
            ],
            "image/png": "[encoded data removed]"
          },
          "metadata": {
            "needs_background": "light"
          }
        },
        {
          "output_type": "stream",
          "name": "stdout",
          "text": [
            "Example with lowest loss: Charges are [-0.35424691 -0.55251781 -0.59553632]\n"
          ]
        }
      ]
    },
    {
      "cell_type": "code",
      "source": [
        "for worst_i in worst_inds:\n",
        "  plot_example(simulation_test[worst_i], simulation_continued_test[worst_i])\n",
        "  print(f'Example with highest loss:Charges are {charges_train[worst_i]}')"
      ],
      "metadata": {
        "id": "rNCOky8-nvsI",
        "colab": {
          "base_uri": "https://localhost:8080/",
          "height": 1000
        },
        "outputId": "e207d7c6-ed75-469c-daf6-702fa0eaa8ce"
      },
      "id": "rNCOky8-nvsI",
      "execution_count": 181,
      "outputs": [
        {
          "output_type": "display_data",
          "data": {
            "text/plain": [
              "<Figure size 360x360 with 1 Axes>"
            ],
            "image/png": "[encoded data removed]"
          },
          "metadata": {
            "needs_background": "light"
          }
        },
        {
          "output_type": "stream",
          "name": "stdout",
          "text": [
            "Example with highest loss:Charges are [-0.98451836 -0.1667747  -0.34789858]\n"
          ]
        },
        {
          "output_type": "display_data",
          "data": {
            "text/plain": [
              "<Figure size 360x360 with 1 Axes>"
            ],
            "image/png": "[encoded data removed]"
          },
          "metadata": {
            "needs_background": "light"
          }
        },
        {
          "output_type": "stream",
          "name": "stdout",
          "text": [
            "Example with highest loss:Charges are [-0.9355202  -0.96350592 -0.81551009]\n"
          ]
        },
        {
          "output_type": "display_data",
          "data": {
            "text/plain": [
              "<Figure size 360x360 with 1 Axes>"
            ],
            "image/png": "[encoded data removed]"
          },
          "metadata": {
            "needs_background": "light"
          }
        },
        {
          "output_type": "stream",
          "name": "stdout",
          "text": [
            "Example with highest loss:Charges are [-0.81015605 -0.67512385 -0.16594701]\n"
          ]
        },
        {
          "output_type": "display_data",
          "data": {
            "text/plain": [
              "<Figure size 360x360 with 1 Axes>"
            ],
            "image/png": "[encoded data removed]"
          },
          "metadata": {
            "needs_background": "light"
          }
        },
        {
          "output_type": "stream",
          "name": "stdout",
          "text": [
            "Example with highest loss:Charges are [-0.27367139 -0.9003474  -0.82114085]\n"
          ]
        },
        {
          "output_type": "display_data",
          "data": {
            "text/plain": [
              "<Figure size 360x360 with 1 Axes>"
            ],
            "image/png": "[encoded data removed]"
          },
          "metadata": {
            "needs_background": "light"
          }
        },
        {
          "output_type": "stream",
          "name": "stdout",
          "text": [
            "Example with highest loss:Charges are [-0.9614639  -0.92906296 -0.52035079]\n"
          ]
        }
      ]
    }
  ],
  "metadata": {
    "interpreter": {
      "hash": "03ecf2e7042493b74b34da632991795d74d67f5f38cd7be890be15e8a40dafbc"
    },
    "kernelspec": {
      "display_name": "Python 3.8.8 ('torch')",
      "language": "python",
      "name": "python3"
    },
    "language_info": {
      "codemirror_mode": {
        "name": "ipython",
        "version": 3
      },
      "file_extension": ".py",
      "mimetype": "text/x-python",
      "name": "python",
      "nbconvert_exporter": "python",
      "pygments_lexer": "ipython3",
      "version": "3.8.8"
    },
    "colab": {
      "name": "Copy of A3_1.ipynb",
      "provenance": [],
      "collapsed_sections": [],
      "toc_visible": true,
      "include_colab_link": true
    },
    "accelerator": "GPU",
    "gpuClass": "standard"
  },
  "nbformat": 4,
  "nbformat_minor": 5
}