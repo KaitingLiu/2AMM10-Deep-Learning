{
 "cells": [
  {
   "cell_type": "markdown",
   "id": "963690b2",
   "metadata": {},
   "source": [
    "<a href=\"https://colab.research.google.com/github/vlamen/tue-deeplearning/blob/main/assignments/assignment_2_3/a3_skeleton.ipynb\" target=\"_parent\"><img src=\"https://colab.research.google.com/assets/colab-badge.svg\" alt=\"Open In Colab\"/></a>"
   ]
  },
  {
   "cell_type": "markdown",
   "id": "bd8459f1",
   "metadata": {},
   "source": [
    "# Group Number:\n",
    "\n",
    "# Student 1:\n",
    "\n",
    "# Student 2:\n",
    "\n",
    "# Student 3:"
   ]
  },
  {
   "cell_type": "markdown",
   "id": "dde28458",
   "metadata": {},
   "source": [
    "# Downloading Data and Preliminaries"
   ]
  },
  {
   "cell_type": "code",
   "execution_count": 1,
   "id": "7d0580a5",
   "metadata": {},
   "outputs": [],
   "source": [
    "import pickle\n",
    "import matplotlib.pyplot as plt\n",
    "import matplotlib\n",
    "import numpy as np\n",
    "\n",
    "from zipfile import ZipFile\n",
    "import requests\n",
    "import io\n",
    "import tqdm\n",
    "import torch\n",
    "from torch.utils.data import DataLoader"
   ]
  },
  {
   "cell_type": "code",
   "execution_count": 2,
   "id": "8ce00edc",
   "metadata": {},
   "outputs": [],
   "source": [
    "def load_zip(url):\n",
    "    response = requests.get(url)\n",
    "    response.raise_for_status()\n",
    "    zipf = ZipFile(io.BytesIO(response.content))\n",
    "    return {name: zipf.read(name) for name in zipf.namelist()}\n",
    "\n",
    "def load_pickle(zipfile, fn):\n",
    "    return pickle.load(io.BytesIO(zipfile[fn]))"
   ]
  },
  {
   "cell_type": "code",
   "execution_count": 3,
   "id": "bb77a4be",
   "metadata": {},
   "outputs": [],
   "source": [
    "data = load_zip('https://surfdrive.surf.nl/files/index.php/s/cwqGaS22KXgnXtg/download')\n",
    "\n",
    "    \n",
    "\"\"\"\n",
    "simulation_{train, valid, test} is stored as a list of simulations. \n",
    "Each simulation is a numpy array of size (t, 2): For t timesteps an x and y coordinate of our particle.\n",
    "\"\"\"\n",
    "simulation_train = load_pickle(data, 'data/train/simulation.pickle')  # 3.1 + 3.2\n",
    "simulation_valid = load_pickle(data, 'data/valid/simulation.pickle')  # 3.1 + 3.2\n",
    "simulation_test = load_pickle(data, 'data/test/simulation.pickle')  # 3.1 + 3.2\n",
    "\n",
    "\"\"\"\n",
    "charges_{train, valid, test} is stored as a list of simulation-charges. \n",
    "These charges are stored as numpy arrays of size (3,): One value for each charge.\n",
    "\"\"\"\n",
    "charges_train = load_pickle(data, 'data/train/charges.pickle')  # 3.1\n",
    "charges_valid = load_pickle(data, 'data/valid/charges.pickle')  # 3.1\n",
    "charges_test = load_pickle(data, 'data/test/charges.pickle')  # 3.1\n",
    "\n",
    "\"\"\"\n",
    "simulation_continued_{train, valid, test} is stored as a list of simulations. \n",
    "Each simulation is a numpy array of size (t, 2): For t timesteps an x and y coordinate of our particle.\n",
    "\"\"\"\n",
    "simulation_continued_train = load_pickle(data, 'data/train/simulation_continued.pickle')  # 3.2\n",
    "simulation_continued_valid = load_pickle(data, 'data/valid/simulation_continued.pickle')  # 3.2\n",
    "simulation_continued_test = load_pickle(data, 'data/test/simulation_continued.pickle')  # 3.2\n",
    "\n",
    "\"\"\"\n",
    "Note that the indices are shared throughout the different lists, e.g., for the 4th training simulation:\n",
    "simulation_train[3] contains its initial simulation\n",
    "charges_train[3] contains the charges associated with the simulation\n",
    "simulation_continued_train[3] contains the continuation of the simulation \n",
    "                --> simulation_continued_train[3][0] is the state after simulation_train[3][-1]\n",
    "\"\"\"\n",
    "pass"
   ]
  },
  {
   "cell_type": "code",
   "execution_count": 4,
   "id": "10a3438a",
   "metadata": {},
   "outputs": [
    {
     "name": "stdout",
     "output_type": "stream",
     "text": [
      "Overview of no. datapoints:\n",
      "\n",
      "Task 3.1:\n",
      "800 train, 100 validation, 100 test simulations\n",
      "800 train, 100 validation, 100 test charge pairs\n",
      "\n",
      "Task 3.2:\n",
      "Since len(simulation_continued_train) < len(simulation_train), we can only use a subset of initial simulations\n",
      "We cut simulation_train down to the first 150 samples in simulation_train_task32\n",
      "150 train, 100 validation, 100 test simulations\n",
      "150 train, 100 validation, 100 test continuations\n",
      "\n",
      "For task 3.1, use:\n",
      "simulation_train + charges_train\n",
      "simulation_valid + charges_valid\n",
      "simulation_test + charges_test\n",
      "\n",
      "For task 3.2, use:\n",
      "simulation_train_task32 + simulation_continued_train\n",
      "simulation_valid + simulation_continued_valid\n",
      "simulation_test + simulation_continued_test\n",
      "\n"
     ]
    }
   ],
   "source": [
    "print('Overview of no. datapoints:\\n')\n",
    "\n",
    "print('Task 3.1:')\n",
    "print(f'{len(simulation_train)} train, {len(simulation_valid)} validation, {len(simulation_test)} test simulations')\n",
    "print(f'{len(charges_train)} train, {len(charges_valid)} validation, {len(charges_test)} test charge pairs')\n",
    "print()\n",
    "\n",
    "print('Task 3.2:')\n",
    "print('Since len(simulation_continued_train) < len(simulation_train), we can only use a subset of initial simulations')\n",
    "print('We cut simulation_train down to the first 150 samples in simulation_train_task32')\n",
    "simulation_train_task32 = simulation_train[:150]\n",
    "print(f'{len(simulation_train_task32)} train, {len(simulation_valid)} validation, {len(simulation_test)} test simulations')\n",
    "print(f'{len(simulation_continued_train)} train, {len(simulation_continued_valid)} validation, {len(simulation_continued_test)} test continuations')\n",
    "\n",
    "print(f\"\"\"\n",
    "For task 3.1, use:\n",
    "{chr(10).join([\"simulation_{} + charges_{}\".format(t, t) for t in [\"train\", \"valid\", \"test\"]])}\n",
    "\n",
    "For task 3.2, use:\n",
    "{chr(10).join([\"simulation_{} + simulation_continued_{}\".format(*((t[0], t[1]) if isinstance(t, tuple) else (t, t))) for t in [(\"train_task32\", \"train\"), \"valid\", \"test\"]])}\n",
    "\"\"\")\n"
   ]
  },
  {
   "cell_type": "code",
   "execution_count": 5,
   "id": "3cfafdb3",
   "metadata": {},
   "outputs": [
    {
     "name": "stdout",
     "output_type": "stream",
     "text": [
      "Print some shapes:\n",
      "\n",
      "simulation_train[0].shape: (103, 2) -> (t, 2), (x, y) at every t)\n",
      "charges_train[0].shape: (3,) -> charges for the simulation\n",
      "simulation_continued_train[0].shape: (54, 2) -> (t, 2), (x, y) at every t)\n",
      "----\n",
      "\n",
      "simulation_train[1].shape: (97, 2) -> (t, 2), (x, y) at every t)\n",
      "charges_train[1].shape: (3,) -> charges for the simulation\n",
      "simulation_continued_train[1].shape: (45, 2) -> (t, 2), (x, y) at every t)\n",
      "----\n",
      "\n",
      "simulation_train[2].shape: (99, 2) -> (t, 2), (x, y) at every t)\n",
      "charges_train[2].shape: (3,) -> charges for the simulation\n",
      "simulation_continued_train[2].shape: (47, 2) -> (t, 2), (x, y) at every t)\n",
      "----\n",
      "\n"
     ]
    }
   ],
   "source": [
    "print('Print some shapes:\\n')\n",
    "for i in range(3):\n",
    "    print('simulation_train[{}].shape:'.format(i), simulation_train[i].shape, '-> (t, 2), (x, y) at every t)')\n",
    "    print('charges_train[{}].shape:'.format(i), charges_train[i].shape, '-> charges for the simulation')\n",
    "    print('simulation_continued_train[{}].shape:'.format(i), simulation_continued_train[i].shape, '-> (t, 2), (x, y) at every t)')\n",
    "    print('----\\n')"
   ]
  },
  {
   "cell_type": "code",
   "execution_count": 6,
   "id": "34a450a6",
   "metadata": {},
   "outputs": [
    {
     "name": "stdout",
     "output_type": "stream",
     "text": [
      "(103, 2) <class 'list'> [-2.35932245  0.06356978]\n",
      "800\n"
     ]
    }
   ],
   "source": [
    "print(np.shape(simulation_train[0]),type(simulation_train),simulation_train[0][0])\n",
    "print(len(simulation_train))"
   ]
  },
  {
   "cell_type": "code",
   "execution_count": 7,
   "id": "f9106543",
   "metadata": {},
   "outputs": [],
   "source": [
    "def plot_example(x, x_gt=None, x_pred=None, fn=None):\n",
    "    charge_locations = np.array([[-1.53846154, -1.53846154],\n",
    "                                 [ 1.53846154, -1.53846154],\n",
    "                                 [ 0.        ,  1.53846154]])  # charge locations are fixed\n",
    "    fig = plt.figure()\n",
    "    axes = plt.gca()\n",
    "    axes.set_xlim([-5., 5.])\n",
    "    axes.set_ylim([-5., 5.])\n",
    "    cmap = matplotlib.cm.get_cmap('tab20')\n",
    "    plt.plot(x[:, 0], x[:, 1], color=cmap(0))\n",
    "    plt.plot(x[0, 0], x[0, 1], 'd', color=cmap(1))\n",
    "    fig.set_size_inches(5, 5)\n",
    "    for charge in charge_locations:\n",
    "        plt.plot(charge[0], charge[1], 'd', color='black')\n",
    "    if x_gt is not None:\n",
    "        plt.plot(x_gt[:, 0], x_gt[:, 1], color='red', linewidth=.5)\n",
    "    if x_pred is not None:\n",
    "        plt.plot(x_pred[:, 0], x_pred[:, 1], color='green', linestyle='--')\n",
    "    if fn is None:\n",
    "        plt.show()\n",
    "    else:\n",
    "        plt.savefig(fn)"
   ]
  },
  {
   "cell_type": "code",
   "execution_count": 8,
   "id": "d28681a6",
   "metadata": {},
   "outputs": [
    {
     "data": {
      "image/png": "[encoded data removed]",
      "text/plain": [
       "<Figure size 360x360 with 1 Axes>"
      ]
     },
     "metadata": {
      "needs_background": "light"
     },
     "output_type": "display_data"
    },
    {
     "name": "stdout",
     "output_type": "stream",
     "text": [
      "Charges are [-0.32460314 -0.9300729  -0.42592891]\n"
     ]
    }
   ],
   "source": [
    "test_idx = np.random.randint(150)\n",
    "plot_example(simulation_train[test_idx], simulation_continued_train[test_idx])\n",
    "print(f'Charges are {charges_train[test_idx]}')"
   ]
  },
  {
   "cell_type": "markdown",
   "id": "883762b1",
   "metadata": {},
   "source": [
    "# Task 3.1"
   ]
  },
  {
   "cell_type": "markdown",
   "id": "4c1ddabe",
   "metadata": {},
   "source": [
    "## Data Handling and Preprocessing"
   ]
  },
  {
   "cell_type": "code",
   "execution_count": 9,
   "id": "53253361",
   "metadata": {},
   "outputs": [],
   "source": [
    "# train_tokenized = [(torch.tensor(simulation_train[i][:,0], dtype=torch.int64), \n",
    "#                     torch.tensor(charges_train[i], dtype=torch.int64)) \n",
    "#                     for i in range(len(simulation_train))]\n",
    "# test_tokenized = [(torch.tensor(simulation_train[i][:,0], dtype=torch.int64), \n",
    "#                     torch.tensor(charges_train[i], dtype=torch.int64)) \n",
    "#                     for i in range(len(simulation_train))]\n",
    "train_tokenized = [(torch.tensor(simulation_train[i]), \n",
    "                    torch.tensor(charges_train[i])) \n",
    "                    for i in range(len(simulation_train))]\n",
    "test_tokenized = [(torch.tensor(simulation_test[i]), \n",
    "                    torch.tensor(charges_test[i])) \n",
    "                    for i in range(len(simulation_test))]"
   ]
  },
  {
   "cell_type": "code",
   "execution_count": 10,
   "id": "d0db1197",
   "metadata": {},
   "outputs": [],
   "source": [
    "train_dataloader = DataLoader(train_tokenized, batch_size=1)\n",
    "test_dataloader = DataLoader(test_tokenized, batch_size=1)"
   ]
  },
  {
   "cell_type": "code",
   "execution_count": 11,
   "id": "bd9df856",
   "metadata": {},
   "outputs": [],
   "source": [
    "from torch.utils.data import DataLoader\n",
    "from torch.nn.utils.rnn import pad_sequence\n",
    "\n",
    "def collate_batch(batch):\n",
    "    \"\"\"\n",
    "    Concatenate multiple datapoints to obtain a single batch of data\n",
    "    \"\"\"\n",
    "    # sentences are stored as tuples; get respective lists\n",
    "    batch.sort(key=lambda x: len(x[0]), reverse=True)\n",
    "    sim_list = [x[0] for x in batch]\n",
    "    data_length = [len(x[0]) for x in batch]\n",
    "    charge_list = [x[1] for x in batch]\n",
    "\n",
    "    # pad sequences in batch\n",
    "    sim_padded = pad_sequence(sequences = sim_list, \n",
    "                             batch_first = True, \n",
    "                             padding_value = 0)\n",
    "    charge_padded = pad_sequence(sequences = charge_list, \n",
    "                             batch_first = True, \n",
    "                             padding_value = 0)\n",
    "\n",
    "    # return source (DE) and target sequences (EN) after transferring them to GPU (if available)\n",
    "    return sim_padded, charge_padded, data_length"
   ]
  },
  {
   "cell_type": "code",
   "execution_count": 12,
   "id": "5a73bf1a",
   "metadata": {},
   "outputs": [],
   "source": [
    "data_loader = DataLoader(train_tokenized, batch_size=3, shuffle=True, \n",
    "                             collate_fn=collate_batch)\n",
    "# batch_x, batch_y, batch_len = iter(data_loader).next()\n",
    "# print(batch_x.size(), batch_y.size(), batch_len)\n",
    "# batch_x_pack = torch.nn.utils.rnn.pack_padded_sequence(batch_x, \n",
    "#                                                  batch_len, batch_first=True)"
   ]
  },
  {
   "cell_type": "markdown",
   "id": "cc8853f6",
   "metadata": {},
   "source": [
    "## Model Implementation"
   ]
  },
  {
   "cell_type": "code",
   "execution_count": 13,
   "id": "52f771c9",
   "metadata": {},
   "outputs": [],
   "source": [
    "from torch import nn\n",
    "\n",
    "class RNNClassificationModel(nn.Module):\n",
    "\n",
    "    def __init__(self, embed_dim, n_layers, hidden_dim):\n",
    "        super(RNNClassificationModel, self).__init__()\n",
    "        \n",
    "        # save some parameters\n",
    "        self.n_layers = n_layers\n",
    "        self.embed_dim = embed_dim\n",
    "        \n",
    "        #self.word_embeddings = nn.Embedding(vocab_size, embed_dim)\n",
    "        \n",
    "        self.rnn = nn.LSTM(embed_dim, hidden_dim, n_layers, batch_first=True)\n",
    "        \n",
    "        self.fc1 = nn.Linear(hidden_dim, hidden_dim)\n",
    "        #make output in [-1,0]\n",
    "        self.fc2 = nn.Linear(hidden_dim, 3)\n",
    "        \n",
    "        self.drop = nn.Dropout(p=0.5)\n",
    "        \n",
    "        self.criterion = nn.MSELoss()\n",
    "        \n",
    "        self.optimizer = torch.optim.Adam(self.parameters())\n",
    "        \n",
    "\n",
    "    def forward(self, seq):\n",
    "        \n",
    "        # input shapes:\n",
    "        # text: [batch_size, max. sequence length in batch]\n",
    "        \n",
    "        \n",
    "        # embed sequences with word embedding\n",
    "        # shape [batch_size, max. sequence length in batch, embed_dim]\n",
    "        h = seq.float()    \n",
    "    \n",
    "        # Feed packed input sequence to lstm \n",
    "        out, (hidden, _) = self.rnn(h)\n",
    "        \n",
    "        # retrieve final hidden output of last timestep for each sequence\n",
    "        # shape [batch_size, hidden_dim]\n",
    "        last_timestep = out[:,-1]\n",
    "        \n",
    "        # apply dropout\n",
    "        last_timestep = self.drop(last_timestep)\n",
    "        \n",
    "        # feed lstm output to MLP, apply ReLU nonlinearity\n",
    "        # shape [batch_size, hidden_dim]\n",
    "        h = self.drop(self.fc1(last_timestep))\n",
    "        h = nn.ReLU()(h)\n",
    "        \n",
    "        # shape [batch_size, num_classes]\n",
    "        y_pred = self.fc2(h)\n",
    "    \n",
    "        return y_pred\n"
   ]
  },
  {
   "cell_type": "code",
   "execution_count": 23,
   "id": "76e1f438",
   "metadata": {},
   "outputs": [],
   "source": [
    "from torch import nn\n",
    "\n",
    "class RNNClassificationModel(nn.Module):\n",
    "\n",
    "    def __init__(self, embed_dim, n_layers, hidden_dim):\n",
    "        super(RNNClassificationModel, self).__init__()\n",
    "        \n",
    "        # save some parameters\n",
    "        self.n_layers = n_layers\n",
    "        self.embed_dim = embed_dim\n",
    "\n",
    "        self.input_embedding_layer = nn.Linear(2, self.embed_dim)\n",
    "        \n",
    "        #self.word_embeddings = nn.Embedding(vocab_size, embed_dim)\n",
    "        \n",
    "        self.rnn = nn.LSTM(embed_dim, hidden_dim, n_layers, batch_first=True)\n",
    "        \n",
    "        self.fc1 = nn.Linear(hidden_dim, hidden_dim)\n",
    "        #make output in [-1,0]\n",
    "        self.fc2 = nn.Linear(hidden_dim, 3)\n",
    "        \n",
    "        self.drop = nn.Dropout(p=0.5)\n",
    "        \n",
    "        self.criterion = nn.MSELoss()\n",
    "        \n",
    "        self.optimizer = torch.optim.Adam(self.parameters(),lr=1e-4)\n",
    "        \n",
    "\n",
    "    def forward(self, seq, seq_length):\n",
    "        \n",
    "        # input shapes:\n",
    "        # text: [batch_size, max. sequence length in batch]\n",
    "        \n",
    "        \n",
    "        # embed sequences with word embedding\n",
    "        # shape [batch_size, max. sequence length in batch, embed_dim]\n",
    "        seq = seq.float() \n",
    "        h = self.input_embedding_layer(seq)\n",
    "\n",
    "        packed_h = torch.nn.utils.rnn.pack_padded_sequence(h, seq_length, batch_first=True,enforce_sorted=False)\n",
    "    \n",
    "        # Feed packed input sequence to lstm \n",
    "        out, (hidden, _) = self.rnn(packed_h)\n",
    "        \n",
    "        # Original unpadded length\n",
    "        unpacked, unpacked_len = torch.nn.utils.rnn.pad_packed_sequence(out, batch_first=True)\n",
    "        # retrieve final hidden output of last timestep for each sequence\n",
    "        # shape [batch_size, hidden_dim]\n",
    "        indices = torch.LongTensor(np.array(unpacked_len) - 1).view(-1, 1).expand(unpacked.size(0), unpacked.size(2)).unsqueeze(1)\n",
    "        last_timestep = unpacked.gather(dim=1, index=indices).squeeze(dim=1)\n",
    "        \n",
    "        # apply dropout\n",
    "        last_timestep = self.drop(last_timestep)\n",
    "        \n",
    "        # feed lstm output to MLP, apply ReLU nonlinearity\n",
    "        # shape [batch_size, hidden_dim]\n",
    "        h = self.drop(self.fc1(last_timestep))\n",
    "        h = nn.ReLU()(h)\n",
    "        \n",
    "        # shape [batch_size, num_classes]\n",
    "        y_pred = self.fc2(h)\n",
    "    \n",
    "        return y_pred\n"
   ]
  },
  {
   "cell_type": "markdown",
   "id": "0e443b7f",
   "metadata": {},
   "source": [
    "## Model Training"
   ]
  },
  {
   "cell_type": "code",
   "execution_count": 29,
   "id": "c29f660c",
   "metadata": {},
   "outputs": [],
   "source": [
    "model = RNNClassificationModel(embed_dim=64, \n",
    "                               n_layers = 1, \n",
    "                               hidden_dim=128)"
   ]
  },
  {
   "cell_type": "code",
   "execution_count": 16,
   "id": "165f1253",
   "metadata": {},
   "outputs": [],
   "source": [
    "test_dataloader = DataLoader(test_tokenized, batch_size=1)"
   ]
  },
  {
   "cell_type": "code",
   "execution_count": 17,
   "id": "5bbf9c51",
   "metadata": {},
   "outputs": [],
   "source": [
    "train_dataloader = DataLoader(train_tokenized, batch_size=3, shuffle=True, \n",
    "                             collate_fn=collate_batch)\n",
    "\n",
    "# batch_x, y_true, batch_len=next(iter((train_dataloader)))\n",
    "\n",
    "# text_batch = torch.nn.utils.rnn.pack_padded_sequence(batch_x, \n",
    "#                                             batch_len, batch_first=True)"
   ]
  },
  {
   "cell_type": "code",
   "execution_count": 30,
   "id": "b32ae5b4",
   "metadata": {},
   "outputs": [],
   "source": [
    "import time\n",
    "from torch.nn.functional import softmax\n",
    "\n",
    "def train(dataloader):\n",
    "\n",
    "    rmse_losses = []\n",
    "    mse_losses = []\n",
    "    \n",
    "    model.train()\n",
    "    \n",
    "    total_acc, total_count = 0, 0\n",
    "    start_time = time.time()\n",
    "    for (batch_x, y_true, batch_len) in tqdm.tqdm(dataloader):\n",
    "                \n",
    "        model.optimizer.zero_grad()\n",
    "\n",
    "        y_true = y_true.to(torch.float32)\n",
    "        \n",
    "        y_pred = model(batch_x,batch_len) #shape (batch_size, num_classes) \n",
    "\n",
    "        #y_class = y_pred.argmax(dim=-1) \n",
    "        \n",
    "#         y_prob = softmax(y_pred, dim=-1)  #alternatively, one can assign probabilities to each class with softmax activation\n",
    "        \n",
    "        mse_loss = model.criterion(y_pred, y_true)\n",
    "        mse_losses.append(mse_loss.item())\n",
    "        rmse_loss = torch.sqrt(model.criterion(y_pred, y_true))\n",
    "\n",
    "        rmse_losses.append(rmse_loss.item())\n",
    "        \n",
    "        mse_loss.backward()\n",
    "        \n",
    "        torch.nn.utils.clip_grad_norm_(model.parameters(), 0.1)\n",
    "        \n",
    "        model.optimizer.step()\n",
    "        \n",
    "        \n",
    "        \n",
    "        #total_acc += (y_class == y_true).sum().item()\n",
    "        #total_count += y_true.size(0)\n",
    "        \n",
    "  \n",
    "            \n",
    "    return mse_losses, rmse_losses\n",
    "\n",
    "def evaluate(dataloader):\n",
    "    \n",
    "    rmse_losses = []\n",
    "    mse_losses = []\n",
    "\n",
    "    model.eval()\n",
    "    total_acc, total_count = 0, 0\n",
    "\n",
    "    with torch.no_grad():\n",
    "        for idx, (batch_x, y_true, batch_len) in enumerate(dataloader):\n",
    "            \n",
    "            y_pred = model(batch_x,batch_len) #shape (batch_size, num_classes) \n",
    "            \n",
    "            #y_class = y_pred.argmax(dim=-1) \n",
    "            \n",
    "#             y_prob = softmax(y_pred, dim=-1)  #alternatively, one can assign probabilities to each class with softmax activation\n",
    "            \n",
    "            mse_loss = model.criterion(y_pred, y_true)\n",
    "            mse_losses.append(mse_loss.item())\n",
    "            rmse_loss = torch.sqrt(model.criterion(y_pred, y_true))\n",
    "\n",
    "            rmse_losses.append(rmse_loss.item())\n",
    "\n",
    "            \n",
    "            #total_acc += (y_class == y_true).sum().item()\n",
    "            #total_count += y_true.size(0)\n",
    "\n",
    "    return mse_losses, rmse_losses"
   ]
  },
  {
   "cell_type": "code",
   "execution_count": 31,
   "id": "b3b5b766",
   "metadata": {},
   "outputs": [
    {
     "name": "stderr",
     "output_type": "stream",
     "text": [
      "100%|██████████| 100/100 [00:10<00:00,  9.75it/s]\n"
     ]
    },
    {
     "name": "stdout",
     "output_type": "stream",
     "text": [
      "-----------------------------------------------------------\n"
     ]
    },
    {
     "name": "stderr",
     "output_type": "stream",
     "text": [
      "100%|██████████| 100/100 [00:08<00:00, 11.53it/s]\n"
     ]
    },
    {
     "name": "stdout",
     "output_type": "stream",
     "text": [
      "-----------------------------------------------------------\n"
     ]
    },
    {
     "name": "stderr",
     "output_type": "stream",
     "text": [
      "100%|██████████| 100/100 [00:12<00:00,  7.84it/s]\n"
     ]
    },
    {
     "name": "stdout",
     "output_type": "stream",
     "text": [
      "-----------------------------------------------------------\n"
     ]
    },
    {
     "name": "stderr",
     "output_type": "stream",
     "text": [
      "100%|██████████| 100/100 [00:10<00:00,  9.96it/s]\n"
     ]
    },
    {
     "name": "stdout",
     "output_type": "stream",
     "text": [
      "-----------------------------------------------------------\n"
     ]
    },
    {
     "name": "stderr",
     "output_type": "stream",
     "text": [
      "100%|██████████| 100/100 [00:08<00:00, 11.58it/s]\n"
     ]
    },
    {
     "name": "stdout",
     "output_type": "stream",
     "text": [
      "-----------------------------------------------------------\n"
     ]
    },
    {
     "name": "stderr",
     "output_type": "stream",
     "text": [
      "100%|██████████| 100/100 [00:08<00:00, 11.28it/s]\n"
     ]
    },
    {
     "name": "stdout",
     "output_type": "stream",
     "text": [
      "-----------------------------------------------------------\n"
     ]
    },
    {
     "name": "stderr",
     "output_type": "stream",
     "text": [
      "100%|██████████| 100/100 [00:08<00:00, 11.57it/s]\n"
     ]
    },
    {
     "name": "stdout",
     "output_type": "stream",
     "text": [
      "-----------------------------------------------------------\n"
     ]
    },
    {
     "name": "stderr",
     "output_type": "stream",
     "text": [
      "100%|██████████| 100/100 [00:10<00:00,  9.60it/s]\n"
     ]
    },
    {
     "name": "stdout",
     "output_type": "stream",
     "text": [
      "-----------------------------------------------------------\n"
     ]
    },
    {
     "name": "stderr",
     "output_type": "stream",
     "text": [
      "100%|██████████| 100/100 [00:09<00:00, 10.85it/s]\n"
     ]
    },
    {
     "name": "stdout",
     "output_type": "stream",
     "text": [
      "-----------------------------------------------------------\n"
     ]
    },
    {
     "name": "stderr",
     "output_type": "stream",
     "text": [
      "100%|██████████| 100/100 [00:16<00:00,  6.18it/s]\n"
     ]
    },
    {
     "name": "stdout",
     "output_type": "stream",
     "text": [
      "-----------------------------------------------------------\n"
     ]
    },
    {
     "name": "stderr",
     "output_type": "stream",
     "text": [
      "100%|██████████| 100/100 [00:18<00:00,  5.33it/s]\n"
     ]
    },
    {
     "name": "stdout",
     "output_type": "stream",
     "text": [
      "-----------------------------------------------------------\n"
     ]
    },
    {
     "name": "stderr",
     "output_type": "stream",
     "text": [
      "100%|██████████| 100/100 [00:12<00:00,  8.04it/s]\n"
     ]
    },
    {
     "name": "stdout",
     "output_type": "stream",
     "text": [
      "-----------------------------------------------------------\n"
     ]
    },
    {
     "name": "stderr",
     "output_type": "stream",
     "text": [
      "100%|██████████| 100/100 [00:12<00:00,  7.95it/s]\n"
     ]
    },
    {
     "name": "stdout",
     "output_type": "stream",
     "text": [
      "-----------------------------------------------------------\n"
     ]
    },
    {
     "name": "stderr",
     "output_type": "stream",
     "text": [
      "100%|██████████| 100/100 [00:10<00:00,  9.14it/s]\n"
     ]
    },
    {
     "name": "stdout",
     "output_type": "stream",
     "text": [
      "-----------------------------------------------------------\n"
     ]
    },
    {
     "name": "stderr",
     "output_type": "stream",
     "text": [
      "100%|██████████| 100/100 [00:13<00:00,  7.54it/s]\n"
     ]
    },
    {
     "name": "stdout",
     "output_type": "stream",
     "text": [
      "-----------------------------------------------------------\n"
     ]
    },
    {
     "name": "stderr",
     "output_type": "stream",
     "text": [
      "100%|██████████| 100/100 [00:12<00:00,  8.13it/s]\n"
     ]
    },
    {
     "name": "stdout",
     "output_type": "stream",
     "text": [
      "-----------------------------------------------------------\n"
     ]
    },
    {
     "name": "stderr",
     "output_type": "stream",
     "text": [
      "100%|██████████| 100/100 [00:10<00:00,  9.81it/s]\n"
     ]
    },
    {
     "name": "stdout",
     "output_type": "stream",
     "text": [
      "-----------------------------------------------------------\n"
     ]
    },
    {
     "name": "stderr",
     "output_type": "stream",
     "text": [
      "100%|██████████| 100/100 [00:11<00:00,  8.96it/s]\n"
     ]
    },
    {
     "name": "stdout",
     "output_type": "stream",
     "text": [
      "-----------------------------------------------------------\n"
     ]
    },
    {
     "name": "stderr",
     "output_type": "stream",
     "text": [
      "100%|██████████| 100/100 [00:10<00:00,  9.57it/s]\n"
     ]
    },
    {
     "name": "stdout",
     "output_type": "stream",
     "text": [
      "-----------------------------------------------------------\n"
     ]
    },
    {
     "name": "stderr",
     "output_type": "stream",
     "text": [
      "100%|██████████| 100/100 [00:10<00:00,  9.15it/s]\n"
     ]
    },
    {
     "name": "stdout",
     "output_type": "stream",
     "text": [
      "-----------------------------------------------------------\n"
     ]
    },
    {
     "name": "stderr",
     "output_type": "stream",
     "text": [
      "100%|██████████| 100/100 [00:10<00:00,  9.35it/s]\n"
     ]
    },
    {
     "name": "stdout",
     "output_type": "stream",
     "text": [
      "-----------------------------------------------------------\n"
     ]
    },
    {
     "name": "stderr",
     "output_type": "stream",
     "text": [
      "100%|██████████| 100/100 [00:10<00:00,  9.56it/s]\n"
     ]
    },
    {
     "name": "stdout",
     "output_type": "stream",
     "text": [
      "-----------------------------------------------------------\n"
     ]
    },
    {
     "name": "stderr",
     "output_type": "stream",
     "text": [
      "100%|██████████| 100/100 [00:11<00:00,  8.60it/s]\n"
     ]
    },
    {
     "name": "stdout",
     "output_type": "stream",
     "text": [
      "-----------------------------------------------------------\n"
     ]
    },
    {
     "name": "stderr",
     "output_type": "stream",
     "text": [
      "100%|██████████| 100/100 [00:11<00:00,  9.04it/s]\n"
     ]
    },
    {
     "name": "stdout",
     "output_type": "stream",
     "text": [
      "-----------------------------------------------------------\n"
     ]
    },
    {
     "name": "stderr",
     "output_type": "stream",
     "text": [
      "100%|██████████| 100/100 [00:10<00:00,  9.60it/s]\n"
     ]
    },
    {
     "name": "stdout",
     "output_type": "stream",
     "text": [
      "-----------------------------------------------------------\n"
     ]
    },
    {
     "name": "stderr",
     "output_type": "stream",
     "text": [
      "100%|██████████| 100/100 [00:10<00:00,  9.27it/s]\n"
     ]
    },
    {
     "name": "stdout",
     "output_type": "stream",
     "text": [
      "-----------------------------------------------------------\n"
     ]
    },
    {
     "name": "stderr",
     "output_type": "stream",
     "text": [
      "100%|██████████| 100/100 [00:10<00:00,  9.41it/s]\n"
     ]
    },
    {
     "name": "stdout",
     "output_type": "stream",
     "text": [
      "-----------------------------------------------------------\n"
     ]
    },
    {
     "name": "stderr",
     "output_type": "stream",
     "text": [
      "100%|██████████| 100/100 [00:10<00:00,  9.99it/s]\n"
     ]
    },
    {
     "name": "stdout",
     "output_type": "stream",
     "text": [
      "-----------------------------------------------------------\n"
     ]
    },
    {
     "name": "stderr",
     "output_type": "stream",
     "text": [
      "100%|██████████| 100/100 [00:11<00:00,  8.92it/s]\n"
     ]
    },
    {
     "name": "stdout",
     "output_type": "stream",
     "text": [
      "-----------------------------------------------------------\n"
     ]
    },
    {
     "name": "stderr",
     "output_type": "stream",
     "text": [
      "100%|██████████| 100/100 [00:09<00:00, 10.02it/s]\n"
     ]
    },
    {
     "name": "stdout",
     "output_type": "stream",
     "text": [
      "-----------------------------------------------------------\n"
     ]
    },
    {
     "name": "stderr",
     "output_type": "stream",
     "text": [
      "100%|██████████| 100/100 [00:12<00:00,  8.20it/s]\n"
     ]
    },
    {
     "name": "stdout",
     "output_type": "stream",
     "text": [
      "-----------------------------------------------------------\n"
     ]
    },
    {
     "name": "stderr",
     "output_type": "stream",
     "text": [
      "100%|██████████| 100/100 [00:09<00:00, 10.04it/s]\n"
     ]
    },
    {
     "name": "stdout",
     "output_type": "stream",
     "text": [
      "-----------------------------------------------------------\n"
     ]
    },
    {
     "name": "stderr",
     "output_type": "stream",
     "text": [
      "100%|██████████| 100/100 [00:09<00:00, 10.15it/s]\n"
     ]
    },
    {
     "name": "stdout",
     "output_type": "stream",
     "text": [
      "-----------------------------------------------------------\n"
     ]
    },
    {
     "name": "stderr",
     "output_type": "stream",
     "text": [
      "100%|██████████| 100/100 [00:10<00:00,  9.87it/s]\n"
     ]
    },
    {
     "name": "stdout",
     "output_type": "stream",
     "text": [
      "-----------------------------------------------------------\n"
     ]
    },
    {
     "name": "stderr",
     "output_type": "stream",
     "text": [
      "100%|██████████| 100/100 [00:10<00:00,  9.69it/s]\n"
     ]
    },
    {
     "name": "stdout",
     "output_type": "stream",
     "text": [
      "-----------------------------------------------------------\n"
     ]
    },
    {
     "name": "stderr",
     "output_type": "stream",
     "text": [
      "100%|██████████| 100/100 [00:09<00:00, 10.25it/s]\n"
     ]
    },
    {
     "name": "stdout",
     "output_type": "stream",
     "text": [
      "-----------------------------------------------------------\n"
     ]
    },
    {
     "name": "stderr",
     "output_type": "stream",
     "text": [
      "100%|██████████| 100/100 [00:09<00:00, 10.08it/s]\n"
     ]
    },
    {
     "name": "stdout",
     "output_type": "stream",
     "text": [
      "-----------------------------------------------------------\n"
     ]
    },
    {
     "name": "stderr",
     "output_type": "stream",
     "text": [
      "100%|██████████| 100/100 [00:09<00:00, 10.41it/s]\n"
     ]
    },
    {
     "name": "stdout",
     "output_type": "stream",
     "text": [
      "-----------------------------------------------------------\n"
     ]
    },
    {
     "name": "stderr",
     "output_type": "stream",
     "text": [
      "100%|██████████| 100/100 [00:09<00:00, 10.17it/s]\n"
     ]
    },
    {
     "name": "stdout",
     "output_type": "stream",
     "text": [
      "-----------------------------------------------------------\n"
     ]
    },
    {
     "name": "stderr",
     "output_type": "stream",
     "text": [
      "100%|██████████| 100/100 [00:09<00:00, 10.15it/s]\n"
     ]
    },
    {
     "name": "stdout",
     "output_type": "stream",
     "text": [
      "-----------------------------------------------------------\n"
     ]
    },
    {
     "name": "stderr",
     "output_type": "stream",
     "text": [
      "100%|██████████| 100/100 [00:09<00:00, 10.52it/s]\n"
     ]
    },
    {
     "name": "stdout",
     "output_type": "stream",
     "text": [
      "-----------------------------------------------------------\n"
     ]
    },
    {
     "name": "stderr",
     "output_type": "stream",
     "text": [
      "100%|██████████| 100/100 [00:09<00:00, 10.27it/s]\n"
     ]
    },
    {
     "name": "stdout",
     "output_type": "stream",
     "text": [
      "-----------------------------------------------------------\n"
     ]
    },
    {
     "name": "stderr",
     "output_type": "stream",
     "text": [
      "100%|██████████| 100/100 [00:10<00:00,  9.99it/s]\n"
     ]
    },
    {
     "name": "stdout",
     "output_type": "stream",
     "text": [
      "-----------------------------------------------------------\n"
     ]
    },
    {
     "name": "stderr",
     "output_type": "stream",
     "text": [
      "100%|██████████| 100/100 [00:13<00:00,  7.61it/s]\n"
     ]
    },
    {
     "name": "stdout",
     "output_type": "stream",
     "text": [
      "-----------------------------------------------------------\n"
     ]
    },
    {
     "name": "stderr",
     "output_type": "stream",
     "text": [
      "100%|██████████| 100/100 [00:10<00:00,  9.73it/s]\n"
     ]
    },
    {
     "name": "stdout",
     "output_type": "stream",
     "text": [
      "-----------------------------------------------------------\n"
     ]
    },
    {
     "name": "stderr",
     "output_type": "stream",
     "text": [
      "100%|██████████| 100/100 [00:09<00:00, 10.12it/s]\n"
     ]
    },
    {
     "name": "stdout",
     "output_type": "stream",
     "text": [
      "-----------------------------------------------------------\n"
     ]
    },
    {
     "name": "stderr",
     "output_type": "stream",
     "text": [
      "100%|██████████| 100/100 [00:09<00:00, 10.20it/s]\n"
     ]
    },
    {
     "name": "stdout",
     "output_type": "stream",
     "text": [
      "-----------------------------------------------------------\n"
     ]
    },
    {
     "name": "stderr",
     "output_type": "stream",
     "text": [
      "100%|██████████| 100/100 [00:15<00:00,  6.50it/s]\n"
     ]
    },
    {
     "name": "stdout",
     "output_type": "stream",
     "text": [
      "-----------------------------------------------------------\n"
     ]
    },
    {
     "name": "stderr",
     "output_type": "stream",
     "text": [
      " 39%|███▉      | 39/100 [00:05<00:07,  8.53it/s]"
     ]
    }
   ],
   "source": [
    "EPOCHS = 100 # epoch\n",
    "BATCH_SIZE = 8\n",
    "\n",
    "\n",
    "scheduler = torch.optim.lr_scheduler.StepLR(model.optimizer, step_size=10, gamma=0.1)\n",
    "\n",
    "train_loss_mse, train_loss_rmse, val_loss_mse, val_loss_rmse = [], [], [], []\n",
    "for epoch in range(1, EPOCHS + 1):\n",
    "    epoch_start_time = time.time()\n",
    "    \n",
    "    train_dataloader = DataLoader(train_tokenized, batch_size=BATCH_SIZE, shuffle=True, \n",
    "                             collate_fn=collate_batch)\n",
    "    test_dataloader = DataLoader(test_tokenized, batch_size=BATCH_SIZE, shuffle=True, \n",
    "                             collate_fn=collate_batch)\n",
    "    # train_dataloader = DataLoader(train_tokenized, batch_size=BATCH_SIZE)\n",
    "    # test_dataloader = DataLoader(test_tokenized, batch_size=BATCH_SIZE)\n",
    "    \n",
    "    train_loss_mse_epoch, train_loss_rmse_epoch = train(train_dataloader)\n",
    "    train_loss_mse.append(train_loss_mse_epoch)\n",
    "    train_loss_rmse.append(train_loss_rmse_epoch)\n",
    "    val_loss_mse_epoch, val_loss_rmse_epoch = evaluate(test_dataloader)\n",
    "    val_loss_mse.append(val_loss_mse_epoch)\n",
    "    val_loss_rmse.append(val_loss_rmse_epoch)\n",
    "    \n",
    "    print('-' * 59)\n",
    "    scheduler.step()\n",
    "    # print('| end of epoch {:3d} | time: {:5.2f}s | '\n",
    "    #       'valid accuracy {:8.3f} '.format(epoch,\n",
    "    #                                        time.time() - epoch_start_time,\n",
    "    #                                        val_loss[-1][-1]))\n",
    "    # print('-' * 59)\n",
    "train_loss_mean_mse, val_loss_mean_mse, train_loss_mean_rmse, val_loss_mean_rmse = [], [], [], []\n",
    "for i in range(EPOCHS):\n",
    "    train_loss_mean_mse.append(sum(train_loss_mse[i]) / len(train_loss_mse[i]))\n",
    "    val_loss_mean_mse.append(sum(val_loss_mse[i]) / len(val_loss_mse[i]))\n",
    "    train_loss_mean_rmse.append(sum(train_loss_rmse[i]) / len(train_loss_rmse[i]))\n",
    "    val_loss_mean_rmse.append(sum(val_loss_rmse[i]) / len(val_loss_rmse[i]))"
   ]
  },
  {
   "cell_type": "code",
   "execution_count": 20,
   "id": "dec07147",
   "metadata": {},
   "outputs": [
    {
     "name": "stdout",
     "output_type": "stream",
     "text": [
      "[0.5984810253977776, 0.5981132462620735, 0.5984984478354454, 0.5921568983793258, 0.5924716225266456, 0.5887289121747017, 0.5836616531014442, 0.5867261257767677, 0.5812643307447434, 0.5807294484972954, 0.5775848922133445, 0.5758971700072288, 0.5709987875819206, 0.5715762001276016, 0.5690031477808952, 0.5683133020997048, 0.5656364893913269, 0.5604207408428192, 0.5593667483329773, 0.5562629619240761, 0.5546685501933097, 0.5539625853300094, 0.5477235135436058, 0.544723659157753, 0.5451773750782013, 0.5427634137868881, 0.5370992428064346, 0.5390790924429893, 0.5360381880402565, 0.5321351450681686, 0.5306652727723121, 0.5297814598679542, 0.524071779847145, 0.5189050650596618, 0.5192815354466438, 0.5189860889315605, 0.5185631689429283, 0.5136829888820649, 0.5073518943786621, 0.5102657395601272, 0.5045085161924362, 0.5039108514785766, 0.4995306462049484, 0.4975236377120018, 0.4961254447698593, 0.4967346513271332, 0.4925530731678009, 0.4850114008784294, 0.48520004987716675, 0.4818662902712822, 0.48136434972286224, 0.4751181691884995, 0.4752569130063057, 0.47278828769922254, 0.4708965560793877, 0.4662845143675804, 0.46352176427841185, 0.4612419608235359, 0.45744462698698046, 0.45393394947052, 0.4528033807873726, 0.44535344690084455, 0.4464295557141304, 0.44199558079242707, 0.43791054785251615, 0.43934587061405184, 0.4356778126955032, 0.4355019611120224, 0.43644631683826446, 0.4250054758787155, 0.4256591245532036, 0.4224236014485359, 0.42125953137874605, 0.4154540753364563, 0.4125996595621109, 0.4114236104488373, 0.4082431760430336, 0.4043352270126343, 0.4017390301823616, 0.39856457591056826, 0.3980554661154747, 0.39202606320381167, 0.3931794086098671, 0.39166093900799753, 0.38563659399747846, 0.38744331628084183, 0.3874278783798218, 0.38338014006614685, 0.38259277403354647, 0.380773232281208, 0.37486872643232344, 0.3708476021885872, 0.3705168132483959, 0.3714569166302681, 0.3640216183662415, 0.36548912078142165, 0.3685343685746193, 0.36192842036485673, 0.36051049023866655, 0.35965019941329956]\n"
     ]
    }
   ],
   "source": [
    "print(train_loss_mean_rmse)"
   ]
  },
  {
   "cell_type": "code",
   "execution_count": 21,
   "id": "80be3f84",
   "metadata": {},
   "outputs": [
    {
     "ename": "NameError",
     "evalue": "name 'a' is not defined",
     "output_type": "error",
     "traceback": [
      "\u001b[0;31m---------------------------------------------------------------------------\u001b[0m",
      "\u001b[0;31mNameError\u001b[0m                                 Traceback (most recent call last)",
      "\u001b[0;32m<ipython-input-21-1a2e6ec5f1e3>\u001b[0m in \u001b[0;36m<module>\u001b[0;34m\u001b[0m\n\u001b[0;32m----> 1\u001b[0;31m \u001b[0mlen\u001b[0m\u001b[0;34m(\u001b[0m\u001b[0ma\u001b[0m\u001b[0;34m)\u001b[0m\u001b[0;34m\u001b[0m\u001b[0;34m\u001b[0m\u001b[0m\n\u001b[0m",
      "\u001b[0;31mNameError\u001b[0m: name 'a' is not defined"
     ]
    }
   ],
   "source": [
    "len(a)"
   ]
  },
  {
   "cell_type": "code",
   "execution_count": null,
   "id": "ff79e827",
   "metadata": {},
   "outputs": [
    {
     "data": {
      "text/plain": [
       "50"
      ]
     },
     "execution_count": 34,
     "metadata": {},
     "output_type": "execute_result"
    }
   ],
   "source": [
    "BATCH_SIZE"
   ]
  },
  {
   "cell_type": "markdown",
   "id": "da139d5b",
   "metadata": {},
   "source": [
    "## Evaluation"
   ]
  },
  {
   "cell_type": "code",
   "execution_count": 28,
   "id": "ebed03ba",
   "metadata": {},
   "outputs": [
    {
     "data": {
      "image/png": "[encoded data removed]",
      "text/plain": [
       "<Figure size 720x576 with 1 Axes>"
      ]
     },
     "metadata": {
      "needs_background": "light"
     },
     "output_type": "display_data"
    }
   ],
   "source": [
    "eval_meth = 'mse'\n",
    "f, ax = plt.subplots(1,1, figsize=(10,8))\n",
    "\n",
    "fnt=16\n",
    "ax.plot(train_loss_mean_mse, color='blue', label='Train')\n",
    "ax.plot(val_loss_mean_mse, color='red', linestyle='--', label='Test')\n",
    "ax.legend(fontsize=fnt)\n",
    "#ax.tick_params(axis='both', labelsize=fnt)\n",
    "plt.title(eval_meth)\n",
    "ax.set_xlabel(\"Epoch\", fontsize=fnt)\n",
    "ax.set_ylabel(\"Loss\", fontsize=fnt);\n",
    "f.savefig(eval_meth+str(BATCH_SIZE)+'.jpg')"
   ]
  },
  {
   "cell_type": "markdown",
   "id": "9a59808b",
   "metadata": {},
   "source": [
    "# Task 3.2"
   ]
  },
  {
   "cell_type": "markdown",
   "id": "f64a855d",
   "metadata": {},
   "source": [
    "## Data Handling and Preprocessing"
   ]
  },
  {
   "cell_type": "code",
   "execution_count": null,
   "id": "5b935865",
   "metadata": {},
   "outputs": [],
   "source": [
    "#todo"
   ]
  },
  {
   "cell_type": "code",
   "execution_count": null,
   "id": "0ec19a8d",
   "metadata": {},
   "outputs": [],
   "source": []
  },
  {
   "cell_type": "code",
   "execution_count": null,
   "id": "8f189d19",
   "metadata": {},
   "outputs": [],
   "source": []
  },
  {
   "cell_type": "markdown",
   "id": "867aabb3",
   "metadata": {},
   "source": [
    "## Model Implementation"
   ]
  },
  {
   "cell_type": "code",
   "execution_count": null,
   "id": "36fe2739",
   "metadata": {},
   "outputs": [],
   "source": [
    "#todo"
   ]
  },
  {
   "cell_type": "code",
   "execution_count": null,
   "id": "f80b1ca2",
   "metadata": {},
   "outputs": [],
   "source": []
  },
  {
   "cell_type": "code",
   "execution_count": null,
   "id": "fdbf2800",
   "metadata": {},
   "outputs": [],
   "source": []
  },
  {
   "cell_type": "markdown",
   "id": "826fae3f",
   "metadata": {},
   "source": [
    "## Model Training"
   ]
  },
  {
   "cell_type": "code",
   "execution_count": null,
   "id": "db3fce95",
   "metadata": {},
   "outputs": [],
   "source": [
    "#todo"
   ]
  },
  {
   "cell_type": "code",
   "execution_count": null,
   "id": "41ddb47d",
   "metadata": {},
   "outputs": [],
   "source": []
  },
  {
   "cell_type": "code",
   "execution_count": null,
   "id": "4ee069fc",
   "metadata": {},
   "outputs": [],
   "source": []
  },
  {
   "cell_type": "markdown",
   "id": "c87278a2",
   "metadata": {},
   "source": [
    "## Evaluation"
   ]
  },
  {
   "cell_type": "code",
   "execution_count": null,
   "id": "2cbb6137",
   "metadata": {},
   "outputs": [],
   "source": [
    "#todo"
   ]
  },
  {
   "cell_type": "code",
   "execution_count": null,
   "id": "2cf6f4b7",
   "metadata": {},
   "outputs": [],
   "source": []
  },
  {
   "cell_type": "code",
   "execution_count": null,
   "id": "736c10d8",
   "metadata": {},
   "outputs": [],
   "source": []
  }
 ],
 "metadata": {
  "interpreter": {
   "hash": "03ecf2e7042493b74b34da632991795d74d67f5f38cd7be890be15e8a40dafbc"
  },
  "kernelspec": {
   "display_name": "Python 3.8.8 ('torch')",
   "language": "python",
   "name": "python3"
  },
  "language_info": {
   "codemirror_mode": {
    "name": "ipython",
    "version": 3
   },
   "file_extension": ".py",
   "mimetype": "text/x-python",
   "name": "python",
   "nbconvert_exporter": "python",
   "pygments_lexer": "ipython3",
   "version": "3.8.8"
  }
 },
 "nbformat": 4,
 "nbformat_minor": 5
}
