{
  "cells": [
    {
      "cell_type": "markdown",
      "id": "730fd591",
      "metadata": {
        "id": "730fd591"
      },
      "source": [
        "<a href=\"https://colab.research.google.com/github/vlamen/tue-deeplearning/blob/main/assignments/assignment_2_3/a2_skeleton.ipynb\" target=\"_parent\"><img src=\"https://colab.research.google.com/assets/colab-badge.svg\" alt=\"Open In Colab\"/></a>"
      ]
    },
    {
      "cell_type": "markdown",
      "id": "d32f8d18",
      "metadata": {
        "id": "d32f8d18"
      },
      "source": [
        "# Group Number:\n",
        "\n",
        "# Student 1: Kaiting Liu\n",
        "\n",
        "# Student 2: Sihan Zhu\n",
        "\n",
        "# Student 3: Ruozhu Yao"
      ]
    },
    {
      "cell_type": "markdown",
      "id": "faec2056",
      "metadata": {
        "id": "faec2056"
      },
      "source": [
        "# Downloading Data and Preliminaries"
      ]
    },
    {
      "cell_type": "code",
      "execution_count": null,
      "id": "7d0580a5",
      "metadata": {
        "id": "7d0580a5"
      },
      "outputs": [],
      "source": [
        "import pickle\n",
        "import matplotlib.pyplot as plt\n",
        "import matplotlib\n",
        "import numpy as np\n",
        "\n",
        "from zipfile import ZipFile\n",
        "import requests\n",
        "import io"
      ]
    },
    {
      "cell_type": "code",
      "execution_count": null,
      "id": "b0756591",
      "metadata": {
        "id": "b0756591"
      },
      "outputs": [],
      "source": [
        "def load_zip(url):\n",
        "    response = requests.get(url)\n",
        "    response.raise_for_status()\n",
        "    zipf = ZipFile(io.BytesIO(response.content))\n",
        "    return {name: zipf.read(name) for name in zipf.namelist()}\n",
        "\n",
        "def load_array(zipfile, fn):\n",
        "    return np.load(io.BytesIO(zipfile[fn]))"
      ]
    },
    {
      "cell_type": "code",
      "execution_count": null,
      "id": "bb77a4be",
      "metadata": {
        "id": "bb77a4be",
        "colab": {
          "base_uri": "https://localhost:8080/"
        },
        "outputId": "78ae9f8c-0353-4585-fdc5-2b5701e780bb"
      },
      "outputs": [
        {
          "output_type": "stream",
          "name": "stdout",
          "text": [
            "Shapes of the training data:\n",
            "\n",
            "positions: (10000, 4, 2, 5)\n",
            "velocities: (10000, 1, 2, 5)\n",
            "charges: (10000, 5, 1)\n"
          ]
        }
      ],
      "source": [
        "\"\"\"\n",
        "This cell loads the training, validation or test data as numpy arrays,\n",
        "with the positions, initial velocities and charge data of the particles.\n",
        "\n",
        "The position arrays are shaped as\n",
        "[simulation id, time point (corresponding to t = 0, 0.5, 1 or 1.5), x/y spatial dimension, particle id].\n",
        "\n",
        "The initial velocity arrays are shaped as\n",
        "[simulation id, 1 (corresponding to t=0), x/y spatial dimension, particle id].\n",
        "\n",
        "The charge arrays are shaped as [simulation id, particle id, 1]\n",
        "\n",
        "\"\"\"\n",
        "\n",
        "data = load_zip('https://surfdrive.surf.nl/files/index.php/s/OIgda2ZRG8v0eqB/download')\n",
        "\n",
        "features = ['positions', 'velocities', 'charges']\n",
        "    \n",
        "positions_train, velocities_train, charges_train = (load_array(data, f'data/train/{f}.npy') for f in features)\n",
        "positions_valid, velocities_valid, charges_valid = (load_array(data, f'data/valid/{f}.npy') for f in features)\n",
        "positions_test, velocities_test, charges_test = (load_array(data, f'data/test/{f}.npy') for f in features)\n",
        "\n",
        "print('Shapes of the training data:\\n')\n",
        "print(f'positions: {positions_train.shape}')\n",
        "print(f'velocities: {velocities_train.shape}')\n",
        "print(f'charges: {charges_train.shape}')"
      ]
    },
    {
      "cell_type": "code",
      "execution_count": null,
      "id": "1c3ea4cb",
      "metadata": {
        "id": "1c3ea4cb",
        "colab": {
          "base_uri": "https://localhost:8080/"
        },
        "outputId": "66d9f33a-bc22-41c1-f8d7-c29a10d67c26"
      },
      "outputs": [
        {
          "output_type": "stream",
          "name": "stdout",
          "text": [
            "An example of retrieving data from the arrays:\n",
            "\n",
            "\n",
            "In simulation 42 of the training set, particle 3 with charge -1.0 had coordinates [ 2.05159559 -1.46130851].\n",
            "The initial velocity of this particle was [ 0.28402364 -0.24784824].\n"
          ]
        }
      ],
      "source": [
        "print('An example of retrieving data from the arrays:\\n\\n')\n",
        "\n",
        "sim_idx = 42\n",
        "t_idx = 2  # t_idx 0, 1, 2, 3 corresponds to t=0, 0.5, 1 and 1.5 respectively\n",
        "spatial_idx = (0,1)  # corresponds to both x and y dimension\n",
        "particle_idx = 3  # corresponds to particle with index 3\n",
        "\n",
        "p = positions_train[sim_idx, t_idx, spatial_idx, particle_idx]\n",
        "v = velocities_train[sim_idx, 0, spatial_idx, particle_idx]  # note: this array contains only the inital velocity -> hence the 0\n",
        "c = charges_train[sim_idx, particle_idx, 0] \n",
        "\n",
        "print(\n",
        "    f'In simulation {sim_idx} of the training set, particle {particle_idx} with charge {c} had coordinates {p}.\\nThe initial velocity of this particle was {v}.'\n",
        ")"
      ]
    },
    {
      "cell_type": "code",
      "execution_count": null,
      "id": "10a3438a",
      "metadata": {
        "id": "10a3438a",
        "colab": {
          "base_uri": "https://localhost:8080/"
        },
        "outputId": "ff1633d1-c385-4c66-b28f-4237458519c6"
      },
      "outputs": [
        {
          "output_type": "stream",
          "name": "stdout",
          "text": [
            "Overview of no. datapoints:\n",
            "\n",
            "10000 train, 2000 validation, 2000 test simulations\n"
          ]
        }
      ],
      "source": [
        "print('Overview of no. datapoints:\\n')\n",
        "\n",
        "print(f'{len(positions_train)} train, {len(positions_valid)} validation, {len(positions_test)} test simulations')"
      ]
    },
    {
      "cell_type": "code",
      "execution_count": null,
      "id": "f9106543",
      "metadata": {
        "id": "f9106543"
      },
      "outputs": [],
      "source": [
        "def plot_example(pos, vel):\n",
        "\n",
        "    fig = plt.figure()\n",
        "    axes = plt.gca()\n",
        "    axes.set_xlim([-5., 5.])\n",
        "    axes.set_ylim([-5., 5.])\n",
        "    colors = ['red', 'blue', 'green', 'orange', 'brown']\n",
        "    for i in range(pos.shape[-1]):\n",
        "        plt.plot(pos[0, 0, i], pos[0, 1, i], 'd', color=colors[i])\n",
        "        plt.plot(pos[-1, 0, i], pos[-1, 1, i], 'x', color=colors[i])\n",
        "        plt.plot([pos[0, 0, i], pos[0, 0, i] + vel[0, 0, i]], [pos[0, 1, i], pos[0, 1, i] + vel[0, 1, i]], '--', color=colors[i])\n",
        "    fig.set_size_inches(7, 7)\n",
        "    plt.xlim(np.min(pos)-1, np.max(pos) +1)\n",
        "    plt.ylim(np.min(pos)-1, np.max(pos) +1)\n",
        "    plt.plot([], [], 'd', color='black', label='initial position')\n",
        "    plt.plot([], [], 'x', color='black', label='final position')\n",
        "    plt.plot([], [], '--', color='black', label='initial velocity \\ndirection and magnitude')\n",
        "    plt.legend()\n",
        "    \n",
        "    plt.show()\n",
        "    return"
      ]
    },
    {
      "cell_type": "code",
      "execution_count": null,
      "id": "d28681a6",
      "metadata": {
        "id": "d28681a6",
        "colab": {
          "base_uri": "https://localhost:8080/",
          "height": 428
        },
        "outputId": "63acfe5b-4312-4d1b-9860-0dba5730db4b"
      },
      "outputs": [
        {
          "output_type": "display_data",
          "data": {
            "text/plain": [
              "<Figure size 504x504 with 1 Axes>"
            ],
            "image/png": "[encoded data removed]"
          },
          "metadata": {
            "needs_background": "light"
          }
        }
      ],
      "source": [
        "random_idx = np.random.randint(0, 10000)\n",
        "plot_example(positions_train[random_idx], velocities_train[random_idx])"
      ]
    },
    {
      "cell_type": "markdown",
      "id": "059b633c",
      "metadata": {
        "id": "059b633c"
      },
      "source": [
        "# Data Handling and Preprocessing"
      ]
    },
    {
      "cell_type": "code",
      "execution_count": null,
      "id": "e6ecb529",
      "metadata": {
        "id": "e6ecb529"
      },
      "outputs": [],
      "source": [
        "#todo"
      ]
    },
    {
      "cell_type": "code",
      "execution_count": null,
      "id": "f8633eb8",
      "metadata": {
        "id": "f8633eb8"
      },
      "outputs": [],
      "source": [
        "import torch\n",
        "from torchvision import transforms\n",
        "import torch.nn as nn\n",
        "import torch.nn.functional as F\n",
        "from torch.utils.data import Dataset, DataLoader, TensorDataset\n",
        "import numpy as np\n",
        "from PIL import Image\n",
        "\n",
        "def data_transformation(positions, velocities, charges):\n",
        "    \"\"\"\n",
        "    Transform the original set of 6 images to the set of 3 images, \n",
        "    (anchor, support image has same character, support image has different character)\n",
        "    \"\"\"\n",
        "    positions_start = positions[:, 0, :, :]\n",
        "    velocities_start = velocities[:, 0, :, :]\n",
        "    charges_start = charges[:, :, :]\n",
        "\n",
        "    temp = np.concatenate((positions_start, velocities_start), axis=1)\n",
        "    temp = np.moveaxis(temp, 1, 2)\n",
        "    input_data = np.concatenate((temp,charges_start), axis=2)\n",
        "\n",
        "    positions_end = np.moveaxis(positions, 2, 3)\n",
        "    label_data_1 = positions_end[:, 1, :, :]\n",
        "    label_data_2 = positions_end[:, 2, :, :]\n",
        "    label_data_3 = positions_end[:, 3, :, :]\n",
        "\n",
        "    return input_data, label_data_1, label_data_2, label_data_3\n",
        "\n",
        "class MyDataset(Dataset):\n",
        "    def __init__(self, input_data, label_data):\n",
        "        self.input_data = torch.FloatTensor(input_data)\n",
        "        self.label_data = torch.FloatTensor(label_data)\n",
        "        \n",
        "    def __getitem__(self, index):\n",
        "        input = self.input_data[index, :, :]\n",
        "        label = self.label_data[index, :, :]\n",
        "        return input, label\n",
        "        \n",
        "    def __len__(self):\n",
        "        return len(self.label_data)"
      ]
    },
    {
      "cell_type": "markdown",
      "id": "18b2874d",
      "metadata": {
        "id": "18b2874d"
      },
      "source": [
        "# Model Implementation"
      ]
    },
    {
      "cell_type": "code",
      "execution_count": 73,
      "id": "66774050",
      "metadata": {
        "id": "66774050"
      },
      "outputs": [],
      "source": [
        "#todo\n",
        "from sklearn.metrics import r2_score"
      ]
    },
    {
      "cell_type": "code",
      "execution_count": 94,
      "id": "ba598378",
      "metadata": {
        "id": "ba598378"
      },
      "outputs": [],
      "source": [
        "## Model Definition ##\n",
        "class Network(nn.Module):\n",
        "    def __init__(self):\n",
        "        super(Network, self).__init__()\n",
        "\n",
        "        \"\"\"Embedding extraction, use aggregation function here to utilize neighborhood info\"\"\" \n",
        "        self.embedding = nn.Sequential(nn.Linear(10, 5), nn.BatchNorm1d(5,momentum=1,affine=True), nn.Sigmoid())\n",
        "\n",
        "        \"\"\"Multilayer Perceptron.\"\"\"\n",
        "        self.MLP = nn.Sequential(\n",
        "            nn.Linear(5, 32),\n",
        "            nn.BatchNorm1d(32,momentum=1,affine=True),\n",
        "            nn.ReLU(inplace=True),  \n",
        "            nn.Linear(32, 32),\n",
        "            nn.BatchNorm1d(32,momentum=1,affine=True),\n",
        "            nn.ReLU(inplace=True),  \n",
        "            nn.Linear(32, 2)\n",
        "        )\n",
        "\n",
        "    def aggregate(self, x, neighbors):\n",
        "        \"\"\"aggregate the info of set for x\"\"\"\n",
        "        neighbors_info = torch.mean(neighbors, axis=1)\n",
        "        return torch.concat((x,neighbors_info), axis=1)\n",
        "\n",
        "    def forward(self, input):\n",
        "        \"\"\"Perform forward\"\"\"\n",
        "        positions = []\n",
        "        for idx in range(5):\n",
        "          aggregation = self.aggregate(input[:, idx, :], np.delete(input, idx, axis=1))\n",
        "          embedding = self.embedding(aggregation)\n",
        "          position = self.MLP(embedding)\n",
        "          positions.append(position)\n",
        "        positions = torch.stack(positions)\n",
        "        positions = torch.moveaxis(positions, 0, 1)\n",
        "        return positions\n",
        "\n",
        "    def predict(self, input):\n",
        "        \"\"\"Perform forward\"\"\"\n",
        "        positions = []\n",
        "        for idx in range(5):\n",
        "          aggregation = self.aggregate(input[:, idx, :], np.delete(input, idx, axis=1))\n",
        "          embedding = self.embedding(aggregation)\n",
        "          position = self.MLP(embedding)\n",
        "          positions.append(position)\n",
        "        positions = torch.stack(positions)\n",
        "        positions = torch.moveaxis(positions, 0, 1)\n",
        "        return positions\n",
        "    \n",
        "    def baseline_predict(self, inputs,predict_time):\n",
        "      predictions=[]\n",
        "      for input in inputs:\n",
        "        prediction = []\n",
        "        for point in input:\n",
        "          px = point[0].item()\n",
        "          py = point[1].item()\n",
        "          vx = point[2].item()\n",
        "          vy = point[3].item()\n",
        "          new_positions = [px+vx*predict_time,py+vy*predict_time]\n",
        "          prediction.append(new_positions)\n",
        "        predictions.append(prediction)\n",
        "      return predictions\n",
        "\n",
        "    def score(self, labels, prediction,baseline):\n",
        "      \"\"\"\n",
        "      using full accuracy to evaluate our model performance, \n",
        "      by predicting one set is correct when all the images in the set is predicted correctly.\n",
        "      \"\"\"\n",
        "      prediction_arr = prediction.detach().numpy()\n",
        "      labels_arr = labels.detach().numpy()\n",
        "      baseline_arr = np.array(baseline)\n",
        "      predict_label_dist = np.linalg.norm(prediction_arr-labels_arr)\n",
        "      # print(predict_label_dist)\n",
        "      baseline_label_dist = np.linalg.norm(baseline-labels_arr)\n",
        "      # print(baseline_label_dist)\n",
        "      predict_base_ratio = predict_label_dist/baseline_label_dist\n",
        "\n",
        "      r2_scores=[]\n",
        "      for i in range(len(prediction_arr)):\n",
        "        r2_scores.append(r2_score(labels_arr[i], prediction_arr[i]))\n",
        "      return np.mean(r2_scores), predict_base_ratio\n",
        "\n"
      ]
    },
    {
      "cell_type": "code",
      "execution_count": null,
      "id": "95154df7",
      "metadata": {
        "id": "95154df7"
      },
      "outputs": [],
      "source": [
        "## LOSS Definition ##\n",
        "class MSELoss(nn.Module):\n",
        "    \"\"\"\n",
        "    Mean squared loss\n",
        "    \"\"\"\n",
        "\n",
        "    def __init__(self):\n",
        "        super(MSELoss, self).__init__()\n",
        "\n",
        "    def forward(self, prediction, label):\n",
        "        error = prediction - label\n",
        "        squared_error = torch.square(error)\n",
        "        losses = torch.sum(squared_error)\n",
        "        return losses.mean()"
      ]
    },
    {
      "cell_type": "markdown",
      "id": "dea70d73",
      "metadata": {
        "id": "dea70d73"
      },
      "source": [
        "# Model Training"
      ]
    },
    {
      "cell_type": "code",
      "execution_count": null,
      "id": "3af520ae",
      "metadata": {
        "id": "3af520ae"
      },
      "outputs": [],
      "source": [
        "#todo"
      ]
    },
    {
      "cell_type": "code",
      "execution_count": 95,
      "id": "e95af5f9",
      "metadata": {
        "id": "e95af5f9"
      },
      "outputs": [],
      "source": [
        "import numpy as np\n",
        "from tqdm import tqdm\n",
        "import time\n",
        "\n",
        "class Trainer():\n",
        "    def __init__(self,\n",
        "                 device: torch.device,\n",
        "                 criterion: torch.nn.Module, \n",
        "                 epochs: int\n",
        "                 ):\n",
        "\n",
        "        self.criterion = criterion\n",
        "        self.device = device\n",
        "        self.epochs = epochs\n",
        "\n",
        "\n",
        "    def run_trainer(self, model, training_DataLoader, valid_DataLoader, optimizer,predict_time):\n",
        "        avg_losses_per_epoch=[]\n",
        "        valid_losses=[]\n",
        "        start = time.time()\n",
        "        for epoch in tqdm(range(self.epochs)):\n",
        "            model.train()  # train model\n",
        "            train_losses=[]\n",
        "            for batch in training_DataLoader:\n",
        "                inputs, labels = batch\n",
        "                # anchor, positive, negative = anchor.to(device=device, dtype=torch.float), positive.to(device=device, dtype=torch.float), negative.to(device=device, dtype=torch.float)\n",
        "                optimizer.zero_grad()  # zerograd the parameters\n",
        "                predictions = model(inputs)# one forward pass\n",
        "                loss = self.criterion(predictions, labels)  # calculate loss\n",
        "                loss_value = loss.item()\n",
        "                train_losses.append(loss_value)\n",
        "                # train_losses.append(loss)\n",
        "                \n",
        "                loss.backward()  # one backward pass\n",
        "                optimizer.step()  # update the parameters\n",
        "            # print(\n",
        "            #     f'EPOCH: {epoch+1:0>{len(str(self.epochs))}}/{self.epochs}',\n",
        "            #     end=' '\n",
        "            # )\n",
        "            # train_sim, __=trainer.evaluation(model, training_DataLoader,time = 0.5)\n",
        "            # val_sim, __=trainer.evaluation(model, valid_DataLoader)\n",
        "            valid_loss,__,__,__ = self.evaluation(model,valid_DataLoader,predict_time=predict_time)\n",
        "            valid_losses.append(valid_loss)\n",
        "\n",
        "            tic = time.time()\n",
        "            avg_loss=np.mean(train_losses)\n",
        "            avg_losses_per_epoch.append(avg_loss)\n",
        "            print(f'Epoch: {epoch+1:0>{len(str(self.epochs))}}/{self.epochs}, train loss: {avg_loss:.4f}, validation loss: {valid_loss:.4f}, Training time so far: {tic-start:.1f} s')\n",
        "            # train_loss_list = [a.detach().numpy() for a in train_losses]\n",
        "            # print(f'TRAIN LOSS: {avg_loss:.4f}',end='\\n')\n",
        "        # plt.plot(np.linspace(1, self.epochs, self.epochs, endpoint=True), avg_losses_per_epoch)\n",
        "        # plt.xlabel('Number of epochs')\n",
        "        # plt.ylabel('Loss')\n",
        "        # plt.show()\n",
        "        return avg_losses_per_epoch,valid_losses\n",
        "\n",
        "    \n",
        "    def evaluation(self, model,testing_DataLoader,predict_time=0.5):\n",
        "        # accuracies = []\n",
        "        with torch.no_grad():\n",
        "          model.eval()\n",
        "          valid_loss = []\n",
        "          predictions,r2_scores,compare_scores = [],[],[]\n",
        "          for batch in testing_DataLoader:\n",
        "            inputs, labels = batch\n",
        "            prediction = model.predict(inputs)\n",
        "            # score, prediction = model.score(labels, prediction,predict_time=predict_time)\n",
        "            loss = self.criterion(prediction,labels)\n",
        "            baseline = model.baseline_predict(inputs,predict_time)\n",
        "            r2_score,compare_score = model.score(labels, prediction,baseline)\n",
        "            # accuracies.append(cos_sim.detach().numpy())\n",
        "            valid_loss.append(loss.detach().numpy())\n",
        "            predictions.append(prediction)\n",
        "            r2_scores.append(r2_score)\n",
        "            compare_scores.append(compare_score)\n",
        "        \n",
        "        # print(valid_loss)\n",
        "        # print(np.mean(valid_loss))\n",
        "        # print(predictions)\n",
        "        # print()\n",
        "        # print(f'ACCURACY: {np.mean(accuracies):.4f}',end='\\n')\n",
        "\n",
        "        return np.mean(valid_loss),r2_scores,compare_scores,predictions\n",
        "    \n",
        "    "
      ]
    },
    {
      "cell_type": "code",
      "source": [
        "# prepare data\n",
        "input_data, label_data_1, label_data_2, label_data_3 = data_transformation(positions_train, velocities_train, charges_train)\n",
        "train_dataset_1 = MyDataset(input_data, label_data_1)\n",
        "train_dataset_2 = MyDataset(input_data, label_data_2)\n",
        "train_dataset_3 = MyDataset(input_data, label_data_3)\n",
        "\n",
        "valid_data, valid_label_data_1, valid_label_data_2, valid_label_data_3 = data_transformation(positions_valid, velocities_valid, charges_valid)\n",
        "valid_dataset_1 = MyDataset(valid_data, valid_label_data_1)\n",
        "valid_dataset_2 = MyDataset(valid_data, valid_label_data_2)\n",
        "valid_dataset_3 = MyDataset(valid_data, valid_label_data_3)\n",
        "valid_DataLoader_1 = torch.utils.data.DataLoader(valid_dataset_1, batch_size=100)\n",
        "valid_DataLoader_2 = torch.utils.data.DataLoader(valid_dataset_2, batch_size=100)\n",
        "valid_DataLoader_3 = torch.utils.data.DataLoader(valid_dataset_3, batch_size=100)\n",
        "\n",
        "\n",
        "# device\n",
        "if torch.cuda.is_available():\n",
        "    device = torch.device('cuda')\n",
        "else:\n",
        "    device=torch.device('cpu')\n",
        "# criterion\n",
        "criterion = nn.MSELoss()\n",
        "# nn.L1Loss\n",
        "# trainer\n",
        "trainer = Trainer(device=device,\n",
        "                  criterion=criterion,\n",
        "                  epochs=50)\n",
        "\n",
        "\n",
        "# model one: using data in timpoint 0 to predict timepoint 0.5\n",
        "model_1 = Network().to(device)\n",
        "# optimizer\n",
        "# optimizer_1 = torch.optim.SGD(model_1.parameters(), lr=0.0001, momentum=0.5)\n",
        "optimizer_1 = torch.optim.Adam(model_1.parameters())\n",
        "# data loader\n",
        "train_loader_1 = torch.utils.data.DataLoader(train_dataset_1, batch_size=100)\n",
        "# start training\n",
        "train_loss,validation_loss = trainer.run_trainer(model_1, train_loader_1,valid_DataLoader_1, optimizer_1,predict_time=0.5)\n"
      ],
      "metadata": {
        "id": "9RU0EW2LQdXz",
        "colab": {
          "base_uri": "https://localhost:8080/"
        },
        "outputId": "4c6b352d-219b-40b7-988c-4db22c51c74a"
      },
      "id": "9RU0EW2LQdXz",
      "execution_count": 98,
      "outputs": [
        {
          "output_type": "stream",
          "name": "stderr",
          "text": [
            "  2%|▏         | 1/50 [00:01<00:58,  1.19s/it]"
          ]
        },
        {
          "output_type": "stream",
          "name": "stdout",
          "text": [
            "Epoch: 01/50, train loss: 2.8737, validation loss: 0.6168, Training time so far: 1.2 s\n"
          ]
        },
        {
          "output_type": "stream",
          "name": "stderr",
          "text": [
            "\r  4%|▍         | 2/50 [00:02<01:00,  1.26s/it]"
          ]
        },
        {
          "output_type": "stream",
          "name": "stdout",
          "text": [
            "Epoch: 02/50, train loss: 0.4117, validation loss: 0.2708, Training time so far: 2.5 s\n"
          ]
        },
        {
          "output_type": "stream",
          "name": "stderr",
          "text": [
            "\r  6%|▌         | 3/50 [00:03<01:01,  1.30s/it]"
          ]
        },
        {
          "output_type": "stream",
          "name": "stdout",
          "text": [
            "Epoch: 03/50, train loss: 0.2956, validation loss: 0.2235, Training time so far: 3.8 s\n"
          ]
        },
        {
          "output_type": "stream",
          "name": "stderr",
          "text": [
            "\r  8%|▊         | 4/50 [00:05<00:59,  1.29s/it]"
          ]
        },
        {
          "output_type": "stream",
          "name": "stdout",
          "text": [
            "Epoch: 04/50, train loss: 0.2599, validation loss: 0.1970, Training time so far: 5.1 s\n"
          ]
        },
        {
          "output_type": "stream",
          "name": "stderr",
          "text": [
            "\r 10%|█         | 5/50 [00:06<00:59,  1.31s/it]"
          ]
        },
        {
          "output_type": "stream",
          "name": "stdout",
          "text": [
            "Epoch: 05/50, train loss: 0.2372, validation loss: 0.1788, Training time so far: 6.5 s\n"
          ]
        },
        {
          "output_type": "stream",
          "name": "stderr",
          "text": [
            "\r 12%|█▏        | 6/50 [00:07<00:56,  1.29s/it]"
          ]
        },
        {
          "output_type": "stream",
          "name": "stdout",
          "text": [
            "Epoch: 06/50, train loss: 0.2203, validation loss: 0.1645, Training time so far: 7.7 s\n"
          ]
        },
        {
          "output_type": "stream",
          "name": "stderr",
          "text": [
            "\r 14%|█▍        | 7/50 [00:09<00:55,  1.29s/it]"
          ]
        },
        {
          "output_type": "stream",
          "name": "stdout",
          "text": [
            "Epoch: 07/50, train loss: 0.2071, validation loss: 0.1559, Training time so far: 9.0 s\n"
          ]
        },
        {
          "output_type": "stream",
          "name": "stderr",
          "text": [
            "\r 16%|█▌        | 8/50 [00:10<00:53,  1.27s/it]"
          ]
        },
        {
          "output_type": "stream",
          "name": "stdout",
          "text": [
            "Epoch: 08/50, train loss: 0.1963, validation loss: 0.1452, Training time so far: 10.2 s\n"
          ]
        },
        {
          "output_type": "stream",
          "name": "stderr",
          "text": [
            "\r 18%|█▊        | 9/50 [00:11<00:51,  1.27s/it]"
          ]
        },
        {
          "output_type": "stream",
          "name": "stdout",
          "text": [
            "Epoch: 09/50, train loss: 0.1871, validation loss: 0.1333, Training time so far: 11.5 s\n"
          ]
        },
        {
          "output_type": "stream",
          "name": "stderr",
          "text": [
            "\r 20%|██        | 10/50 [00:12<00:52,  1.31s/it]"
          ]
        },
        {
          "output_type": "stream",
          "name": "stdout",
          "text": [
            "Epoch: 10/50, train loss: 0.1789, validation loss: 0.1205, Training time so far: 12.9 s\n"
          ]
        },
        {
          "output_type": "stream",
          "name": "stderr",
          "text": [
            "\r 22%|██▏       | 11/50 [00:14<00:50,  1.30s/it]"
          ]
        },
        {
          "output_type": "stream",
          "name": "stdout",
          "text": [
            "Epoch: 11/50, train loss: 0.1718, validation loss: 0.1217, Training time so far: 14.2 s\n"
          ]
        },
        {
          "output_type": "stream",
          "name": "stderr",
          "text": [
            "\r 24%|██▍       | 12/50 [00:15<00:49,  1.30s/it]"
          ]
        },
        {
          "output_type": "stream",
          "name": "stdout",
          "text": [
            "Epoch: 12/50, train loss: 0.1660, validation loss: 0.1152, Training time so far: 15.5 s\n"
          ]
        },
        {
          "output_type": "stream",
          "name": "stderr",
          "text": [
            "\r 26%|██▌       | 13/50 [00:16<00:48,  1.31s/it]"
          ]
        },
        {
          "output_type": "stream",
          "name": "stdout",
          "text": [
            "Epoch: 13/50, train loss: 0.1618, validation loss: 0.1170, Training time so far: 16.8 s\n"
          ]
        },
        {
          "output_type": "stream",
          "name": "stderr",
          "text": [
            "\r 28%|██▊       | 14/50 [00:18<00:46,  1.30s/it]"
          ]
        },
        {
          "output_type": "stream",
          "name": "stdout",
          "text": [
            "Epoch: 14/50, train loss: 0.1585, validation loss: 0.1148, Training time so far: 18.1 s\n"
          ]
        },
        {
          "output_type": "stream",
          "name": "stderr",
          "text": [
            "\r 30%|███       | 15/50 [00:19<00:45,  1.29s/it]"
          ]
        },
        {
          "output_type": "stream",
          "name": "stdout",
          "text": [
            "Epoch: 15/50, train loss: 0.1559, validation loss: 0.1130, Training time so far: 19.4 s\n"
          ]
        },
        {
          "output_type": "stream",
          "name": "stderr",
          "text": [
            "\r 32%|███▏      | 16/50 [00:20<00:42,  1.26s/it]"
          ]
        },
        {
          "output_type": "stream",
          "name": "stdout",
          "text": [
            "Epoch: 16/50, train loss: 0.1536, validation loss: 0.1147, Training time so far: 20.6 s\n"
          ]
        },
        {
          "output_type": "stream",
          "name": "stderr",
          "text": [
            "\r 34%|███▍      | 17/50 [00:21<00:41,  1.26s/it]"
          ]
        },
        {
          "output_type": "stream",
          "name": "stdout",
          "text": [
            "Epoch: 17/50, train loss: 0.1516, validation loss: 0.1146, Training time so far: 21.8 s\n"
          ]
        },
        {
          "output_type": "stream",
          "name": "stderr",
          "text": [
            "\r 36%|███▌      | 18/50 [00:23<00:40,  1.25s/it]"
          ]
        },
        {
          "output_type": "stream",
          "name": "stdout",
          "text": [
            "Epoch: 18/50, train loss: 0.1498, validation loss: 0.1160, Training time so far: 23.0 s\n"
          ]
        },
        {
          "output_type": "stream",
          "name": "stderr",
          "text": [
            "\r 38%|███▊      | 19/50 [00:24<00:38,  1.25s/it]"
          ]
        },
        {
          "output_type": "stream",
          "name": "stdout",
          "text": [
            "Epoch: 19/50, train loss: 0.1481, validation loss: 0.1073, Training time so far: 24.3 s\n"
          ]
        },
        {
          "output_type": "stream",
          "name": "stderr",
          "text": [
            "\r 40%|████      | 20/50 [00:25<00:37,  1.25s/it]"
          ]
        },
        {
          "output_type": "stream",
          "name": "stdout",
          "text": [
            "Epoch: 20/50, train loss: 0.1466, validation loss: 0.1134, Training time so far: 25.5 s\n"
          ]
        },
        {
          "output_type": "stream",
          "name": "stderr",
          "text": [
            "\r 42%|████▏     | 21/50 [00:26<00:35,  1.24s/it]"
          ]
        },
        {
          "output_type": "stream",
          "name": "stdout",
          "text": [
            "Epoch: 21/50, train loss: 0.1451, validation loss: 0.1145, Training time so far: 26.7 s\n"
          ]
        },
        {
          "output_type": "stream",
          "name": "stderr",
          "text": [
            "\r 44%|████▍     | 22/50 [00:27<00:34,  1.24s/it]"
          ]
        },
        {
          "output_type": "stream",
          "name": "stdout",
          "text": [
            "Epoch: 22/50, train loss: 0.1438, validation loss: 0.1104, Training time so far: 28.0 s\n"
          ]
        },
        {
          "output_type": "stream",
          "name": "stderr",
          "text": [
            "\r 46%|████▌     | 23/50 [00:29<00:33,  1.24s/it]"
          ]
        },
        {
          "output_type": "stream",
          "name": "stdout",
          "text": [
            "Epoch: 23/50, train loss: 0.1425, validation loss: 0.1056, Training time so far: 29.2 s\n"
          ]
        },
        {
          "output_type": "stream",
          "name": "stderr",
          "text": [
            "\r 48%|████▊     | 24/50 [00:30<00:32,  1.24s/it]"
          ]
        },
        {
          "output_type": "stream",
          "name": "stdout",
          "text": [
            "Epoch: 24/50, train loss: 0.1414, validation loss: 0.1076, Training time so far: 30.5 s\n"
          ]
        },
        {
          "output_type": "stream",
          "name": "stderr",
          "text": [
            "\r 50%|█████     | 25/50 [00:31<00:31,  1.25s/it]"
          ]
        },
        {
          "output_type": "stream",
          "name": "stdout",
          "text": [
            "Epoch: 25/50, train loss: 0.1402, validation loss: 0.1035, Training time so far: 31.7 s\n"
          ]
        },
        {
          "output_type": "stream",
          "name": "stderr",
          "text": [
            "\r 52%|█████▏    | 26/50 [00:32<00:30,  1.25s/it]"
          ]
        },
        {
          "output_type": "stream",
          "name": "stdout",
          "text": [
            "Epoch: 26/50, train loss: 0.1391, validation loss: 0.1036, Training time so far: 33.0 s\n"
          ]
        },
        {
          "output_type": "stream",
          "name": "stderr",
          "text": [
            "\r 54%|█████▍    | 27/50 [00:34<00:29,  1.28s/it]"
          ]
        },
        {
          "output_type": "stream",
          "name": "stdout",
          "text": [
            "Epoch: 27/50, train loss: 0.1380, validation loss: 0.1058, Training time so far: 34.3 s\n"
          ]
        },
        {
          "output_type": "stream",
          "name": "stderr",
          "text": [
            "\r 56%|█████▌    | 28/50 [00:35<00:27,  1.26s/it]"
          ]
        },
        {
          "output_type": "stream",
          "name": "stdout",
          "text": [
            "Epoch: 28/50, train loss: 0.1370, validation loss: 0.1010, Training time so far: 35.6 s\n"
          ]
        },
        {
          "output_type": "stream",
          "name": "stderr",
          "text": [
            "\r 58%|█████▊    | 29/50 [00:36<00:26,  1.25s/it]"
          ]
        },
        {
          "output_type": "stream",
          "name": "stdout",
          "text": [
            "Epoch: 29/50, train loss: 0.1361, validation loss: 0.1062, Training time so far: 36.8 s\n"
          ]
        },
        {
          "output_type": "stream",
          "name": "stderr",
          "text": [
            "\r 60%|██████    | 30/50 [00:37<00:24,  1.24s/it]"
          ]
        },
        {
          "output_type": "stream",
          "name": "stdout",
          "text": [
            "Epoch: 30/50, train loss: 0.1352, validation loss: 0.1010, Training time so far: 38.0 s\n"
          ]
        },
        {
          "output_type": "stream",
          "name": "stderr",
          "text": [
            "\r 62%|██████▏   | 31/50 [00:39<00:23,  1.23s/it]"
          ]
        },
        {
          "output_type": "stream",
          "name": "stdout",
          "text": [
            "Epoch: 31/50, train loss: 0.1343, validation loss: 0.0961, Training time so far: 39.2 s\n"
          ]
        },
        {
          "output_type": "stream",
          "name": "stderr",
          "text": [
            "\r 64%|██████▍   | 32/50 [00:40<00:22,  1.24s/it]"
          ]
        },
        {
          "output_type": "stream",
          "name": "stdout",
          "text": [
            "Epoch: 32/50, train loss: 0.1335, validation loss: 0.0996, Training time so far: 40.5 s\n"
          ]
        },
        {
          "output_type": "stream",
          "name": "stderr",
          "text": [
            "\r 66%|██████▌   | 33/50 [00:41<00:20,  1.23s/it]"
          ]
        },
        {
          "output_type": "stream",
          "name": "stdout",
          "text": [
            "Epoch: 33/50, train loss: 0.1327, validation loss: 0.0923, Training time so far: 41.7 s\n"
          ]
        },
        {
          "output_type": "stream",
          "name": "stderr",
          "text": [
            "\r 68%|██████▊   | 34/50 [00:42<00:19,  1.23s/it]"
          ]
        },
        {
          "output_type": "stream",
          "name": "stdout",
          "text": [
            "Epoch: 34/50, train loss: 0.1320, validation loss: 0.0960, Training time so far: 42.9 s\n"
          ]
        },
        {
          "output_type": "stream",
          "name": "stderr",
          "text": [
            "\r 70%|███████   | 35/50 [00:44<00:18,  1.21s/it]"
          ]
        },
        {
          "output_type": "stream",
          "name": "stdout",
          "text": [
            "Epoch: 35/50, train loss: 0.1313, validation loss: 0.0928, Training time so far: 44.1 s\n"
          ]
        },
        {
          "output_type": "stream",
          "name": "stderr",
          "text": [
            "\r 72%|███████▏  | 36/50 [00:45<00:16,  1.21s/it]"
          ]
        },
        {
          "output_type": "stream",
          "name": "stdout",
          "text": [
            "Epoch: 36/50, train loss: 0.1307, validation loss: 0.0972, Training time so far: 45.3 s\n"
          ]
        },
        {
          "output_type": "stream",
          "name": "stderr",
          "text": [
            "\r 74%|███████▍  | 37/50 [00:46<00:15,  1.22s/it]"
          ]
        },
        {
          "output_type": "stream",
          "name": "stdout",
          "text": [
            "Epoch: 37/50, train loss: 0.1300, validation loss: 0.0926, Training time so far: 46.5 s\n"
          ]
        },
        {
          "output_type": "stream",
          "name": "stderr",
          "text": [
            "\r 76%|███████▌  | 38/50 [00:48<00:16,  1.34s/it]"
          ]
        },
        {
          "output_type": "stream",
          "name": "stdout",
          "text": [
            "Epoch: 38/50, train loss: 0.1294, validation loss: 0.0894, Training time so far: 48.1 s\n"
          ]
        },
        {
          "output_type": "stream",
          "name": "stderr",
          "text": [
            "\r 78%|███████▊  | 39/50 [00:49<00:14,  1.30s/it]"
          ]
        },
        {
          "output_type": "stream",
          "name": "stdout",
          "text": [
            "Epoch: 39/50, train loss: 0.1288, validation loss: 0.0975, Training time so far: 49.4 s\n"
          ]
        },
        {
          "output_type": "stream",
          "name": "stderr",
          "text": [
            "\r 80%|████████  | 40/50 [00:50<00:12,  1.27s/it]"
          ]
        },
        {
          "output_type": "stream",
          "name": "stdout",
          "text": [
            "Epoch: 40/50, train loss: 0.1283, validation loss: 0.0896, Training time so far: 50.6 s\n"
          ]
        },
        {
          "output_type": "stream",
          "name": "stderr",
          "text": [
            "\r 82%|████████▏ | 41/50 [00:51<00:11,  1.25s/it]"
          ]
        },
        {
          "output_type": "stream",
          "name": "stdout",
          "text": [
            "Epoch: 41/50, train loss: 0.1277, validation loss: 0.0899, Training time so far: 51.8 s\n"
          ]
        },
        {
          "output_type": "stream",
          "name": "stderr",
          "text": [
            "\r 84%|████████▍ | 42/50 [00:52<00:09,  1.25s/it]"
          ]
        },
        {
          "output_type": "stream",
          "name": "stdout",
          "text": [
            "Epoch: 42/50, train loss: 0.1272, validation loss: 0.0902, Training time so far: 53.0 s\n"
          ]
        },
        {
          "output_type": "stream",
          "name": "stderr",
          "text": [
            "\r 86%|████████▌ | 43/50 [00:54<00:08,  1.23s/it]"
          ]
        },
        {
          "output_type": "stream",
          "name": "stdout",
          "text": [
            "Epoch: 43/50, train loss: 0.1267, validation loss: 0.0962, Training time so far: 54.2 s\n"
          ]
        },
        {
          "output_type": "stream",
          "name": "stderr",
          "text": [
            "\r 88%|████████▊ | 44/50 [00:55<00:07,  1.23s/it]"
          ]
        },
        {
          "output_type": "stream",
          "name": "stdout",
          "text": [
            "Epoch: 44/50, train loss: 0.1261, validation loss: 0.0953, Training time so far: 55.4 s\n"
          ]
        },
        {
          "output_type": "stream",
          "name": "stderr",
          "text": [
            "\r 90%|█████████ | 45/50 [00:56<00:06,  1.23s/it]"
          ]
        },
        {
          "output_type": "stream",
          "name": "stdout",
          "text": [
            "Epoch: 45/50, train loss: 0.1256, validation loss: 0.0931, Training time so far: 56.7 s\n"
          ]
        },
        {
          "output_type": "stream",
          "name": "stderr",
          "text": [
            "\r 92%|█████████▏| 46/50 [00:57<00:04,  1.22s/it]"
          ]
        },
        {
          "output_type": "stream",
          "name": "stdout",
          "text": [
            "Epoch: 46/50, train loss: 0.1251, validation loss: 0.0956, Training time so far: 57.9 s\n"
          ]
        },
        {
          "output_type": "stream",
          "name": "stderr",
          "text": [
            "\r 94%|█████████▍| 47/50 [00:59<00:03,  1.21s/it]"
          ]
        },
        {
          "output_type": "stream",
          "name": "stdout",
          "text": [
            "Epoch: 47/50, train loss: 0.1246, validation loss: 0.0892, Training time so far: 59.0 s\n"
          ]
        },
        {
          "output_type": "stream",
          "name": "stderr",
          "text": [
            "\r 96%|█████████▌| 48/50 [01:00<00:02,  1.21s/it]"
          ]
        },
        {
          "output_type": "stream",
          "name": "stdout",
          "text": [
            "Epoch: 48/50, train loss: 0.1241, validation loss: 0.0959, Training time so far: 60.2 s\n"
          ]
        },
        {
          "output_type": "stream",
          "name": "stderr",
          "text": [
            "\r 98%|█████████▊| 49/50 [01:01<00:01,  1.20s/it]"
          ]
        },
        {
          "output_type": "stream",
          "name": "stdout",
          "text": [
            "Epoch: 49/50, train loss: 0.1235, validation loss: 0.0918, Training time so far: 61.4 s\n"
          ]
        },
        {
          "output_type": "stream",
          "name": "stderr",
          "text": [
            "100%|██████████| 50/50 [01:02<00:00,  1.25s/it]"
          ]
        },
        {
          "output_type": "stream",
          "name": "stdout",
          "text": [
            "Epoch: 50/50, train loss: 0.1230, validation loss: 0.0962, Training time so far: 62.7 s\n"
          ]
        },
        {
          "output_type": "stream",
          "name": "stderr",
          "text": [
            "\n"
          ]
        }
      ]
    },
    {
      "cell_type": "code",
      "source": [
        "f, ax = plt.subplots(1,1, figsize=(10,8))\n",
        "\n",
        "fnt=16\n",
        "ax.plot(train_loss, color='blue', label='Train')\n",
        "ax.plot(validation_loss, color='red', linestyle='--', label='Test')\n",
        "ax.legend(fontsize=fnt)\n",
        "ax.tick_params(axis='both', labelsize=fnt)\n",
        "\n",
        "ax.set_xlabel(\"Epoch\", fontsize=fnt)\n",
        "ax.set_ylabel(\"Loss\", fontsize=fnt);"
      ],
      "metadata": {
        "colab": {
          "base_uri": "https://localhost:8080/",
          "height": 511
        },
        "id": "otixfDa5H1sv",
        "outputId": "ebd10448-b2d6-4d66-f3b0-d6899926b6d3"
      },
      "id": "otixfDa5H1sv",
      "execution_count": 99,
      "outputs": [
        {
          "output_type": "display_data",
          "data": {
            "text/plain": [
              "<Figure size 720x576 with 1 Axes>"
            ],
            "image/png": "[encoded data removed]"
          },
          "metadata": {
            "needs_background": "light"
          }
        }
      ]
    },
    {
      "cell_type": "code",
      "source": [
        "# model two: using data in timpoint 0 to predict timepoint 1\n",
        "model_2 = Network().to(device)\n",
        "# optimizer\n",
        "# optimizer_2 = torch.optim.SGD(model_2.parameters(), lr=0.0001, momentum=0.5)\n",
        "optimizer_2 =torch.optim.Adam(model_2.parameters())\n",
        "# data loader\n",
        "train_loader_2 = torch.utils.data.DataLoader(train_dataset_2, batch_size=100)\n",
        "# start training\n",
        "trainer.run_trainer(model_2, train_loader_2, valid_DataLoader_2, optimizer_2,predict_time=1)\n",
        "\n",
        "# model three: using data in timpoint 0 to predict timepoint 1.5\n",
        "model_3 = Network().to(device)\n",
        "# optimizer\n",
        "# optimizer_3 = torch.optim.SGD(model_3.parameters(), lr=0.0001, momentum=0.5)\n",
        "optimizer_3 =torch.optim.Adam(model_3.parameters())\n",
        "# data loader\n",
        "train_loader_3 = torch.utils.data.DataLoader(train_dataset_3, batch_size=100)\n",
        "# start training\n",
        "trainer.run_trainer(model_3, train_loader_3, valid_DataLoader_3, optimizer_3,predict_time=1.5)"
      ],
      "metadata": {
        "colab": {
          "base_uri": "https://localhost:8080/"
        },
        "id": "YvfoZMadUXBX",
        "outputId": "c6751d4e-f152-46bb-fa2a-3c375bd86d26"
      },
      "id": "YvfoZMadUXBX",
      "execution_count": 100,
      "outputs": [
        {
          "output_type": "stream",
          "name": "stderr",
          "text": [
            "  2%|▏         | 1/50 [00:01<00:57,  1.18s/it]"
          ]
        },
        {
          "output_type": "stream",
          "name": "stdout",
          "text": [
            "Epoch: 01/50, train loss: 4.4509, validation loss: 1.3067, Training time so far: 1.2 s\n"
          ]
        },
        {
          "output_type": "stream",
          "name": "stderr",
          "text": [
            "\r  4%|▍         | 2/50 [00:02<00:56,  1.18s/it]"
          ]
        },
        {
          "output_type": "stream",
          "name": "stdout",
          "text": [
            "Epoch: 02/50, train loss: 0.7041, validation loss: 0.4195, Training time so far: 2.4 s\n"
          ]
        },
        {
          "output_type": "stream",
          "name": "stderr",
          "text": [
            "\r  6%|▌         | 3/50 [00:03<00:55,  1.19s/it]"
          ]
        },
        {
          "output_type": "stream",
          "name": "stdout",
          "text": [
            "Epoch: 03/50, train loss: 0.4450, validation loss: 0.3696, Training time so far: 3.6 s\n"
          ]
        },
        {
          "output_type": "stream",
          "name": "stderr",
          "text": [
            "\r  8%|▊         | 4/50 [00:04<00:54,  1.19s/it]"
          ]
        },
        {
          "output_type": "stream",
          "name": "stdout",
          "text": [
            "Epoch: 04/50, train loss: 0.3986, validation loss: 0.3455, Training time so far: 4.7 s\n"
          ]
        },
        {
          "output_type": "stream",
          "name": "stderr",
          "text": [
            "\r 10%|█         | 5/50 [00:05<00:53,  1.19s/it]"
          ]
        },
        {
          "output_type": "stream",
          "name": "stdout",
          "text": [
            "Epoch: 05/50, train loss: 0.3687, validation loss: 0.3236, Training time so far: 5.9 s\n"
          ]
        },
        {
          "output_type": "stream",
          "name": "stderr",
          "text": [
            "\r 12%|█▏        | 6/50 [00:07<00:52,  1.19s/it]"
          ]
        },
        {
          "output_type": "stream",
          "name": "stdout",
          "text": [
            "Epoch: 06/50, train loss: 0.3481, validation loss: 0.3079, Training time so far: 7.1 s\n"
          ]
        },
        {
          "output_type": "stream",
          "name": "stderr",
          "text": [
            "\r 14%|█▍        | 7/50 [00:08<00:51,  1.19s/it]"
          ]
        },
        {
          "output_type": "stream",
          "name": "stdout",
          "text": [
            "Epoch: 07/50, train loss: 0.3333, validation loss: 0.2924, Training time so far: 8.3 s\n"
          ]
        },
        {
          "output_type": "stream",
          "name": "stderr",
          "text": [
            "\r 16%|█▌        | 8/50 [00:09<00:50,  1.19s/it]"
          ]
        },
        {
          "output_type": "stream",
          "name": "stdout",
          "text": [
            "Epoch: 08/50, train loss: 0.3211, validation loss: 0.2751, Training time so far: 9.5 s\n"
          ]
        },
        {
          "output_type": "stream",
          "name": "stderr",
          "text": [
            "\r 18%|█▊        | 9/50 [00:10<00:49,  1.20s/it]"
          ]
        },
        {
          "output_type": "stream",
          "name": "stdout",
          "text": [
            "Epoch: 09/50, train loss: 0.3106, validation loss: 0.2588, Training time so far: 10.7 s\n"
          ]
        },
        {
          "output_type": "stream",
          "name": "stderr",
          "text": [
            "\r 20%|██        | 10/50 [00:11<00:48,  1.21s/it]"
          ]
        },
        {
          "output_type": "stream",
          "name": "stdout",
          "text": [
            "Epoch: 10/50, train loss: 0.3008, validation loss: 0.2455, Training time so far: 12.0 s\n"
          ]
        },
        {
          "output_type": "stream",
          "name": "stderr",
          "text": [
            "\r 22%|██▏       | 11/50 [00:13<00:46,  1.20s/it]"
          ]
        },
        {
          "output_type": "stream",
          "name": "stdout",
          "text": [
            "Epoch: 11/50, train loss: 0.2914, validation loss: 0.2326, Training time so far: 13.2 s\n"
          ]
        },
        {
          "output_type": "stream",
          "name": "stderr",
          "text": [
            "\r 24%|██▍       | 12/50 [00:14<00:45,  1.20s/it]"
          ]
        },
        {
          "output_type": "stream",
          "name": "stdout",
          "text": [
            "Epoch: 12/50, train loss: 0.2834, validation loss: 0.2225, Training time so far: 14.3 s\n"
          ]
        },
        {
          "output_type": "stream",
          "name": "stderr",
          "text": [
            "\r 26%|██▌       | 13/50 [00:15<00:44,  1.21s/it]"
          ]
        },
        {
          "output_type": "stream",
          "name": "stdout",
          "text": [
            "Epoch: 13/50, train loss: 0.2765, validation loss: 0.2207, Training time so far: 15.6 s\n"
          ]
        },
        {
          "output_type": "stream",
          "name": "stderr",
          "text": [
            "\r 28%|██▊       | 14/50 [00:16<00:43,  1.21s/it]"
          ]
        },
        {
          "output_type": "stream",
          "name": "stdout",
          "text": [
            "Epoch: 14/50, train loss: 0.2712, validation loss: 0.2098, Training time so far: 16.8 s\n"
          ]
        },
        {
          "output_type": "stream",
          "name": "stderr",
          "text": [
            "\r 30%|███       | 15/50 [00:17<00:42,  1.21s/it]"
          ]
        },
        {
          "output_type": "stream",
          "name": "stdout",
          "text": [
            "Epoch: 15/50, train loss: 0.2667, validation loss: 0.2024, Training time so far: 18.0 s\n"
          ]
        },
        {
          "output_type": "stream",
          "name": "stderr",
          "text": [
            "\r 32%|███▏      | 16/50 [00:19<00:40,  1.21s/it]"
          ]
        },
        {
          "output_type": "stream",
          "name": "stdout",
          "text": [
            "Epoch: 16/50, train loss: 0.2627, validation loss: 0.2042, Training time so far: 19.2 s\n"
          ]
        },
        {
          "output_type": "stream",
          "name": "stderr",
          "text": [
            "\r 34%|███▍      | 17/50 [00:20<00:40,  1.23s/it]"
          ]
        },
        {
          "output_type": "stream",
          "name": "stdout",
          "text": [
            "Epoch: 17/50, train loss: 0.2591, validation loss: 0.2040, Training time so far: 20.5 s\n"
          ]
        },
        {
          "output_type": "stream",
          "name": "stderr",
          "text": [
            "\r 36%|███▌      | 18/50 [00:21<00:40,  1.25s/it]"
          ]
        },
        {
          "output_type": "stream",
          "name": "stdout",
          "text": [
            "Epoch: 18/50, train loss: 0.2558, validation loss: 0.2006, Training time so far: 21.8 s\n"
          ]
        },
        {
          "output_type": "stream",
          "name": "stderr",
          "text": [
            "\r 38%|███▊      | 19/50 [00:22<00:38,  1.24s/it]"
          ]
        },
        {
          "output_type": "stream",
          "name": "stdout",
          "text": [
            "Epoch: 19/50, train loss: 0.2528, validation loss: 0.2042, Training time so far: 23.0 s\n"
          ]
        },
        {
          "output_type": "stream",
          "name": "stderr",
          "text": [
            "\r 40%|████      | 20/50 [00:24<00:37,  1.25s/it]"
          ]
        },
        {
          "output_type": "stream",
          "name": "stdout",
          "text": [
            "Epoch: 20/50, train loss: 0.2501, validation loss: 0.1922, Training time so far: 24.3 s\n"
          ]
        },
        {
          "output_type": "stream",
          "name": "stderr",
          "text": [
            "\r 42%|████▏     | 21/50 [00:25<00:36,  1.26s/it]"
          ]
        },
        {
          "output_type": "stream",
          "name": "stdout",
          "text": [
            "Epoch: 21/50, train loss: 0.2474, validation loss: 0.1929, Training time so far: 25.5 s\n"
          ]
        },
        {
          "output_type": "stream",
          "name": "stderr",
          "text": [
            "\r 44%|████▍     | 22/50 [00:26<00:35,  1.25s/it]"
          ]
        },
        {
          "output_type": "stream",
          "name": "stdout",
          "text": [
            "Epoch: 22/50, train loss: 0.2451, validation loss: 0.1918, Training time so far: 26.8 s\n"
          ]
        },
        {
          "output_type": "stream",
          "name": "stderr",
          "text": [
            "\r 46%|████▌     | 23/50 [00:27<00:33,  1.24s/it]"
          ]
        },
        {
          "output_type": "stream",
          "name": "stdout",
          "text": [
            "Epoch: 23/50, train loss: 0.2429, validation loss: 0.1908, Training time so far: 28.0 s\n"
          ]
        },
        {
          "output_type": "stream",
          "name": "stderr",
          "text": [
            "\r 48%|████▊     | 24/50 [00:29<00:32,  1.23s/it]"
          ]
        },
        {
          "output_type": "stream",
          "name": "stdout",
          "text": [
            "Epoch: 24/50, train loss: 0.2409, validation loss: 0.1812, Training time so far: 29.2 s\n"
          ]
        },
        {
          "output_type": "stream",
          "name": "stderr",
          "text": [
            "\r 50%|█████     | 25/50 [00:30<00:30,  1.22s/it]"
          ]
        },
        {
          "output_type": "stream",
          "name": "stdout",
          "text": [
            "Epoch: 25/50, train loss: 0.2389, validation loss: 0.1905, Training time so far: 30.4 s\n"
          ]
        },
        {
          "output_type": "stream",
          "name": "stderr",
          "text": [
            "\r 52%|█████▏    | 26/50 [00:31<00:29,  1.22s/it]"
          ]
        },
        {
          "output_type": "stream",
          "name": "stdout",
          "text": [
            "Epoch: 26/50, train loss: 0.2370, validation loss: 0.1809, Training time so far: 31.6 s\n"
          ]
        },
        {
          "output_type": "stream",
          "name": "stderr",
          "text": [
            "\r 54%|█████▍    | 27/50 [00:32<00:28,  1.22s/it]"
          ]
        },
        {
          "output_type": "stream",
          "name": "stdout",
          "text": [
            "Epoch: 27/50, train loss: 0.2353, validation loss: 0.1790, Training time so far: 32.8 s\n"
          ]
        },
        {
          "output_type": "stream",
          "name": "stderr",
          "text": [
            "\r 56%|█████▌    | 28/50 [00:34<00:26,  1.22s/it]"
          ]
        },
        {
          "output_type": "stream",
          "name": "stdout",
          "text": [
            "Epoch: 28/50, train loss: 0.2335, validation loss: 0.1799, Training time so far: 34.1 s\n"
          ]
        },
        {
          "output_type": "stream",
          "name": "stderr",
          "text": [
            "\r 58%|█████▊    | 29/50 [00:35<00:26,  1.24s/it]"
          ]
        },
        {
          "output_type": "stream",
          "name": "stdout",
          "text": [
            "Epoch: 29/50, train loss: 0.2318, validation loss: 0.1762, Training time so far: 35.4 s\n"
          ]
        },
        {
          "output_type": "stream",
          "name": "stderr",
          "text": [
            "\r 60%|██████    | 30/50 [00:36<00:24,  1.25s/it]"
          ]
        },
        {
          "output_type": "stream",
          "name": "stdout",
          "text": [
            "Epoch: 30/50, train loss: 0.2302, validation loss: 0.1818, Training time so far: 36.6 s\n"
          ]
        },
        {
          "output_type": "stream",
          "name": "stderr",
          "text": [
            "\r 62%|██████▏   | 31/50 [00:37<00:23,  1.24s/it]"
          ]
        },
        {
          "output_type": "stream",
          "name": "stdout",
          "text": [
            "Epoch: 31/50, train loss: 0.2287, validation loss: 0.1828, Training time so far: 37.8 s\n"
          ]
        },
        {
          "output_type": "stream",
          "name": "stderr",
          "text": [
            "\r 64%|██████▍   | 32/50 [00:39<00:22,  1.23s/it]"
          ]
        },
        {
          "output_type": "stream",
          "name": "stdout",
          "text": [
            "Epoch: 32/50, train loss: 0.2272, validation loss: 0.1838, Training time so far: 39.1 s\n"
          ]
        },
        {
          "output_type": "stream",
          "name": "stderr",
          "text": [
            "\r 66%|██████▌   | 33/50 [00:40<00:20,  1.23s/it]"
          ]
        },
        {
          "output_type": "stream",
          "name": "stdout",
          "text": [
            "Epoch: 33/50, train loss: 0.2257, validation loss: 0.1864, Training time so far: 40.3 s\n"
          ]
        },
        {
          "output_type": "stream",
          "name": "stderr",
          "text": [
            "\r 68%|██████▊   | 34/50 [00:41<00:19,  1.23s/it]"
          ]
        },
        {
          "output_type": "stream",
          "name": "stdout",
          "text": [
            "Epoch: 34/50, train loss: 0.2243, validation loss: 0.1838, Training time so far: 41.5 s\n"
          ]
        },
        {
          "output_type": "stream",
          "name": "stderr",
          "text": [
            "\r 70%|███████   | 35/50 [00:42<00:18,  1.23s/it]"
          ]
        },
        {
          "output_type": "stream",
          "name": "stdout",
          "text": [
            "Epoch: 35/50, train loss: 0.2230, validation loss: 0.1883, Training time so far: 42.8 s\n"
          ]
        },
        {
          "output_type": "stream",
          "name": "stderr",
          "text": [
            "\r 72%|███████▏  | 36/50 [00:43<00:17,  1.22s/it]"
          ]
        },
        {
          "output_type": "stream",
          "name": "stdout",
          "text": [
            "Epoch: 36/50, train loss: 0.2217, validation loss: 0.1780, Training time so far: 44.0 s\n"
          ]
        },
        {
          "output_type": "stream",
          "name": "stderr",
          "text": [
            "\r 74%|███████▍  | 37/50 [00:45<00:15,  1.21s/it]"
          ]
        },
        {
          "output_type": "stream",
          "name": "stdout",
          "text": [
            "Epoch: 37/50, train loss: 0.2206, validation loss: 0.1772, Training time so far: 45.1 s\n"
          ]
        },
        {
          "output_type": "stream",
          "name": "stderr",
          "text": [
            "\r 76%|███████▌  | 38/50 [00:46<00:15,  1.27s/it]"
          ]
        },
        {
          "output_type": "stream",
          "name": "stdout",
          "text": [
            "Epoch: 38/50, train loss: 0.2195, validation loss: 0.1764, Training time so far: 46.5 s\n"
          ]
        },
        {
          "output_type": "stream",
          "name": "stderr",
          "text": [
            "\r 78%|███████▊  | 39/50 [00:47<00:13,  1.26s/it]"
          ]
        },
        {
          "output_type": "stream",
          "name": "stdout",
          "text": [
            "Epoch: 39/50, train loss: 0.2185, validation loss: 0.1763, Training time so far: 47.8 s\n"
          ]
        },
        {
          "output_type": "stream",
          "name": "stderr",
          "text": [
            "\r 80%|████████  | 40/50 [00:49<00:12,  1.26s/it]"
          ]
        },
        {
          "output_type": "stream",
          "name": "stdout",
          "text": [
            "Epoch: 40/50, train loss: 0.2176, validation loss: 0.1701, Training time so far: 49.0 s\n"
          ]
        },
        {
          "output_type": "stream",
          "name": "stderr",
          "text": [
            "\r 82%|████████▏ | 41/50 [00:50<00:11,  1.26s/it]"
          ]
        },
        {
          "output_type": "stream",
          "name": "stdout",
          "text": [
            "Epoch: 41/50, train loss: 0.2167, validation loss: 0.1727, Training time so far: 50.3 s\n"
          ]
        },
        {
          "output_type": "stream",
          "name": "stderr",
          "text": [
            "\r 84%|████████▍ | 42/50 [00:52<00:11,  1.41s/it]"
          ]
        },
        {
          "output_type": "stream",
          "name": "stdout",
          "text": [
            "Epoch: 42/50, train loss: 0.2159, validation loss: 0.1836, Training time so far: 52.1 s\n"
          ]
        },
        {
          "output_type": "stream",
          "name": "stderr",
          "text": [
            "\r 86%|████████▌ | 43/50 [00:53<00:09,  1.37s/it]"
          ]
        },
        {
          "output_type": "stream",
          "name": "stdout",
          "text": [
            "Epoch: 43/50, train loss: 0.2150, validation loss: 0.1827, Training time so far: 53.3 s\n"
          ]
        },
        {
          "output_type": "stream",
          "name": "stderr",
          "text": [
            "\r 88%|████████▊ | 44/50 [00:54<00:07,  1.32s/it]"
          ]
        },
        {
          "output_type": "stream",
          "name": "stdout",
          "text": [
            "Epoch: 44/50, train loss: 0.2142, validation loss: 0.1768, Training time so far: 54.5 s\n"
          ]
        },
        {
          "output_type": "stream",
          "name": "stderr",
          "text": [
            "\r 90%|█████████ | 45/50 [00:55<00:06,  1.29s/it]"
          ]
        },
        {
          "output_type": "stream",
          "name": "stdout",
          "text": [
            "Epoch: 45/50, train loss: 0.2134, validation loss: 0.1809, Training time so far: 55.8 s\n"
          ]
        },
        {
          "output_type": "stream",
          "name": "stderr",
          "text": [
            "\r 92%|█████████▏| 46/50 [00:56<00:05,  1.27s/it]"
          ]
        },
        {
          "output_type": "stream",
          "name": "stdout",
          "text": [
            "Epoch: 46/50, train loss: 0.2127, validation loss: 0.1805, Training time so far: 57.0 s\n"
          ]
        },
        {
          "output_type": "stream",
          "name": "stderr",
          "text": [
            "\r 94%|█████████▍| 47/50 [00:58<00:03,  1.26s/it]"
          ]
        },
        {
          "output_type": "stream",
          "name": "stdout",
          "text": [
            "Epoch: 47/50, train loss: 0.2119, validation loss: 0.1718, Training time so far: 58.2 s\n"
          ]
        },
        {
          "output_type": "stream",
          "name": "stderr",
          "text": [
            "\r 96%|█████████▌| 48/50 [00:59<00:02,  1.25s/it]"
          ]
        },
        {
          "output_type": "stream",
          "name": "stdout",
          "text": [
            "Epoch: 48/50, train loss: 0.2112, validation loss: 0.1720, Training time so far: 59.4 s\n"
          ]
        },
        {
          "output_type": "stream",
          "name": "stderr",
          "text": [
            "\r 98%|█████████▊| 49/50 [01:00<00:01,  1.25s/it]"
          ]
        },
        {
          "output_type": "stream",
          "name": "stdout",
          "text": [
            "Epoch: 49/50, train loss: 0.2105, validation loss: 0.1764, Training time so far: 60.7 s\n"
          ]
        },
        {
          "output_type": "stream",
          "name": "stderr",
          "text": [
            "100%|██████████| 50/50 [01:01<00:00,  1.24s/it]\n"
          ]
        },
        {
          "output_type": "stream",
          "name": "stdout",
          "text": [
            "Epoch: 50/50, train loss: 0.2099, validation loss: 0.1799, Training time so far: 61.9 s\n"
          ]
        },
        {
          "output_type": "stream",
          "name": "stderr",
          "text": [
            "  2%|▏         | 1/50 [00:01<01:00,  1.23s/it]"
          ]
        },
        {
          "output_type": "stream",
          "name": "stdout",
          "text": [
            "Epoch: 01/50, train loss: 6.3099, validation loss: 2.0092, Training time so far: 1.2 s\n"
          ]
        },
        {
          "output_type": "stream",
          "name": "stderr",
          "text": [
            "\r  4%|▍         | 2/50 [00:02<00:59,  1.24s/it]"
          ]
        },
        {
          "output_type": "stream",
          "name": "stdout",
          "text": [
            "Epoch: 02/50, train loss: 1.0803, validation loss: 0.6372, Training time so far: 2.5 s\n"
          ]
        },
        {
          "output_type": "stream",
          "name": "stderr",
          "text": [
            "\r  6%|▌         | 3/50 [00:03<00:57,  1.23s/it]"
          ]
        },
        {
          "output_type": "stream",
          "name": "stdout",
          "text": [
            "Epoch: 03/50, train loss: 0.6599, validation loss: 0.5538, Training time so far: 3.7 s\n"
          ]
        },
        {
          "output_type": "stream",
          "name": "stderr",
          "text": [
            "\r  8%|▊         | 4/50 [00:04<00:56,  1.22s/it]"
          ]
        },
        {
          "output_type": "stream",
          "name": "stdout",
          "text": [
            "Epoch: 04/50, train loss: 0.6009, validation loss: 0.5286, Training time so far: 4.9 s\n"
          ]
        },
        {
          "output_type": "stream",
          "name": "stderr",
          "text": [
            "\r 10%|█         | 5/50 [00:06<00:55,  1.23s/it]"
          ]
        },
        {
          "output_type": "stream",
          "name": "stdout",
          "text": [
            "Epoch: 05/50, train loss: 0.5619, validation loss: 0.5054, Training time so far: 6.2 s\n"
          ]
        },
        {
          "output_type": "stream",
          "name": "stderr",
          "text": [
            "\r 12%|█▏        | 6/50 [00:07<00:54,  1.24s/it]"
          ]
        },
        {
          "output_type": "stream",
          "name": "stdout",
          "text": [
            "Epoch: 06/50, train loss: 0.5336, validation loss: 0.4881, Training time so far: 7.4 s\n"
          ]
        },
        {
          "output_type": "stream",
          "name": "stderr",
          "text": [
            "\r 14%|█▍        | 7/50 [00:08<00:53,  1.24s/it]"
          ]
        },
        {
          "output_type": "stream",
          "name": "stdout",
          "text": [
            "Epoch: 07/50, train loss: 0.5114, validation loss: 0.4832, Training time so far: 8.7 s\n"
          ]
        },
        {
          "output_type": "stream",
          "name": "stderr",
          "text": [
            "\r 16%|█▌        | 8/50 [00:09<00:52,  1.25s/it]"
          ]
        },
        {
          "output_type": "stream",
          "name": "stdout",
          "text": [
            "Epoch: 08/50, train loss: 0.4929, validation loss: 0.4764, Training time so far: 9.9 s\n"
          ]
        },
        {
          "output_type": "stream",
          "name": "stderr",
          "text": [
            "\r 18%|█▊        | 9/50 [00:11<00:52,  1.27s/it]"
          ]
        },
        {
          "output_type": "stream",
          "name": "stdout",
          "text": [
            "Epoch: 09/50, train loss: 0.4768, validation loss: 0.4617, Training time so far: 11.3 s\n"
          ]
        },
        {
          "output_type": "stream",
          "name": "stderr",
          "text": [
            "\r 20%|██        | 10/50 [00:12<00:50,  1.26s/it]"
          ]
        },
        {
          "output_type": "stream",
          "name": "stdout",
          "text": [
            "Epoch: 10/50, train loss: 0.4625, validation loss: 0.4526, Training time so far: 12.5 s\n"
          ]
        },
        {
          "output_type": "stream",
          "name": "stderr",
          "text": [
            "\r 22%|██▏       | 11/50 [00:13<00:49,  1.26s/it]"
          ]
        },
        {
          "output_type": "stream",
          "name": "stdout",
          "text": [
            "Epoch: 11/50, train loss: 0.4498, validation loss: 0.4480, Training time so far: 13.8 s\n"
          ]
        },
        {
          "output_type": "stream",
          "name": "stderr",
          "text": [
            "\r 24%|██▍       | 12/50 [00:15<00:47,  1.26s/it]"
          ]
        },
        {
          "output_type": "stream",
          "name": "stdout",
          "text": [
            "Epoch: 12/50, train loss: 0.4388, validation loss: 0.4377, Training time so far: 15.0 s\n"
          ]
        },
        {
          "output_type": "stream",
          "name": "stderr",
          "text": [
            "\r 26%|██▌       | 13/50 [00:16<00:46,  1.26s/it]"
          ]
        },
        {
          "output_type": "stream",
          "name": "stdout",
          "text": [
            "Epoch: 13/50, train loss: 0.4294, validation loss: 0.4284, Training time so far: 16.3 s\n"
          ]
        },
        {
          "output_type": "stream",
          "name": "stderr",
          "text": [
            "\r 28%|██▊       | 14/50 [00:17<00:45,  1.26s/it]"
          ]
        },
        {
          "output_type": "stream",
          "name": "stdout",
          "text": [
            "Epoch: 14/50, train loss: 0.4212, validation loss: 0.4190, Training time so far: 17.5 s\n"
          ]
        },
        {
          "output_type": "stream",
          "name": "stderr",
          "text": [
            "\r 30%|███       | 15/50 [00:18<00:44,  1.26s/it]"
          ]
        },
        {
          "output_type": "stream",
          "name": "stdout",
          "text": [
            "Epoch: 15/50, train loss: 0.4141, validation loss: 0.4087, Training time so far: 18.8 s\n"
          ]
        },
        {
          "output_type": "stream",
          "name": "stderr",
          "text": [
            "\r 32%|███▏      | 16/50 [00:20<00:42,  1.26s/it]"
          ]
        },
        {
          "output_type": "stream",
          "name": "stdout",
          "text": [
            "Epoch: 16/50, train loss: 0.4078, validation loss: 0.3993, Training time so far: 20.0 s\n"
          ]
        },
        {
          "output_type": "stream",
          "name": "stderr",
          "text": [
            "\r 34%|███▍      | 17/50 [00:21<00:41,  1.26s/it]"
          ]
        },
        {
          "output_type": "stream",
          "name": "stdout",
          "text": [
            "Epoch: 17/50, train loss: 0.4027, validation loss: 0.3932, Training time so far: 21.3 s\n"
          ]
        },
        {
          "output_type": "stream",
          "name": "stderr",
          "text": [
            "\r 36%|███▌      | 18/50 [00:22<00:40,  1.27s/it]"
          ]
        },
        {
          "output_type": "stream",
          "name": "stdout",
          "text": [
            "Epoch: 18/50, train loss: 0.3982, validation loss: 0.3802, Training time so far: 22.6 s\n"
          ]
        },
        {
          "output_type": "stream",
          "name": "stderr",
          "text": [
            "\r 38%|███▊      | 19/50 [00:23<00:39,  1.27s/it]"
          ]
        },
        {
          "output_type": "stream",
          "name": "stdout",
          "text": [
            "Epoch: 19/50, train loss: 0.3942, validation loss: 0.3833, Training time so far: 23.8 s\n"
          ]
        },
        {
          "output_type": "stream",
          "name": "stderr",
          "text": [
            "\r 40%|████      | 20/50 [00:25<00:37,  1.25s/it]"
          ]
        },
        {
          "output_type": "stream",
          "name": "stdout",
          "text": [
            "Epoch: 20/50, train loss: 0.3905, validation loss: 0.3857, Training time so far: 25.1 s\n"
          ]
        },
        {
          "output_type": "stream",
          "name": "stderr",
          "text": [
            "\r 42%|████▏     | 21/50 [00:26<00:36,  1.25s/it]"
          ]
        },
        {
          "output_type": "stream",
          "name": "stdout",
          "text": [
            "Epoch: 21/50, train loss: 0.3869, validation loss: 0.3670, Training time so far: 26.3 s\n"
          ]
        },
        {
          "output_type": "stream",
          "name": "stderr",
          "text": [
            "\r 44%|████▍     | 22/50 [00:27<00:35,  1.27s/it]"
          ]
        },
        {
          "output_type": "stream",
          "name": "stdout",
          "text": [
            "Epoch: 22/50, train loss: 0.3835, validation loss: 0.3730, Training time so far: 27.6 s\n"
          ]
        },
        {
          "output_type": "stream",
          "name": "stderr",
          "text": [
            "\r 46%|████▌     | 23/50 [00:28<00:34,  1.26s/it]"
          ]
        },
        {
          "output_type": "stream",
          "name": "stdout",
          "text": [
            "Epoch: 23/50, train loss: 0.3804, validation loss: 0.3511, Training time so far: 28.9 s\n"
          ]
        },
        {
          "output_type": "stream",
          "name": "stderr",
          "text": [
            "\r 48%|████▊     | 24/50 [00:30<00:32,  1.27s/it]"
          ]
        },
        {
          "output_type": "stream",
          "name": "stdout",
          "text": [
            "Epoch: 24/50, train loss: 0.3774, validation loss: 0.3536, Training time so far: 30.1 s\n"
          ]
        },
        {
          "output_type": "stream",
          "name": "stderr",
          "text": [
            "\r 50%|█████     | 25/50 [00:31<00:34,  1.39s/it]"
          ]
        },
        {
          "output_type": "stream",
          "name": "stdout",
          "text": [
            "Epoch: 25/50, train loss: 0.3746, validation loss: 0.3618, Training time so far: 31.8 s\n"
          ]
        },
        {
          "output_type": "stream",
          "name": "stderr",
          "text": [
            "\r 52%|█████▏    | 26/50 [00:33<00:32,  1.35s/it]"
          ]
        },
        {
          "output_type": "stream",
          "name": "stdout",
          "text": [
            "Epoch: 26/50, train loss: 0.3721, validation loss: 0.3524, Training time so far: 33.1 s\n"
          ]
        },
        {
          "output_type": "stream",
          "name": "stderr",
          "text": [
            "\r 54%|█████▍    | 27/50 [00:34<00:30,  1.32s/it]"
          ]
        },
        {
          "output_type": "stream",
          "name": "stdout",
          "text": [
            "Epoch: 27/50, train loss: 0.3698, validation loss: 0.3495, Training time so far: 34.3 s\n"
          ]
        },
        {
          "output_type": "stream",
          "name": "stderr",
          "text": [
            "\r 56%|█████▌    | 28/50 [00:35<00:28,  1.30s/it]"
          ]
        },
        {
          "output_type": "stream",
          "name": "stdout",
          "text": [
            "Epoch: 28/50, train loss: 0.3677, validation loss: 0.3449, Training time so far: 35.6 s\n"
          ]
        },
        {
          "output_type": "stream",
          "name": "stderr",
          "text": [
            "\r 58%|█████▊    | 29/50 [00:36<00:27,  1.29s/it]"
          ]
        },
        {
          "output_type": "stream",
          "name": "stdout",
          "text": [
            "Epoch: 29/50, train loss: 0.3657, validation loss: 0.3436, Training time so far: 36.9 s\n"
          ]
        },
        {
          "output_type": "stream",
          "name": "stderr",
          "text": [
            "\r 60%|██████    | 30/50 [00:38<00:25,  1.27s/it]"
          ]
        },
        {
          "output_type": "stream",
          "name": "stdout",
          "text": [
            "Epoch: 30/50, train loss: 0.3639, validation loss: 0.3391, Training time so far: 38.1 s\n"
          ]
        },
        {
          "output_type": "stream",
          "name": "stderr",
          "text": [
            "\r 62%|██████▏   | 31/50 [00:39<00:23,  1.26s/it]"
          ]
        },
        {
          "output_type": "stream",
          "name": "stdout",
          "text": [
            "Epoch: 31/50, train loss: 0.3622, validation loss: 0.3407, Training time so far: 39.3 s\n"
          ]
        },
        {
          "output_type": "stream",
          "name": "stderr",
          "text": [
            "\r 64%|██████▍   | 32/50 [00:40<00:22,  1.25s/it]"
          ]
        },
        {
          "output_type": "stream",
          "name": "stdout",
          "text": [
            "Epoch: 32/50, train loss: 0.3606, validation loss: 0.3346, Training time so far: 40.6 s\n"
          ]
        },
        {
          "output_type": "stream",
          "name": "stderr",
          "text": [
            "\r 66%|██████▌   | 33/50 [00:41<00:21,  1.27s/it]"
          ]
        },
        {
          "output_type": "stream",
          "name": "stdout",
          "text": [
            "Epoch: 33/50, train loss: 0.3592, validation loss: 0.3471, Training time so far: 41.8 s\n"
          ]
        },
        {
          "output_type": "stream",
          "name": "stderr",
          "text": [
            "\r 68%|██████▊   | 34/50 [00:43<00:20,  1.26s/it]"
          ]
        },
        {
          "output_type": "stream",
          "name": "stdout",
          "text": [
            "Epoch: 34/50, train loss: 0.3578, validation loss: 0.3401, Training time so far: 43.1 s\n"
          ]
        },
        {
          "output_type": "stream",
          "name": "stderr",
          "text": [
            "\r 70%|███████   | 35/50 [00:44<00:18,  1.25s/it]"
          ]
        },
        {
          "output_type": "stream",
          "name": "stdout",
          "text": [
            "Epoch: 35/50, train loss: 0.3565, validation loss: 0.3398, Training time so far: 44.3 s\n"
          ]
        },
        {
          "output_type": "stream",
          "name": "stderr",
          "text": [
            "\r 72%|███████▏  | 36/50 [00:45<00:17,  1.25s/it]"
          ]
        },
        {
          "output_type": "stream",
          "name": "stdout",
          "text": [
            "Epoch: 36/50, train loss: 0.3554, validation loss: 0.3445, Training time so far: 45.6 s\n"
          ]
        },
        {
          "output_type": "stream",
          "name": "stderr",
          "text": [
            "\r 74%|███████▍  | 37/50 [00:46<00:16,  1.26s/it]"
          ]
        },
        {
          "output_type": "stream",
          "name": "stdout",
          "text": [
            "Epoch: 37/50, train loss: 0.3543, validation loss: 0.3413, Training time so far: 46.9 s\n"
          ]
        },
        {
          "output_type": "stream",
          "name": "stderr",
          "text": [
            "\r 76%|███████▌  | 38/50 [00:48<00:15,  1.28s/it]"
          ]
        },
        {
          "output_type": "stream",
          "name": "stdout",
          "text": [
            "Epoch: 38/50, train loss: 0.3533, validation loss: 0.3386, Training time so far: 48.2 s\n"
          ]
        },
        {
          "output_type": "stream",
          "name": "stderr",
          "text": [
            "\r 78%|███████▊  | 39/50 [00:49<00:14,  1.28s/it]"
          ]
        },
        {
          "output_type": "stream",
          "name": "stdout",
          "text": [
            "Epoch: 39/50, train loss: 0.3523, validation loss: 0.3437, Training time so far: 49.5 s\n"
          ]
        },
        {
          "output_type": "stream",
          "name": "stderr",
          "text": [
            "\r 80%|████████  | 40/50 [00:50<00:12,  1.27s/it]"
          ]
        },
        {
          "output_type": "stream",
          "name": "stdout",
          "text": [
            "Epoch: 40/50, train loss: 0.3514, validation loss: 0.3314, Training time so far: 50.7 s\n"
          ]
        },
        {
          "output_type": "stream",
          "name": "stderr",
          "text": [
            "\r 82%|████████▏ | 41/50 [00:51<00:11,  1.27s/it]"
          ]
        },
        {
          "output_type": "stream",
          "name": "stdout",
          "text": [
            "Epoch: 41/50, train loss: 0.3504, validation loss: 0.3384, Training time so far: 52.0 s\n"
          ]
        },
        {
          "output_type": "stream",
          "name": "stderr",
          "text": [
            "\r 84%|████████▍ | 42/50 [00:53<00:10,  1.26s/it]"
          ]
        },
        {
          "output_type": "stream",
          "name": "stdout",
          "text": [
            "Epoch: 42/50, train loss: 0.3496, validation loss: 0.3486, Training time so far: 53.2 s\n"
          ]
        },
        {
          "output_type": "stream",
          "name": "stderr",
          "text": [
            "\r 86%|████████▌ | 43/50 [00:54<00:08,  1.27s/it]"
          ]
        },
        {
          "output_type": "stream",
          "name": "stdout",
          "text": [
            "Epoch: 43/50, train loss: 0.3488, validation loss: 0.3461, Training time so far: 54.5 s\n"
          ]
        },
        {
          "output_type": "stream",
          "name": "stderr",
          "text": [
            "\r 88%|████████▊ | 44/50 [00:55<00:07,  1.27s/it]"
          ]
        },
        {
          "output_type": "stream",
          "name": "stdout",
          "text": [
            "Epoch: 44/50, train loss: 0.3480, validation loss: 0.3340, Training time so far: 55.8 s\n"
          ]
        },
        {
          "output_type": "stream",
          "name": "stderr",
          "text": [
            "\r 90%|█████████ | 45/50 [00:57<00:06,  1.28s/it]"
          ]
        },
        {
          "output_type": "stream",
          "name": "stdout",
          "text": [
            "Epoch: 45/50, train loss: 0.3472, validation loss: 0.3311, Training time so far: 57.1 s\n"
          ]
        },
        {
          "output_type": "stream",
          "name": "stderr",
          "text": [
            "\r 92%|█████████▏| 46/50 [00:58<00:05,  1.29s/it]"
          ]
        },
        {
          "output_type": "stream",
          "name": "stdout",
          "text": [
            "Epoch: 46/50, train loss: 0.3465, validation loss: 0.3343, Training time so far: 58.4 s\n"
          ]
        },
        {
          "output_type": "stream",
          "name": "stderr",
          "text": [
            "\r 94%|█████████▍| 47/50 [00:59<00:03,  1.28s/it]"
          ]
        },
        {
          "output_type": "stream",
          "name": "stdout",
          "text": [
            "Epoch: 47/50, train loss: 0.3458, validation loss: 0.3276, Training time so far: 59.6 s\n"
          ]
        },
        {
          "output_type": "stream",
          "name": "stderr",
          "text": [
            "\r 96%|█████████▌| 48/50 [01:00<00:02,  1.27s/it]"
          ]
        },
        {
          "output_type": "stream",
          "name": "stdout",
          "text": [
            "Epoch: 48/50, train loss: 0.3452, validation loss: 0.3461, Training time so far: 60.9 s\n"
          ]
        },
        {
          "output_type": "stream",
          "name": "stderr",
          "text": [
            "\r 98%|█████████▊| 49/50 [01:02<00:01,  1.26s/it]"
          ]
        },
        {
          "output_type": "stream",
          "name": "stdout",
          "text": [
            "Epoch: 49/50, train loss: 0.3446, validation loss: 0.3376, Training time so far: 62.1 s\n"
          ]
        },
        {
          "output_type": "stream",
          "name": "stderr",
          "text": [
            "100%|██████████| 50/50 [01:03<00:00,  1.27s/it]"
          ]
        },
        {
          "output_type": "stream",
          "name": "stdout",
          "text": [
            "Epoch: 50/50, train loss: 0.3440, validation loss: 0.3262, Training time so far: 63.4 s\n"
          ]
        },
        {
          "output_type": "stream",
          "name": "stderr",
          "text": [
            "\n"
          ]
        },
        {
          "output_type": "execute_result",
          "data": {
            "text/plain": [
              "([6.30994653582573,\n",
              "  1.0802572876214982,\n",
              "  0.6599365174770355,\n",
              "  0.6009036582708359,\n",
              "  0.5619448402523994,\n",
              "  0.5335549989342689,\n",
              "  0.5113689556717873,\n",
              "  0.49294006288051606,\n",
              "  0.47675350606441497,\n",
              "  0.4625053536891937,\n",
              "  0.4498389971256256,\n",
              "  0.4388190895318985,\n",
              "  0.4294223701953888,\n",
              "  0.42120759159326554,\n",
              "  0.41407044619321826,\n",
              "  0.4078142249584198,\n",
              "  0.4026585793495178,\n",
              "  0.39821775019168854,\n",
              "  0.3941920432448387,\n",
              "  0.3904809588193893,\n",
              "  0.38694979310035704,\n",
              "  0.3835440030694008,\n",
              "  0.38035700112581255,\n",
              "  0.37737789511680603,\n",
              "  0.37459552198648455,\n",
              "  0.37208521127700805,\n",
              "  0.3697511477768421,\n",
              "  0.36767779529094696,\n",
              "  0.36574604094028473,\n",
              "  0.36390537455677985,\n",
              "  0.36221811652183533,\n",
              "  0.36059040620923044,\n",
              "  0.35919253557920455,\n",
              "  0.3578143660724163,\n",
              "  0.3565478141605854,\n",
              "  0.3554107880592346,\n",
              "  0.3543119843304157,\n",
              "  0.35331968605518344,\n",
              "  0.3523405034840107,\n",
              "  0.3513662129640579,\n",
              "  0.35044442385435104,\n",
              "  0.3495793302357197,\n",
              "  0.3487524951994419,\n",
              "  0.3479608231782913,\n",
              "  0.3472048044204712,\n",
              "  0.3465198889374733,\n",
              "  0.3458413530886173,\n",
              "  0.3452164021134376,\n",
              "  0.34459531486034395,\n",
              "  0.34401023656129837],\n",
              " [2.0092473,\n",
              "  0.6372231,\n",
              "  0.5538304,\n",
              "  0.52859294,\n",
              "  0.5054311,\n",
              "  0.4880887,\n",
              "  0.48320216,\n",
              "  0.47639376,\n",
              "  0.46169528,\n",
              "  0.45258436,\n",
              "  0.44804686,\n",
              "  0.43774533,\n",
              "  0.4284409,\n",
              "  0.41895795,\n",
              "  0.4087209,\n",
              "  0.39930335,\n",
              "  0.39321437,\n",
              "  0.38015956,\n",
              "  0.38326886,\n",
              "  0.3857121,\n",
              "  0.36696765,\n",
              "  0.37300304,\n",
              "  0.35108215,\n",
              "  0.35355094,\n",
              "  0.36176485,\n",
              "  0.35242295,\n",
              "  0.34946486,\n",
              "  0.34486574,\n",
              "  0.34363258,\n",
              "  0.33907697,\n",
              "  0.3407117,\n",
              "  0.33460662,\n",
              "  0.3471363,\n",
              "  0.34013158,\n",
              "  0.3398111,\n",
              "  0.34449172,\n",
              "  0.3413499,\n",
              "  0.33859998,\n",
              "  0.34366608,\n",
              "  0.3313834,\n",
              "  0.33839205,\n",
              "  0.34859473,\n",
              "  0.34606895,\n",
              "  0.33401585,\n",
              "  0.331124,\n",
              "  0.3342706,\n",
              "  0.3276484,\n",
              "  0.3460963,\n",
              "  0.33755827,\n",
              "  0.326191])"
            ]
          },
          "metadata": {},
          "execution_count": 100
        }
      ]
    },
    {
      "cell_type": "markdown",
      "id": "d5fb3b29",
      "metadata": {
        "id": "d5fb3b29"
      },
      "source": [
        "\n",
        "# Evaluation"
      ]
    },
    {
      "cell_type": "code",
      "execution_count": 68,
      "id": "2280031f",
      "metadata": {
        "id": "2280031f"
      },
      "outputs": [],
      "source": [
        "# prepare test data\n",
        "input_data, label_data_1, label_data_2, label_data_3 = data_transformation(positions_test, velocities_test, charges_test)\n",
        "test_dataset_1 = MyDataset(input_data, label_data_1)\n",
        "test_dataset_2 = MyDataset(input_data, label_data_2)\n",
        "test_dataset_3 = MyDataset(input_data, label_data_3)\n",
        "# data loader\n",
        "test_DataLoader_1 = torch.utils.data.DataLoader(test_dataset_1, batch_size=100)\n",
        "test_DataLoader_2 = torch.utils.data.DataLoader(test_dataset_2, batch_size=100)\n",
        "test_DataLoader_3 = torch.utils.data.DataLoader(test_dataset_3, batch_size=100)"
      ]
    },
    {
      "cell_type": "code",
      "execution_count": 104,
      "id": "3a8240f1",
      "metadata": {
        "id": "3a8240f1"
      },
      "outputs": [],
      "source": [
        "# MSE loss\n",
        "\n",
        "# evaluation model1\n",
        "__, r2_scores_1, compare_scores_1, predictions_1 = trainer.evaluation(model_1, test_DataLoader_1)\n",
        "# # evaluation model2\n",
        "__,r2_scores_2, compare_scores_2, predictions_2 = trainer.evaluation(model_2, test_DataLoader_2)\n",
        "# evaluation model3\n",
        "__,r2_scores_3, compare_scores_3, predictions_3 = trainer.evaluation(model_3, test_DataLoader_3)"
      ]
    },
    {
      "cell_type": "code",
      "source": [
        "print(np.mean(r2_scores_1),np.mean(compare_scores_1))\n",
        "print(np.mean(r2_scores_2),np.mean(compare_scores_2))\n",
        "print(np.mean(r2_scores_3),np.mean(compare_scores_3))\n",
        "\n",
        "# print(np.mean(score_list_2))\n",
        "# print(np.mean(score_list_3))"
      ],
      "metadata": {
        "colab": {
          "base_uri": "https://localhost:8080/"
        },
        "id": "rseS2blfKNsu",
        "outputId": "3dc46ebd-14d6-475a-a333-f9fc7aa98c82"
      },
      "id": "rseS2blfKNsu",
      "execution_count": 89,
      "outputs": [
        {
          "output_type": "stream",
          "name": "stdout",
          "text": [
            "0.9537554746014439 1.4228561312177002\n",
            "0.9221536824099731 1.0288076098973709\n",
            "0.9025911913565938 0.6952712408542651\n"
          ]
        }
      ]
    },
    {
      "cell_type": "code",
      "source": [
        "def plot_example(test_example,prediction): # initial position and velocities, and positions in the end\n",
        "    fig = plt.figure()\n",
        "    axes = plt.gca()\n",
        "    axes.set_xlim([-5., 5.])\n",
        "    axes.set_ylim([-5., 5.])\n",
        "    initial=test_example[0]\n",
        "    label=test_example[1]\n",
        "    pred_list = prediction.tolist()\n",
        "    test_arr = test_example[0].detach().numpy()\n",
        "    pos = np.hstack((test_arr[:,:2],prediction))\n",
        "\n",
        "    colors = ['red', 'blue', 'green', 'orange', 'brown']\n",
        "    for i in range(initial.shape[-1]):\n",
        "        plt.plot(initial[i,0], initial[i, 1], 'd', color=colors[i])\n",
        "        plt.plot(label[i,0], label[i,1], 'x', color=colors[i]) # the correct label\n",
        "        plt.plot(pred_list[i][0],pred_list[i][1], 'o',color=colors[i])\n",
        "        plt.plot([initial[i,0], initial[i,0] + initial[i,2]], [initial[i, 1], initial[i, 1] + initial[i,3]], '--', color=colors[i])\n",
        "    fig.set_size_inches(7, 7)\n",
        "    plt.xlim(np.min(pos)-1, np.max(pos) +1)\n",
        "    plt.ylim(np.min(pos)-1, np.max(pos) +1)\n",
        "    plt.plot([], [], 'd', color='black', label='initial position')\n",
        "    plt.plot([], [], 'o', color='black', label='predicted final position')\n",
        "    plt.plot([], [], 'x', color='black', label='actual final position')\n",
        "    plt.plot([], [], '--', color='black', label='initial velocity \\ndirection and magnitude')\n",
        "    plt.legend()\n",
        "    \n",
        "    plt.show()\n",
        "    return"
      ],
      "metadata": {
        "id": "4wBBT2GUDX8g"
      },
      "id": "4wBBT2GUDX8g",
      "execution_count": 134,
      "outputs": []
    },
    {
      "cell_type": "code",
      "source": [
        "random_idx = np.random.randint(0, 2000)\n",
        "n_batch = int(random_idx/100)\n",
        "idx_in_batch = int(random_idx%100)\n",
        "plot_example(test_dataset_1[random_idx],predictions_1[n_batch][idx_in_batch])"
      ],
      "metadata": {
        "id": "CLKP7b1pgxnJ",
        "colab": {
          "base_uri": "https://localhost:8080/",
          "height": 428
        },
        "outputId": "f00dcfcc-dadf-4e97-d6af-0ac82a648920"
      },
      "id": "CLKP7b1pgxnJ",
      "execution_count": 151,
      "outputs": [
        {
          "output_type": "display_data",
          "data": {
            "text/plain": [
              "<Figure size 504x504 with 1 Axes>"
            ],
            "image/png": "[encoded data removed]"
          },
          "metadata": {
            "needs_background": "light"
          }
        }
      ]
    },
    {
      "cell_type": "code",
      "source": [
        "random_idx = np.random.randint(0, 2000)\n",
        "n_batch = int(random_idx/100)\n",
        "idx_in_batch = int(random_idx%100)\n",
        "plot_example(test_dataset_2[random_idx],predictions_2[n_batch][idx_in_batch])"
      ],
      "metadata": {
        "id": "38zYEX8j2X5D",
        "colab": {
          "base_uri": "https://localhost:8080/",
          "height": 428
        },
        "outputId": "d621037c-9e68-4e77-a8c9-8636e1ae8836"
      },
      "id": "38zYEX8j2X5D",
      "execution_count": 165,
      "outputs": [
        {
          "output_type": "display_data",
          "data": {
            "text/plain": [
              "<Figure size 504x504 with 1 Axes>"
            ],
            "image/png": "[encoded data removed]"
          },
          "metadata": {
            "needs_background": "light"
          }
        }
      ]
    },
    {
      "cell_type": "code",
      "source": [
        "random_idx = np.random.randint(0, 2000)\n",
        "n_batch = int(random_idx/100)\n",
        "idx_in_batch = int(random_idx%100)\n",
        "plot_example(test_dataset_3[random_idx],predictions_3[n_batch][idx_in_batch])"
      ],
      "metadata": {
        "id": "WwDREJbU2hT6",
        "colab": {
          "base_uri": "https://localhost:8080/",
          "height": 428
        },
        "outputId": "cfccaa5f-3c2d-45c3-c9d0-6ac20a6626d6"
      },
      "id": "WwDREJbU2hT6",
      "execution_count": 155,
      "outputs": [
        {
          "output_type": "display_data",
          "data": {
            "text/plain": [
              "<Figure size 504x504 with 1 Axes>"
            ],
            "image/png": "[encoded data removed]"
          },
          "metadata": {
            "needs_background": "light"
          }
        }
      ]
    }
  ],
  "metadata": {
    "kernelspec": {
      "display_name": "Python 3",
      "language": "python",
      "name": "python3"
    },
    "language_info": {
      "codemirror_mode": {
        "name": "ipython",
        "version": 3
      },
      "file_extension": ".py",
      "mimetype": "text/x-python",
      "name": "python",
      "nbconvert_exporter": "python",
      "pygments_lexer": "ipython3",
      "version": "3.8.8"
    },
    "colab": {
      "name": "Copy_of_a2_skeleton-3.ipynb",
      "provenance": [],
      "collapsed_sections": []
    }
  },
  "nbformat": 4,
  "nbformat_minor": 5
}