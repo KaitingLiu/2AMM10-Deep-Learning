{
  "cells": [
    {
      "cell_type": "markdown",
      "metadata": {
        "id": "730fd591"
      },
      "source": [
        "<a href=\"https://colab.research.google.com/github/vlamen/tue-deeplearning/blob/main/assignments/assignment_4/assignment_4_skeleton.ipynb\" target=\"_parent\"><img src=\"https://colab.research.google.com/assets/colab-badge.svg\" alt=\"Open In Colab\"/></a>"
      ]
    },
    {
      "cell_type": "markdown",
      "metadata": {
        "id": "d32f8d18"
      },
      "source": [
        "# Group Number:\n",
        "\n",
        "# Student 1:\n",
        "\n",
        "# Student 2:\n",
        "\n",
        "# Student 3:"
      ]
    },
    {
      "cell_type": "markdown",
      "metadata": {
        "id": "_tnFA39Bq1f0"
      },
      "source": [
        "# Imports"
      ]
    },
    {
      "cell_type": "code",
      "execution_count": 139,
      "metadata": {
        "id": "dNhatf84q1f0"
      },
      "outputs": [],
      "source": [
        "import numpy as np\n",
        "import pickle\n",
        "import requests\n",
        "\n",
        "# other imports go here"
      ]
    },
    {
      "cell_type": "markdown",
      "metadata": {
        "id": "JU9q3kHgq1f1"
      },
      "source": [
        "# Data loading and inspection"
      ]
    },
    {
      "cell_type": "code",
      "execution_count": 140,
      "metadata": {
        "id": "kWY1tLj5q1f1"
      },
      "outputs": [],
      "source": [
        "# load and inspect data\n",
        "data_location = 'https://surfdrive.surf.nl/files/index.php/s/K3ArFDQJb5USQ6K/download'\n",
        "data_request = requests.get(data_location)\n",
        "full_data = pickle.loads(data_request.content)"
      ]
    },
    {
      "cell_type": "markdown",
      "metadata": {
        "id": "bZe1mjaFq1f1"
      },
      "source": [
        "# Data augmentation and pipeline"
      ]
    },
    {
      "cell_type": "code",
      "execution_count": 141,
      "metadata": {
        "id": "yBfYw05Xq1f1"
      },
      "outputs": [],
      "source": [
        "# code for data augmentation pipeline \n",
        "unlabeled_data = full_data[\"unlabeled_data\"]\n",
        "labeled_data = full_data[\"labeled_data\"]\n",
        "representative_set_1 = full_data[\"representative_set_1\"]\n",
        "representative_set_2 = full_data[\"representative_set_2\"]"
      ]
    },
    {
      "cell_type": "code",
      "source": [
        "import torch\n",
        "import torch.nn as nn\n",
        "from torch.optim import Adam\n",
        "from torchvision.datasets import FashionMNIST\n",
        "import torchvision.transforms as transforms\n",
        "# from torch.utils.data import DataLoader, SubsetRandomSampler\n",
        "from torch.utils.data import Dataset, DataLoader, TensorDataset\n",
        "import numpy as np\n",
        "import matplotlib.pyplot as plt\n",
        "import seaborn as sns\n",
        "from tqdm import tqdm\n",
        "from sklearn.metrics import roc_curve, precision_recall_curve, auc\n",
        "\n",
        "class MyDataset(Dataset):\n",
        "    def __init__(self, input_data, label_data):\n",
        "        self.input_data = input_data\n",
        "        self.label_data = label_data\n",
        "        # , transforms.RandomRotation(0, 45)\n",
        "        self.mnist_transform = transforms.Compose([transforms.ToTensor()])\n",
        "    def __getitem__(self, index):\n",
        "        input = self.mnist_transform(self.input_data[index]).moveaxis(0,1)\n",
        "        label = self.label_data[index]\n",
        "        return input, label\n",
        "        \n",
        "    def __len__(self):\n",
        "        return len(self.input_data)"
      ],
      "metadata": {
        "id": "1od19cIDr-Ny"
      },
      "execution_count": 142,
      "outputs": []
    },
    {
      "cell_type": "markdown",
      "metadata": {
        "id": "dD_DFSNqq1f1"
      },
      "source": [
        "# Model definitions"
      ]
    },
    {
      "cell_type": "code",
      "execution_count": 143,
      "metadata": {
        "id": "8xo9xL1Bq1f2"
      },
      "outputs": [],
      "source": [
        "# code for model definitions goes here\n",
        "class Encoder(nn.Module):\n",
        "    def __init__(self, input_dim, hidden_dim, latent_dim):\n",
        "        super(Encoder, self).__init__()\n",
        "        self.conv = nn.Sequential(\n",
        "            nn.Conv2d(1, 32, 3),  # 32@30*30\n",
        "            nn.BatchNorm2d(32,momentum=1,affine=True),\n",
        "            nn.ReLU(inplace=True),\n",
        "            nn.MaxPool2d(2),  # 32@15*15\n",
        "\n",
        "            nn.Conv2d(32, 64, 3), # 64@13*13\n",
        "            nn.BatchNorm2d(64,momentum=1,affine=True),\n",
        "            nn.ReLU(inplace=True),    \n",
        "            nn.MaxPool2d(2),   # 64@6*6\n",
        "            \n",
        "            nn.Conv2d(64, 128, 3), #128@4*4\n",
        "            nn.BatchNorm2d(128,momentum=1,affine=True),\n",
        "            nn.ReLU(inplace=True),\n",
        "            nn.Dropout(0.2)\n",
        "        )\n",
        "        self.liner = nn.Sequential(nn.Linear(2048, 1024), nn.Sigmoid())\n",
        "        self.fc_input = nn.Sequential(nn.Linear(1024, hidden_dim), nn.ReLU())\n",
        "        self.fc_hidden = nn.Sequential(nn.Linear(hidden_dim, hidden_dim), nn.ReLU())\n",
        "        self.fc_mu = nn.Linear(hidden_dim, latent_dim)\n",
        "        self.fc_sigma = nn.Linear (hidden_dim, latent_dim)\n",
        "        \n",
        "    def forward(self, x):\n",
        "        x = self.conv(x)\n",
        "        x = x.view(x.size()[0], -1)\n",
        "        h = self.liner(x)\n",
        "        h = self.fc_input(h)\n",
        "        h = self.fc_hidden(h)\n",
        "        mu = self.fc_mu(h)\n",
        "        log_sigma = self.fc_sigma(h)\n",
        "        z = self.reparameterization(mu, log_sigma)\n",
        "\n",
        "        return z, mu, log_sigma\n",
        "    \n",
        "    def reparameterization(self, mu, log_sigma):\n",
        "        sigma = torch.exp(log_sigma)\n",
        "        epsilon = torch.randn_like(sigma)\n",
        "        z = mu + sigma * epsilon\n",
        "        \n",
        "        return z\n",
        "\n",
        "\n",
        "class Decoder(nn.Module):\n",
        "    def __init__(self, latent_dim, hidden_dim, output_dim):\n",
        "        super(Decoder, self).__init__()\n",
        "        self.fc_hidden1 = nn.Sequential(nn.Linear(latent_dim, hidden_dim), nn.ReLU(), nn.Dropout(p=0.2))\n",
        "        self.fc_hidden2 = nn.Sequential(nn.Linear(hidden_dim, hidden_dim), nn.ReLU(), nn.Dropout(p=0.2))\n",
        "        self.fc_hidden3 = nn.Sequential(nn.Linear(hidden_dim, hidden_dim), nn.ReLU(), nn.Dropout(p=0.2))\n",
        "        self.fc_output = nn.Sequential(nn.Linear(hidden_dim, output_dim), nn.Sigmoid())\n",
        "        \n",
        "    def forward(self, x):\n",
        "        h = self.fc_hidden1(x)\n",
        "        h = self.fc_hidden2(h)\n",
        "        h = self.fc_hidden3(h)\n",
        "        x_reconstr = self.fc_output(h)\n",
        "        return x_reconstr\n",
        "\n",
        "class Classifier(nn.Module):\n",
        "    def __init__(self, latent_dim, hidden_dim, output_dim):\n",
        "        super(Classifier, self).__init__()\n",
        "        self.fc_input = nn.Sequential(nn.Linear(latent_dim, hidden_dim), nn.ReLU())\n",
        "        self.fc_hidden_1 = nn.Sequential(nn.Linear(hidden_dim, hidden_dim), nn.ReLU())\n",
        "        self.fc_hidden_2 = nn.Sequential(nn.Linear(hidden_dim, hidden_dim), nn.ReLU())\n",
        "        self.fc_output = nn.Sequential(nn.Linear(hidden_dim, output_dim), nn.Softmax())\n",
        "\n",
        "    def forward(self, x):\n",
        "        h = self.fc_input(x)\n",
        "        h = self.fc_hidden_1(h)\n",
        "        h = self.fc_hidden_2(h)\n",
        "        x = self.fc_output(h)\n",
        "        return x\n",
        "\n",
        "class VAE(nn.Module):\n",
        "    def __init__(self, encoder, decoder, classifier):\n",
        "        super(VAE, self).__init__()\n",
        "        self.encoder = encoder\n",
        "        self.decoder = decoder\n",
        "        self.classifier = classifier\n",
        "                \n",
        "    def forward(self, x):\n",
        "        z, mu, log_sigma = self.encoder(x)\n",
        "        x_reconstr = self.decoder(z)\n",
        "        y_pred = self.classifier(z)\n",
        "        return x_reconstr, mu, log_sigma, y_pred\n",
        "        # if labeled:\n",
        "        #     y_pred = self.classifier(z)\n",
        "        #     return x_reconstr, mu, log_sigma, y_pred\n",
        "        # else:\n",
        "        #     return x_reconstr, mu, log_sigma\n",
        "\n",
        "    def elbo_elementwise(self, x, x_reconstr, mu, log_sigma):\n",
        "        reconstr_loss = torch.sum(nn.functional.mse_loss(x_reconstr, x, reduction='none'), dim=1)\n",
        "        constant_term = x_dim * 0.5 * np.log(np.pi)  # assuming sigma=1/sqrt(2)\n",
        "        kl_loss = 0.5 * torch.sum(mu.pow(2) + (2*log_sigma).exp() - 2*log_sigma - 1, dim=1)\n",
        "        elbo = - reconstr_loss - constant_term - kl_loss\n",
        "        return elbo, reconstr_loss, kl_loss\n",
        "\n",
        "    def predict(self, x, threshold_left, threshold_right, DEVICE):\n",
        "        z, mu, log_sigma = self.encoder(x)\n",
        "        x_reconstr = self.decoder(z)\n",
        "        x = x.view(x.size()[0], -1)\n",
        "        elbo, reconstr_loss, kl_loss = self.elbo_elementwise(x, x_reconstr, mu, log_sigma)\n",
        "        zero = torch.tensor([[0]]).to(device=DEVICE, dtype=torch.float)\n",
        "\n",
        "        if reconstr_loss.item() > threshold_right or reconstr_loss.item() < threshold_left:\n",
        "          y_pred = torch.tensor([[0,0,0,0,0,1]]).to(device=DEVICE, dtype=torch.float)\n",
        "        else:\n",
        "          y_pred = self.classifier(z)\n",
        "          y_max = y_pred.argmax(1)\n",
        "          y_pred = torch.zeros(y_pred.shape).to(device=DEVICE, dtype=torch.float).scatter(1, y_max.unsqueeze (1), 1.0)\n",
        "          y_pred = torch.cat((y_pred, zero), dim=1)\n",
        "        return y_pred\n",
        "\n",
        "    def evaluation(self, batch, batch_size, threshold_left, threshold_right, DEVICE):\n",
        "        accuracy = 0\n",
        "        abnormal = torch.tensor([[0,0,0,0,0,1]]).to(device=DEVICE, dtype=torch.float)\n",
        "        abnormal_count = 0\n",
        "        for idx in range(batch_size):\n",
        "            x = batch[0][idx].to(device=DEVICE, dtype=torch.float).unsqueeze(0)\n",
        "            y = batch[1][idx].to(device=DEVICE, dtype=torch.float)\n",
        "            y_pred = self.predict(x, threshold_left, threshold_right, DEVICE)\n",
        "            # print(y_pred, y)\n",
        "            if torch.eq(y, y_pred).all(dim=1):\n",
        "                # print(y, y_pred)\n",
        "                if torch.eq(y, abnormal).all(dim=1):\n",
        "                    abnormal_count += 1\n",
        "                accuracy += 1\n",
        "        return accuracy / batch_size, abnormal_count, accuracy\n",
        "\n",
        "def loss_function(x, y, x_reconstr, mu, log_sigma, y_pred):\n",
        "    reconstr_loss = nn.functional.mse_loss(x_reconstr, x, reduction='sum')\n",
        "    kl_loss = 0.5 * torch.sum(mu.pow(2) + (2*log_sigma).exp() - 2*log_sigma - 1)\n",
        "    if torch.any(y).item():\n",
        "        cross_entropy_loss = torch.sum(-y * torch.log(y_pred) - (1 - y) * torch.log(1 - y_pred))\n",
        "    else:\n",
        "        cross_entropy_loss = torch.tensor(0).to(DEVICE, dtype=torch.float)\n",
        "    total_loss = reconstr_loss + kl_loss + cross_entropy_loss\n",
        "    return total_loss, reconstr_loss, kl_loss, cross_entropy_loss\n",
        "\n",
        "\n",
        "\n"
      ]
    },
    {
      "cell_type": "markdown",
      "metadata": {
        "id": "LdzU81w9q1f2"
      },
      "source": [
        "# Training and validation loop"
      ]
    },
    {
      "cell_type": "code",
      "execution_count": 154,
      "metadata": {
        "id": "2A9DF-3Uq1f2"
      },
      "outputs": [],
      "source": [
        "# write your training and validation loop here\n",
        "# hyper parameters\n",
        "latent_dim = 10\n",
        "x_dim = 1*32*32 #image dimension\n",
        "hidden_dim = 500\n",
        "output_dim = 5 # class category\n",
        "lr = 1e-4\n",
        "epochs = 50\n",
        "batch_size = 100\n",
        "x_channel = 1\n",
        "x_size = 32\n",
        "\n",
        "# data loader\n",
        "unlabeled_train_data = MyDataset(unlabeled_data, np.full((26000, 5), 0))\n",
        "unlabeled_train_loder = DataLoader(dataset=unlabeled_train_data, batch_size=batch_size)\n",
        "\n",
        "# initailize model\n",
        "cuda = True  # NOTE: if running in Google Colab, make sure to go to \"Edit > Notebook settings\" and set \"Hardware accelerator\" to \"GPU\"\n",
        "DEVICE = torch.device(\"cuda\" if cuda else \"cpu\")\n",
        "\n",
        "encoder = Encoder(input_dim=x_dim, hidden_dim=hidden_dim, latent_dim=latent_dim)\n",
        "decoder = Decoder(latent_dim=latent_dim, hidden_dim=hidden_dim, output_dim=x_dim)\n",
        "classifier = Classifier(latent_dim=latent_dim, hidden_dim=hidden_dim, output_dim=output_dim)\n",
        "\n",
        "vae = VAE(encoder=encoder, decoder=decoder, classifier=classifier).to(DEVICE)\n",
        "\n",
        "# optimizer = Adam(vae.parameters(), lr=lr)\n",
        "optimizer = torch.optim.SGD(vae.parameters(), lr=lr)"
      ]
    },
    {
      "cell_type": "code",
      "execution_count": 155,
      "metadata": {
        "id": "bAVU6XTxq1f2",
        "colab": {
          "base_uri": "https://localhost:8080/"
        },
        "outputId": "c259ea4b-8e4d-4394-d5f7-1b9fdae2ba13"
      },
      "outputs": [
        {
          "output_type": "stream",
          "name": "stdout",
          "text": [
            "Start training VAE with unlabeled data...\n"
          ]
        },
        {
          "output_type": "stream",
          "name": "stderr",
          "text": [
            "/usr/local/lib/python3.7/dist-packages/torch/nn/modules/container.py:141: UserWarning: Implicit dimension choice for softmax has been deprecated. Change the call to include dim=X as an argument.\n",
            "  input = module(input)\n"
          ]
        },
        {
          "output_type": "stream",
          "name": "stdout",
          "text": [
            "\tEpoch 1 \tAverage Loss:  69.32314770507813 \tReconstruction Loss: 68.17092703951322 \tKL Loss: 1.1522206852802863 \tCross Entropy Loss: 0.0\n",
            "\tEpoch 2 \tAverage Loss:  28.84581434044471 \tReconstruction Loss: 27.781684579702524 \tKL Loss: 1.0641297000004695 \tCross Entropy Loss: 0.0\n",
            "\tEpoch 3 \tAverage Loss:  16.45492600348057 \tReconstruction Loss: 15.330878577599158 \tKL Loss: 1.1240473920381986 \tCross Entropy Loss: 0.0\n",
            "\tEpoch 4 \tAverage Loss:  10.492997783954326 \tReconstruction Loss: 9.622629246638372 \tKL Loss: 0.8703685373159555 \tCross Entropy Loss: 0.0\n",
            "\tEpoch 5 \tAverage Loss:  7.718301906174879 \tReconstruction Loss: 6.944631824669471 \tKL Loss: 0.7736700800969051 \tCross Entropy Loss: 0.0\n",
            "\tEpoch 6 \tAverage Loss:  5.836353454589844 \tReconstruction Loss: 5.104285057654748 \tKL Loss: 0.7320683979132236 \tCross Entropy Loss: 0.0\n",
            "\tEpoch 7 \tAverage Loss:  4.708193785950378 \tReconstruction Loss: 4.051555527236435 \tKL Loss: 0.6566382669302133 \tCross Entropy Loss: 0.0\n",
            "\tEpoch 8 \tAverage Loss:  3.947611280001127 \tReconstruction Loss: 3.3674278200589693 \tKL Loss: 0.5801834548069881 \tCross Entropy Loss: 0.0\n",
            "\tEpoch 9 \tAverage Loss:  3.413513935839009 \tReconstruction Loss: 2.888521502111712 \tKL Loss: 0.524992441291483 \tCross Entropy Loss: 0.0\n",
            "\tEpoch 10 \tAverage Loss:  3.009756643442007 \tReconstruction Loss: 2.531895340670072 \tKL Loss: 0.4778613018329327 \tCross Entropy Loss: 0.0\n",
            "\tEpoch 11 \tAverage Loss:  2.6979833762428975 \tReconstruction Loss: 2.2596901659131885 \tKL Loss: 0.43829321022300455 \tCross Entropy Loss: 0.0\n",
            "\tEpoch 12 \tAverage Loss:  2.435758974515475 \tReconstruction Loss: 2.030243124154898 \tKL Loss: 0.40551585270808294 \tCross Entropy Loss: 0.0\n",
            "\tEpoch 13 \tAverage Loss:  2.227168757512019 \tReconstruction Loss: 1.8495482524442954 \tKL Loss: 0.37762050597061064 \tCross Entropy Loss: 0.0\n",
            "\tEpoch 14 \tAverage Loss:  2.0460836114569023 \tReconstruction Loss: 1.6940477610158395 \tKL Loss: 0.35203585127945786 \tCross Entropy Loss: 0.0\n",
            "\tEpoch 15 \tAverage Loss:  1.8956346598307292 \tReconstruction Loss: 1.5653621341020634 \tKL Loss: 0.3302725292499249 \tCross Entropy Loss: 0.0\n",
            "\tEpoch 16 \tAverage Loss:  1.7655644003061148 \tReconstruction Loss: 1.4526960666363056 \tKL Loss: 0.31286832919487584 \tCross Entropy Loss: 0.0\n",
            "\tEpoch 17 \tAverage Loss:  1.6486540549437925 \tReconstruction Loss: 1.3529938426298254 \tKL Loss: 0.2956602131424986 \tCross Entropy Loss: 0.0\n",
            "\tEpoch 18 \tAverage Loss:  1.5481852025741185 \tReconstruction Loss: 1.267971897223057 \tKL Loss: 0.2802133058727297 \tCross Entropy Loss: 0.0\n",
            "\tEpoch 19 \tAverage Loss:  1.4586172453227797 \tReconstruction Loss: 1.1909087904957143 \tKL Loss: 0.26770845593904197 \tCross Entropy Loss: 0.0\n",
            "\tEpoch 20 \tAverage Loss:  1.3785636141263522 \tReconstruction Loss: 1.121699311711238 \tKL Loss: 0.25686430106529823 \tCross Entropy Loss: 0.0\n",
            "\tEpoch 21 \tAverage Loss:  1.3071377507583561 \tReconstruction Loss: 1.0608157402290093 \tKL Loss: 0.24632201159131395 \tCross Entropy Loss: 0.0\n",
            "\tEpoch 22 \tAverage Loss:  1.2387536292442909 \tReconstruction Loss: 1.0018517729219023 \tKL Loss: 0.23690185482852108 \tCross Entropy Loss: 0.0\n",
            "\tEpoch 23 \tAverage Loss:  1.1800601769897052 \tReconstruction Loss: 0.9523379737062997 \tKL Loss: 0.22772219981317934 \tCross Entropy Loss: 0.0\n",
            "\tEpoch 24 \tAverage Loss:  1.124976073827499 \tReconstruction Loss: 0.9067550616142077 \tKL Loss: 0.21822101280016776 \tCross Entropy Loss: 0.0\n",
            "\tEpoch 25 \tAverage Loss:  1.075832949594351 \tReconstruction Loss: 0.8651604728816106 \tKL Loss: 0.21067248103215144 \tCross Entropy Loss: 0.0\n",
            "\tEpoch 26 \tAverage Loss:  1.03109377347506 \tReconstruction Loss: 0.827474256526789 \tKL Loss: 0.20361951888947796 \tCross Entropy Loss: 0.0\n",
            "\tEpoch 27 \tAverage Loss:  0.988789541391226 \tReconstruction Loss: 0.7929242120726496 \tKL Loss: 0.19586532818829572 \tCross Entropy Loss: 0.0\n",
            "\tEpoch 28 \tAverage Loss:  0.9514426926832933 \tReconstruction Loss: 0.7620053960779211 \tKL Loss: 0.1894372985336807 \tCross Entropy Loss: 0.0\n",
            "\tEpoch 29 \tAverage Loss:  0.9150120749233256 \tReconstruction Loss: 0.7314191525406167 \tKL Loss: 0.18359292169464678 \tCross Entropy Loss: 0.0\n",
            "\tEpoch 30 \tAverage Loss:  0.8803426554361979 \tReconstruction Loss: 0.7024916555551383 \tKL Loss: 0.1778510008591872 \tCross Entropy Loss: 0.0\n",
            "\tEpoch 31 \tAverage Loss:  0.8515951248812617 \tReconstruction Loss: 0.6787783771070003 \tKL Loss: 0.17281674607042638 \tCross Entropy Loss: 0.0\n",
            "\tEpoch 32 \tAverage Loss:  0.821266171675462 \tReconstruction Loss: 0.6542203953082745 \tKL Loss: 0.16704577434979953 \tCross Entropy Loss: 0.0\n",
            "\tEpoch 33 \tAverage Loss:  0.7950011100146598 \tReconstruction Loss: 0.6325638215747469 \tKL Loss: 0.1624372886177543 \tCross Entropy Loss: 0.0\n",
            "\tEpoch 34 \tAverage Loss:  0.7701246525691106 \tReconstruction Loss: 0.6124944340632512 \tKL Loss: 0.1576302218199855 \tCross Entropy Loss: 0.0\n",
            "\tEpoch 35 \tAverage Loss:  0.7469779272729223 \tReconstruction Loss: 0.5929656790597099 \tKL Loss: 0.15401224740835337 \tCross Entropy Loss: 0.0\n",
            "\tEpoch 36 \tAverage Loss:  0.7234208462706998 \tReconstruction Loss: 0.574165511172042 \tKL Loss: 0.14925533535949184 \tCross Entropy Loss: 0.0\n",
            "\tEpoch 37 \tAverage Loss:  0.7022336217678015 \tReconstruction Loss: 0.5570089965312743 \tKL Loss: 0.14522462580754206 \tCross Entropy Loss: 0.0\n",
            "\tEpoch 38 \tAverage Loss:  0.6821521954864626 \tReconstruction Loss: 0.5401595791341804 \tKL Loss: 0.14199261625961737 \tCross Entropy Loss: 0.0\n",
            "\tEpoch 39 \tAverage Loss:  0.6652117224097017 \tReconstruction Loss: 0.5266515807503545 \tKL Loss: 0.13856014093703772 \tCross Entropy Loss: 0.0\n",
            "\tEpoch 40 \tAverage Loss:  0.647282673058143 \tReconstruction Loss: 0.5119985997126653 \tKL Loss: 0.1352840714968168 \tCross Entropy Loss: 0.0\n",
            "\tEpoch 41 \tAverage Loss:  0.6295736207657863 \tReconstruction Loss: 0.4976113983211553 \tKL Loss: 0.1319622204406624 \tCross Entropy Loss: 0.0\n",
            "\tEpoch 42 \tAverage Loss:  0.6138916666219523 \tReconstruction Loss: 0.4853271787315061 \tKL Loss: 0.12856448677258614 \tCross Entropy Loss: 0.0\n",
            "\tEpoch 43 \tAverage Loss:  0.5989193785638417 \tReconstruction Loss: 0.4727634263149528 \tKL Loss: 0.126155950938653 \tCross Entropy Loss: 0.0\n",
            "\tEpoch 44 \tAverage Loss:  0.583850682398656 \tReconstruction Loss: 0.4608020570128114 \tKL Loss: 0.1230486269330645 \tCross Entropy Loss: 0.0\n",
            "\tEpoch 45 \tAverage Loss:  0.570326030607305 \tReconstruction Loss: 0.4498771420731504 \tKL Loss: 0.12044888816898705 \tCross Entropy Loss: 0.0\n",
            "\tEpoch 46 \tAverage Loss:  0.557162908547698 \tReconstruction Loss: 0.4388437353025711 \tKL Loss: 0.11831917380648711 \tCross Entropy Loss: 0.0\n",
            "\tEpoch 47 \tAverage Loss:  0.5441169973020663 \tReconstruction Loss: 0.42861682198831963 \tKL Loss: 0.11550017536369361 \tCross Entropy Loss: 0.0\n",
            "\tEpoch 48 \tAverage Loss:  0.532777224222819 \tReconstruction Loss: 0.4192965344160031 \tKL Loss: 0.11348069029587966 \tCross Entropy Loss: 0.0\n",
            "\tEpoch 49 \tAverage Loss:  0.5215557395659586 \tReconstruction Loss: 0.4104651530458938 \tKL Loss: 0.11109058690333104 \tCross Entropy Loss: 0.0\n",
            "\tEpoch 50 \tAverage Loss:  0.5091415701998198 \tReconstruction Loss: 0.4005805852801983 \tKL Loss: 0.10856098499004657 \tCross Entropy Loss: 0.0\n",
            "Training1 complete!\n"
          ]
        }
      ],
      "source": [
        "# perform training\n",
        "print(\"Start training VAE with unlabeled data...\")\n",
        "vae.train()\n",
        "overall_losses = []\n",
        "overall_reconstr_losses = []\n",
        "overall_kl_losses = []\n",
        "overall_cross_entropy_losses = []\n",
        "\n",
        "for epoch in range(epochs):\n",
        "    overall_loss = 0\n",
        "    overall_reconstr_loss = 0\n",
        "    overall_kl_loss = 0\n",
        "    overall_cross_entropy_loss = 0\n",
        "    n_datapoints = 0\n",
        "    for batch_idx, (x, y) in enumerate(unlabeled_train_loder):\n",
        "        x = x.to(device=DEVICE, dtype=torch.float)\n",
        "        y = y.to(device=DEVICE, dtype=torch.float)\n",
        "\n",
        "        optimizer.zero_grad()\n",
        "\n",
        "        x_reconstr, mu, log_sigma, _ = vae(x)\n",
        "        \n",
        "        x = x.view(batch_size, x_dim)\n",
        "        loss, reconstr_loss, kl_loss, cross_entropy_loss = loss_function(x, y, x_reconstr, mu, log_sigma, None)\n",
        "        overall_loss += loss.item()\n",
        "        overall_reconstr_loss += reconstr_loss.item()\n",
        "        overall_kl_loss += kl_loss.item()\n",
        "        overall_cross_entropy_loss += cross_entropy_loss.item()\n",
        "        \n",
        "        loss.backward()\n",
        "        optimizer.step()\n",
        "\n",
        "    n_datapoints = (batch_idx + 1) * batch_size * (epoch + 1)\n",
        "    print(\"\\tEpoch\", epoch + 1, \"\\tAverage Loss: \", overall_loss / n_datapoints, \"\\tReconstruction Loss:\", overall_reconstr_loss / n_datapoints, \"\\tKL Loss:\", overall_kl_loss / n_datapoints, \"\\tCross Entropy Loss:\", overall_cross_entropy_loss / n_datapoints)\n",
        "    overall_losses.append(overall_loss / n_datapoints)\n",
        "    overall_reconstr_losses.append(overall_reconstr_loss / n_datapoints)\n",
        "    overall_kl_losses.append(overall_kl_loss / n_datapoints)\n",
        "    overall_cross_entropy_losses.append(overall_cross_entropy_loss / n_datapoints)\n",
        "    \n",
        "print(\"Training1 complete!\")\n"
      ]
    },
    {
      "cell_type": "code",
      "source": [
        "%pylab inline\n",
        "import matplotlib.pyplot as plt\n",
        "\n",
        "f, ax = plt.subplots(1, 1, figsize=(20,8))\n",
        "\n",
        "fnt=16\n",
        "ax.plot(overall_losses, color='red', label='Total')\n",
        "ax.plot(overall_reconstr_losses, color='blue', linestyle='--', label='Reconstr')\n",
        "ax.plot(overall_kl_losses, color='green', linestyle='--', label='KL')\n",
        "# ax.plot(overall_cross_entropy_losses, color='yellow', linestyle='--', label='Cross Entropy')\n",
        "ax.legend(fontsize=fnt)\n",
        "ax.tick_params(axis='both', labelsize=fnt)\n",
        "\n",
        "ax.set_xlabel(\"Epoch\", fontsize=fnt)\n",
        "ax.set_ylabel(\"Loss\", fontsize=fnt)"
      ],
      "metadata": {
        "colab": {
          "base_uri": "https://localhost:8080/",
          "height": 549
        },
        "id": "iZ5y7Jeimd48",
        "outputId": "2a5aa8bd-89ba-4c31-b6bd-06bf872cfbb0"
      },
      "execution_count": 157,
      "outputs": [
        {
          "output_type": "stream",
          "name": "stdout",
          "text": [
            "Populating the interactive namespace from numpy and matplotlib\n"
          ]
        },
        {
          "output_type": "stream",
          "name": "stderr",
          "text": [
            "/usr/local/lib/python3.7/dist-packages/IPython/core/magics/pylab.py:161: UserWarning: pylab import has clobbered these variables: ['f']\n",
            "`%matplotlib` prevents importing * from pylab and numpy\n",
            "  \"\\n`%matplotlib` prevents importing * from pylab and numpy\"\n"
          ]
        },
        {
          "output_type": "execute_result",
          "data": {
            "text/plain": [
              "Text(0, 0.5, 'Loss')"
            ]
          },
          "metadata": {},
          "execution_count": 157
        },
        {
          "output_type": "display_data",
          "data": {
            "text/plain": [
              "<Figure size 1440x576 with 1 Axes>"
            ],
            "image/png": "[encoded data removed]"
          },
          "metadata": {
            "needs_background": "light"
          }
        }
      ]
    },
    {
      "cell_type": "code",
      "source": [
        "# hyper parameters\n",
        "# latent_dim = 10\n",
        "# x_dim = 1*32*32 #image dimension\n",
        "# hidden_dim = 500\n",
        "# output_dim = 5 # class category\n",
        "lr = 1e-5\n",
        "epochs = 100\n",
        "batch_size = 100\n",
        "print(\"Start training VAE with labeled data...\")\n",
        "# data loder\n",
        "labeled_train_data = MyDataset(labeled_data['data'], labeled_data['labels'])\n",
        "valid_data =  MyDataset(representative_set_1['data'], representative_set_1['labels'])\n",
        "labeled_train_loder = DataLoader(dataset=labeled_train_data, batch_size=batch_size)\n",
        "valid_train_loder = DataLoader(dataset=valid_data, batch_size=batch_size)\n",
        "optimizer = Adam(vae.parameters(), lr=lr)\n",
        "overall_losses = []\n",
        "overall_reconstr_losses = []\n",
        "overall_kl_losses = []\n",
        "overall_cross_entropy_losses = []\n",
        "\n",
        "for epoch in range(epochs):\n",
        "    overall_loss = 0\n",
        "    overall_reconstr_loss = 0\n",
        "    overall_kl_loss = 0\n",
        "    overall_cross_entropy_loss = 0\n",
        "    for batch_idx, (x, y) in enumerate(labeled_train_loder):\n",
        "        x = x.to(device=DEVICE, dtype=torch.float)\n",
        "        y = y.to(device=DEVICE, dtype=torch.float)\n",
        "\n",
        "        optimizer.zero_grad()\n",
        "\n",
        "        x_reconstr, mu, log_sigma, y_pred = vae(x)\n",
        "\n",
        "        x = x.view(batch_size, x_dim)\n",
        "        loss, reconstr_loss, kl_loss, cross_entropy_loss = loss_function(x, y, x_reconstr, mu, log_sigma, y_pred)\n",
        "        overall_loss += loss.item()\n",
        "        overall_reconstr_loss += reconstr_loss.item()\n",
        "        overall_kl_loss += kl_loss.item()\n",
        "        overall_cross_entropy_loss += cross_entropy_loss.item()\n",
        "        \n",
        "        loss.backward()\n",
        "        optimizer.step()\n",
        "        \n",
        "    n_datapoints = (batch_idx + 1) * batch_size * (epoch + 1)\n",
        "    print(\"\\tEpoch\", epoch + 1, \"\\tAverage Loss: \", overall_loss / n_datapoints, \"\\tReconstruction Loss:\", overall_reconstr_loss / n_datapoints, \"\\tKL Loss:\", overall_kl_loss / n_datapoints, \"\\tCross Entropy Loss:\", overall_cross_entropy_loss / n_datapoints)\n",
        "    overall_losses.append(overall_loss / n_datapoints)\n",
        "    overall_reconstr_losses.append(overall_reconstr_loss / n_datapoints)\n",
        "    overall_kl_losses.append(overall_kl_loss / n_datapoints)\n",
        "    overall_cross_entropy_losses.append(overall_cross_entropy_loss / n_datapoints)\n",
        "\n",
        "print(\"Training2 complete!\")"
      ],
      "metadata": {
        "colab": {
          "base_uri": "https://localhost:8080/"
        },
        "id": "DEgV-5OtFE-t",
        "outputId": "d5bae188-30c0-4679-a089-b355925393dc"
      },
      "execution_count": 158,
      "outputs": [
        {
          "output_type": "stream",
          "name": "stdout",
          "text": [
            "Start training VAE with labeled data...\n"
          ]
        },
        {
          "output_type": "stream",
          "name": "stderr",
          "text": [
            "/usr/local/lib/python3.7/dist-packages/torch/nn/modules/container.py:141: UserWarning: Implicit dimension choice for softmax has been deprecated. Change the call to include dim=X as an argument.\n",
            "  input = module(input)\n"
          ]
        },
        {
          "output_type": "stream",
          "name": "stdout",
          "text": [
            "\tEpoch 1 \tAverage Loss:  27.928865844726563 \tReconstruction Loss: 19.919214904785157 \tKL Loss: 5.523462249755859 \tCross Entropy Loss: 2.4861886672973634\n",
            "\tEpoch 2 \tAverage Loss:  13.853795104980469 \tReconstruction Loss: 9.872462829589844 \tKL Loss: 2.7485146942138674 \tCross Entropy Loss: 1.2328175048828125\n",
            "\tEpoch 3 \tAverage Loss:  9.219440063476563 \tReconstruction Loss: 6.5742661539713545 \tKL Loss: 1.8299459533691407 \tCross Entropy Loss: 0.8152278951009114\n",
            "\tEpoch 4 \tAverage Loss:  6.909297454833984 \tReconstruction Loss: 4.930182342529297 \tKL Loss: 1.3734021377563477 \tCross Entropy Loss: 0.605713041305542\n",
            "\tEpoch 5 \tAverage Loss:  5.487416650390625 \tReconstruction Loss: 3.910881311035156 \tKL Loss: 1.0969934265136718 \tCross Entropy Loss: 0.4795419357299805\n",
            "\tEpoch 6 \tAverage Loss:  4.576857564290364 \tReconstruction Loss: 3.2681719258626303 \tKL Loss: 0.9137072550455729 \tCross Entropy Loss: 0.39497827021280923\n",
            "\tEpoch 7 \tAverage Loss:  3.9188506731305806 \tReconstruction Loss: 2.8018163103376117 \tKL Loss: 0.7832008841378348 \tCross Entropy Loss: 0.33383348846435545\n",
            "\tEpoch 8 \tAverage Loss:  3.4228094635009767 \tReconstruction Loss: 2.450180145263672 \tKL Loss: 0.6853328742980958 \tCross Entropy Loss: 0.2872964582443237\n",
            "\tEpoch 9 \tAverage Loss:  3.034358425564236 \tReconstruction Loss: 2.1752093031141495 \tKL Loss: 0.6083441772460938 \tCross Entropy Loss: 0.25080501895480684\n",
            "\tEpoch 10 \tAverage Loss:  2.7255172119140627 \tReconstruction Loss: 1.9572132446289063 \tKL Loss: 0.547178060913086 \tCross Entropy Loss: 0.2211258804321289\n",
            "\tEpoch 11 \tAverage Loss:  2.4687628173828124 \tReconstruction Loss: 1.775298212224787 \tKL Loss: 0.49754581798206676 \tCross Entropy Loss: 0.19591878024014558\n",
            "\tEpoch 12 \tAverage Loss:  2.25498920694987 \tReconstruction Loss: 1.6237865244547527 \tKL Loss: 0.4567075449625651 \tCross Entropy Loss: 0.17449513880411785\n",
            "\tEpoch 13 \tAverage Loss:  2.085951397235577 \tReconstruction Loss: 1.5077625779371995 \tKL Loss: 0.42174474628155045 \tCross Entropy Loss: 0.1564440471942608\n",
            "\tEpoch 14 \tAverage Loss:  1.9229227556501116 \tReconstruction Loss: 1.3907735726492745 \tKL Loss: 0.3920405992780413 \tCross Entropy Loss: 0.14010859189714706\n",
            "\tEpoch 15 \tAverage Loss:  1.7923807210286458 \tReconstruction Loss: 1.3005866861979167 \tKL Loss: 0.3658886962890625 \tCross Entropy Loss: 0.12590536142985026\n",
            "\tEpoch 16 \tAverage Loss:  1.670460678100586 \tReconstruction Loss: 1.214912582397461 \tKL Loss: 0.342348258972168 \tCross Entropy Loss: 0.11319985723495483\n",
            "\tEpoch 17 \tAverage Loss:  1.5728706126493566 \tReconstruction Loss: 1.148113213034237 \tKL Loss: 0.3224138327205882 \tCross Entropy Loss: 0.10234357587028953\n",
            "\tEpoch 18 \tAverage Loss:  1.485057861328125 \tReconstruction Loss: 1.0873533799913195 \tKL Loss: 0.30536610243055556 \tCross Entropy Loss: 0.09233838653564454\n",
            "\tEpoch 19 \tAverage Loss:  1.3982427978515626 \tReconstruction Loss: 1.0253347842567846 \tKL Loss: 0.2899013800370066 \tCross Entropy Loss: 0.0830066391794305\n",
            "\tEpoch 20 \tAverage Loss:  1.325851837158203 \tReconstruction Loss: 0.9745500762939453 \tKL Loss: 0.27557681579589843 \tCross Entropy Loss: 0.07572494888305664\n",
            "\tEpoch 21 \tAverage Loss:  1.2530716320219495 \tReconstruction Loss: 0.921839602515811 \tKL Loss: 0.262437998453776 \tCross Entropy Loss: 0.06879403613862538\n",
            "\tEpoch 22 \tAverage Loss:  1.1974382768110796 \tReconstruction Loss: 0.8843718095259233 \tKL Loss: 0.2501308746337891 \tCross Entropy Loss: 0.06293559195778586\n",
            "\tEpoch 23 \tAverage Loss:  1.1440932988705843 \tReconstruction Loss: 0.8470150756835938 \tKL Loss: 0.23934807155443275 \tCross Entropy Loss: 0.05773016390593155\n",
            "\tEpoch 24 \tAverage Loss:  1.0934159342447918 \tReconstruction Loss: 0.810594014485677 \tKL Loss: 0.2295669937133789 \tCross Entropy Loss: 0.05325492556889852\n",
            "\tEpoch 25 \tAverage Loss:  1.0475528271484376 \tReconstruction Loss: 0.7778400122070313 \tKL Loss: 0.22062583862304688 \tCross Entropy Loss: 0.04908697357177735\n",
            "\tEpoch 26 \tAverage Loss:  1.007868173452524 \tReconstruction Loss: 0.7502571998009315 \tKL Loss: 0.2119940150334285 \tCross Entropy Loss: 0.04561696771474985\n",
            "\tEpoch 27 \tAverage Loss:  0.9684393762659144 \tReconstruction Loss: 0.7213191550925926 \tKL Loss: 0.2045008341471354 \tCross Entropy Loss: 0.0426193803857874\n",
            "\tEpoch 28 \tAverage Loss:  0.9299582345145089 \tReconstruction Loss: 0.6927954951695033 \tKL Loss: 0.19716499873570034 \tCross Entropy Loss: 0.03999773693084717\n",
            "\tEpoch 29 \tAverage Loss:  0.8995466645339439 \tReconstruction Loss: 0.6720244582603717 \tKL Loss: 0.19023626603751348 \tCross Entropy Loss: 0.037285915243214576\n",
            "\tEpoch 30 \tAverage Loss:  0.8694052693684896 \tReconstruction Loss: 0.650442978922526 \tKL Loss: 0.18403909810384114 \tCross Entropy Loss: 0.03492319221496582\n",
            "\tEpoch 31 \tAverage Loss:  0.8366978996030746 \tReconstruction Loss: 0.6256495577904486 \tKL Loss: 0.17811297902753276 \tCross Entropy Loss: 0.03293535983177923\n",
            "\tEpoch 32 \tAverage Loss:  0.8105514335632324 \tReconstruction Loss: 0.6066569366455078 \tKL Loss: 0.17260037422180174 \tCross Entropy Loss: 0.03129411971569061\n",
            "\tEpoch 33 \tAverage Loss:  0.7859384210759943 \tReconstruction Loss: 0.5890390477035985 \tKL Loss: 0.167362773548473 \tCross Entropy Loss: 0.029536604794588955\n",
            "\tEpoch 34 \tAverage Loss:  0.761156016630285 \tReconstruction Loss: 0.5711988435633042 \tKL Loss: 0.16193983638987822 \tCross Entropy Loss: 0.02801734576505773\n",
            "\tEpoch 35 \tAverage Loss:  0.7402599574497768 \tReconstruction Loss: 0.5553498814174107 \tKL Loss: 0.15762533046177454 \tCross Entropy Loss: 0.02728474818638393\n",
            "\tEpoch 36 \tAverage Loss:  0.7148607720269097 \tReconstruction Loss: 0.5361425357394748 \tKL Loss: 0.15322689819335938 \tCross Entropy Loss: 0.0254913395775689\n",
            "\tEpoch 37 \tAverage Loss:  0.6976216645111909 \tReconstruction Loss: 0.5241031131228885 \tKL Loss: 0.14884354050095017 \tCross Entropy Loss: 0.024675017485747467\n",
            "\tEpoch 38 \tAverage Loss:  0.6781275506270559 \tReconstruction Loss: 0.5092360518606086 \tKL Loss: 0.14505538619192024 \tCross Entropy Loss: 0.02383610594900031\n",
            "\tEpoch 39 \tAverage Loss:  0.6600868827624199 \tReconstruction Loss: 0.4962198251577524 \tKL Loss: 0.14136444483047877 \tCross Entropy Loss: 0.02250260788355118\n",
            "\tEpoch 40 \tAverage Loss:  0.642824057006836 \tReconstruction Loss: 0.48349359130859376 \tKL Loss: 0.13760055389404297 \tCross Entropy Loss: 0.021729901790618896\n",
            "\tEpoch 41 \tAverage Loss:  0.6305464968797637 \tReconstruction Loss: 0.4754339167897294 \tKL Loss: 0.13429753745474465 \tCross Entropy Loss: 0.02081504421699338\n",
            "\tEpoch 42 \tAverage Loss:  0.6125616455078124 \tReconstruction Loss: 0.4612971438453311 \tKL Loss: 0.1312037360781715 \tCross Entropy Loss: 0.02006077057974679\n",
            "\tEpoch 43 \tAverage Loss:  0.6005459921193678 \tReconstruction Loss: 0.4528559016737827 \tKL Loss: 0.12810132758561954 \tCross Entropy Loss: 0.019588765343954397\n",
            "\tEpoch 44 \tAverage Loss:  0.5868485218394887 \tReconstruction Loss: 0.44293455227938566 \tKL Loss: 0.12536672141335228 \tCross Entropy Loss: 0.018547256036238236\n",
            "\tEpoch 45 \tAverage Loss:  0.5717861165364584 \tReconstruction Loss: 0.43121266004774306 \tKL Loss: 0.12242710435655382 \tCross Entropy Loss: 0.01814635509914822\n",
            "\tEpoch 46 \tAverage Loss:  0.5593930557914402 \tReconstruction Loss: 0.4222171882961107 \tKL Loss: 0.11979685907778533 \tCross Entropy Loss: 0.01737900924682617\n",
            "\tEpoch 47 \tAverage Loss:  0.5479152416472739 \tReconstruction Loss: 0.41342685650764627 \tKL Loss: 0.11747095960251829 \tCross Entropy Loss: 0.017017418881680103\n",
            "\tEpoch 48 \tAverage Loss:  0.5361109924316406 \tReconstruction Loss: 0.4043070309956868 \tKL Loss: 0.11523048973083497 \tCross Entropy Loss: 0.01657348112265269\n",
            "\tEpoch 49 \tAverage Loss:  0.5260080715880102 \tReconstruction Loss: 0.3969916182537468 \tKL Loss: 0.1129136078503667 \tCross Entropy Loss: 0.016102845795300542\n",
            "\tEpoch 50 \tAverage Loss:  0.5139056225585937 \tReconstruction Loss: 0.3880876953125 \tKL Loss: 0.11047003173828125 \tCross Entropy Loss: 0.015347893295288085\n",
            "\tEpoch 51 \tAverage Loss:  0.5049070470473346 \tReconstruction Loss: 0.3815984832165288 \tKL Loss: 0.10819440355487898 \tCross Entropy Loss: 0.015114158817366058\n",
            "\tEpoch 52 \tAverage Loss:  0.49429239361102767 \tReconstruction Loss: 0.3737541914719802 \tKL Loss: 0.10601091766357422 \tCross Entropy Loss: 0.014527286089383638\n",
            "\tEpoch 53 \tAverage Loss:  0.48405167029038915 \tReconstruction Loss: 0.3656299403928361 \tKL Loss: 0.10411836789688975 \tCross Entropy Loss: 0.014303365743385171\n",
            "\tEpoch 54 \tAverage Loss:  0.47453809950086806 \tReconstruction Loss: 0.35861313318323207 \tKL Loss: 0.10226348763925058 \tCross Entropy Loss: 0.013661476417824074\n",
            "\tEpoch 55 \tAverage Loss:  0.4659297607421875 \tReconstruction Loss: 0.35222700750177555 \tKL Loss: 0.10029296819513495 \tCross Entropy Loss: 0.013409786050969904\n",
            "\tEpoch 56 \tAverage Loss:  0.4592563236781529 \tReconstruction Loss: 0.3474231033325195 \tKL Loss: 0.0985296151297433 \tCross Entropy Loss: 0.013303602967943464\n",
            "\tEpoch 57 \tAverage Loss:  0.4492299440618147 \tReconstruction Loss: 0.33939765796326754 \tKL Loss: 0.09679115375719573 \tCross Entropy Loss: 0.013041136691444799\n",
            "\tEpoch 58 \tAverage Loss:  0.4428386861866918 \tReconstruction Loss: 0.3348289279280038 \tKL Loss: 0.09510858680462016 \tCross Entropy Loss: 0.012901172506398169\n",
            "\tEpoch 59 \tAverage Loss:  0.43260428115068855 \tReconstruction Loss: 0.3268745406845869 \tKL Loss: 0.09344569474559719 \tCross Entropy Loss: 0.012284050052448854\n",
            "\tEpoch 60 \tAverage Loss:  0.42569734293619793 \tReconstruction Loss: 0.3216904266357422 \tKL Loss: 0.09180640462239584 \tCross Entropy Loss: 0.012200499852498372\n",
            "\tEpoch 61 \tAverage Loss:  0.4194073006051486 \tReconstruction Loss: 0.3173446515192751 \tKL Loss: 0.09025419741771261 \tCross Entropy Loss: 0.011808452293521067\n",
            "\tEpoch 62 \tAverage Loss:  0.4124542669480847 \tReconstruction Loss: 0.311800040952621 \tKL Loss: 0.08903123474121094 \tCross Entropy Loss: 0.01162299697629867\n",
            "\tEpoch 63 \tAverage Loss:  0.4056451726035466 \tReconstruction Loss: 0.30658345927889386 \tKL Loss: 0.08762176998077877 \tCross Entropy Loss: 0.011439941951206753\n",
            "\tEpoch 64 \tAverage Loss:  0.3987580852508545 \tReconstruction Loss: 0.3013847312927246 \tKL Loss: 0.08630840015411377 \tCross Entropy Loss: 0.011064952403306962\n",
            "\tEpoch 65 \tAverage Loss:  0.3924356914813702 \tReconstruction Loss: 0.2963965125450721 \tKL Loss: 0.08498508911132813 \tCross Entropy Loss: 0.01105409044119028\n",
            "\tEpoch 66 \tAverage Loss:  0.3861541063713305 \tReconstruction Loss: 0.2918476340553977 \tKL Loss: 0.08362301728219697 \tCross Entropy Loss: 0.010683460900277802\n",
            "\tEpoch 67 \tAverage Loss:  0.38214754110307836 \tReconstruction Loss: 0.2894040008089436 \tKL Loss: 0.08236619271805037 \tCross Entropy Loss: 0.010377344985506428\n",
            "\tEpoch 68 \tAverage Loss:  0.3748313544778263 \tReconstruction Loss: 0.2834186948888442 \tKL Loss: 0.08113813647101907 \tCross Entropy Loss: 0.01027452387529261\n",
            "\tEpoch 69 \tAverage Loss:  0.3693066264719203 \tReconstruction Loss: 0.2793795024484828 \tKL Loss: 0.07993477199388586 \tCross Entropy Loss: 0.00999235529139422\n",
            "\tEpoch 70 \tAverage Loss:  0.3652924647739955 \tReconstruction Loss: 0.27653540387834824 \tKL Loss: 0.07873088291713169 \tCross Entropy Loss: 0.010026177706037248\n",
            "\tEpoch 71 \tAverage Loss:  0.36007351039832747 \tReconstruction Loss: 0.2730934989821743 \tKL Loss: 0.07756208306970731 \tCross Entropy Loss: 0.00941793294020102\n",
            "\tEpoch 72 \tAverage Loss:  0.3543552008734809 \tReconstruction Loss: 0.2681880950927734 \tKL Loss: 0.07655838097466362 \tCross Entropy Loss: 0.009608724382188585\n",
            "\tEpoch 73 \tAverage Loss:  0.3494158316834332 \tReconstruction Loss: 0.26446653015972815 \tKL Loss: 0.07548663873541846 \tCross Entropy Loss: 0.00946266670749612\n",
            "\tEpoch 74 \tAverage Loss:  0.34523091744087836 \tReconstruction Loss: 0.2616049062368032 \tKL Loss: 0.07448386321196684 \tCross Entropy Loss: 0.009142146265184557\n",
            "\tEpoch 75 \tAverage Loss:  0.340576328125 \tReconstruction Loss: 0.2578792610677083 \tKL Loss: 0.07359224039713541 \tCross Entropy Loss: 0.009104825083414713\n",
            "\tEpoch 76 \tAverage Loss:  0.33581225104081003 \tReconstruction Loss: 0.25450593486585116 \tKL Loss: 0.07258845158627159 \tCross Entropy Loss: 0.008717863032692357\n",
            "\tEpoch 77 \tAverage Loss:  0.331133955522017 \tReconstruction Loss: 0.2507396335354099 \tKL Loss: 0.07163641872653713 \tCross Entropy Loss: 0.008757901005930714\n",
            "\tEpoch 78 \tAverage Loss:  0.32617650271684695 \tReconstruction Loss: 0.24673402678660858 \tKL Loss: 0.0709043203500601 \tCross Entropy Loss: 0.008538156778384478\n",
            "\tEpoch 79 \tAverage Loss:  0.32277337723744065 \tReconstruction Loss: 0.24431323396706883 \tKL Loss: 0.06996354617348201 \tCross Entropy Loss: 0.008496598207497898\n",
            "\tEpoch 80 \tAverage Loss:  0.3188624954223633 \tReconstruction Loss: 0.24141260604858397 \tKL Loss: 0.06904160957336426 \tCross Entropy Loss: 0.008408276629447937\n",
            "\tEpoch 81 \tAverage Loss:  0.31353443437741124 \tReconstruction Loss: 0.2373979793595679 \tKL Loss: 0.06811216453269676 \tCross Entropy Loss: 0.008024293616965964\n",
            "\tEpoch 82 \tAverage Loss:  0.31050615710746954 \tReconstruction Loss: 0.23522084752524772 \tKL Loss: 0.06721789327481897 \tCross Entropy Loss: 0.00806741747042028\n",
            "\tEpoch 83 \tAverage Loss:  0.3062766819230045 \tReconstruction Loss: 0.23193994287697667 \tKL Loss: 0.06638132081548852 \tCross Entropy Loss: 0.007955414829483951\n",
            "\tEpoch 84 \tAverage Loss:  0.3033313438778832 \tReconstruction Loss: 0.22991505214146205 \tKL Loss: 0.06565279497419085 \tCross Entropy Loss: 0.00776349705741519\n",
            "\tEpoch 85 \tAverage Loss:  0.29887312729779414 \tReconstruction Loss: 0.22649764188878677 \tKL Loss: 0.06482744786879596 \tCross Entropy Loss: 0.007548033725514131\n",
            "\tEpoch 86 \tAverage Loss:  0.2959517595158067 \tReconstruction Loss: 0.22431882423578306 \tKL Loss: 0.06403157114428143 \tCross Entropy Loss: 0.007601365821306096\n",
            "\tEpoch 87 \tAverage Loss:  0.2929565710308908 \tReconstruction Loss: 0.22217892420977012 \tKL Loss: 0.06347122192382812 \tCross Entropy Loss: 0.007306421849919462\n",
            "\tEpoch 88 \tAverage Loss:  0.28835552007501775 \tReconstruction Loss: 0.21832403495094993 \tKL Loss: 0.06277129364013671 \tCross Entropy Loss: 0.007260189923373136\n",
            "\tEpoch 89 \tAverage Loss:  0.285248824558901 \tReconstruction Loss: 0.21606527127040906 \tKL Loss: 0.06201088723171963 \tCross Entropy Loss: 0.007172668542754784\n",
            "\tEpoch 90 \tAverage Loss:  0.2837277804904514 \tReconstruction Loss: 0.21527093980577258 \tKL Loss: 0.061236156548394094 \tCross Entropy Loss: 0.007220685513814291\n",
            "\tEpoch 91 \tAverage Loss:  0.2796102321750515 \tReconstruction Loss: 0.2120754864032452 \tKL Loss: 0.06056385417560955 \tCross Entropy Loss: 0.00697089344066578\n",
            "\tEpoch 92 \tAverage Loss:  0.2764913343346637 \tReconstruction Loss: 0.2095949116582456 \tKL Loss: 0.06003950600002123 \tCross Entropy Loss: 0.006856915328813636\n",
            "\tEpoch 93 \tAverage Loss:  0.27348721805695564 \tReconstruction Loss: 0.2071758009387601 \tKL Loss: 0.059446992279380884 \tCross Entropy Loss: 0.006864432099044964\n",
            "\tEpoch 94 \tAverage Loss:  0.27008033135596743 \tReconstruction Loss: 0.20443369504238698 \tKL Loss: 0.058781714906083776 \tCross Entropy Loss: 0.006864923071353993\n",
            "\tEpoch 95 \tAverage Loss:  0.2679043097245066 \tReconstruction Loss: 0.20317179019325657 \tKL Loss: 0.05800475817228618 \tCross Entropy Loss: 0.006727763165925678\n",
            "\tEpoch 96 \tAverage Loss:  0.26477027765909833 \tReconstruction Loss: 0.20079804801940918 \tKL Loss: 0.057319472630818685 \tCross Entropy Loss: 0.006652756154537201\n",
            "\tEpoch 97 \tAverage Loss:  0.26291703623348905 \tReconstruction Loss: 0.19963077694607764 \tKL Loss: 0.05684646952520941 \tCross Entropy Loss: 0.006439785534573584\n",
            "\tEpoch 98 \tAverage Loss:  0.2595736569774394 \tReconstruction Loss: 0.19675889743104272 \tKL Loss: 0.05639944800552057 \tCross Entropy Loss: 0.006415313681777643\n",
            "\tEpoch 99 \tAverage Loss:  0.25660668822009153 \tReconstruction Loss: 0.19460171909524937 \tKL Loss: 0.055786965110085227 \tCross Entropy Loss: 0.006218003494570953\n",
            "\tEpoch 100 \tAverage Loss:  0.2531446496582031 \tReconstruction Loss: 0.1917250390625 \tKL Loss: 0.05519772552490235 \tCross Entropy Loss: 0.006221884078979492\n",
            "Training2 complete!\n"
          ]
        }
      ]
    },
    {
      "cell_type": "code",
      "source": [
        "%pylab inline\n",
        "import matplotlib.pyplot as plt\n",
        "\n",
        "f, ax = plt.subplots(1, 1, figsize=(10,8))\n",
        "\n",
        "fnt=16\n",
        "ax.plot(overall_losses, color='red', label='Total')\n",
        "ax.plot(overall_reconstr_losses, color='blue', linestyle='--', label='Reconstr')\n",
        "ax.plot(overall_kl_losses, color='green', linestyle='--', label='KL')\n",
        "ax.plot(overall_cross_entropy_losses, color='yellow', linestyle='--', label='Cross Entropy')\n",
        "ax.legend(fontsize=fnt)\n",
        "ax.tick_params(axis='both', labelsize=fnt)\n",
        "\n",
        "ax.set_xlabel(\"Epoch\", fontsize=fnt)\n",
        "ax.set_ylabel(\"Loss\", fontsize=fnt)"
      ],
      "metadata": {
        "colab": {
          "base_uri": "https://localhost:8080/",
          "height": 612
        },
        "id": "elDBPXqahS84",
        "outputId": "c1ab92c2-5f3d-49ef-8a09-56dcdd046d52"
      },
      "execution_count": 159,
      "outputs": [
        {
          "output_type": "stream",
          "name": "stdout",
          "text": [
            "Populating the interactive namespace from numpy and matplotlib\n"
          ]
        },
        {
          "output_type": "stream",
          "name": "stderr",
          "text": [
            "/usr/local/lib/python3.7/dist-packages/IPython/core/magics/pylab.py:161: UserWarning: pylab import has clobbered these variables: ['f']\n",
            "`%matplotlib` prevents importing * from pylab and numpy\n",
            "  \"\\n`%matplotlib` prevents importing * from pylab and numpy\"\n"
          ]
        },
        {
          "output_type": "execute_result",
          "data": {
            "text/plain": [
              "Text(0, 0.5, 'Loss')"
            ]
          },
          "metadata": {},
          "execution_count": 159
        },
        {
          "output_type": "display_data",
          "data": {
            "text/plain": [
              "<Figure size 720x576 with 1 Axes>"
            ],
            "image/png": "[encoded data removed]"
          },
          "metadata": {
            "needs_background": "light"
          }
        }
      ]
    },
    {
      "cell_type": "markdown",
      "metadata": {
        "id": "myBlHs_tq1f3"
      },
      "source": [
        "# Inspection, Validation, and Analysis"
      ]
    },
    {
      "cell_type": "code",
      "source": [
        ""
      ],
      "metadata": {
        "id": "o_yuEM9joI51"
      },
      "execution_count": null,
      "outputs": []
    },
    {
      "cell_type": "code",
      "execution_count": 160,
      "metadata": {
        "id": "qS1hH5_4q1f3",
        "colab": {
          "base_uri": "https://localhost:8080/",
          "height": 618
        },
        "outputId": "bbb130ff-251a-49b5-fbd3-5cdf43e85f78"
      },
      "outputs": [
        {
          "output_type": "stream",
          "name": "stderr",
          "text": [
            "/usr/local/lib/python3.7/dist-packages/torch/nn/modules/container.py:141: UserWarning: Implicit dimension choice for softmax has been deprecated. Change the call to include dim=X as an argument.\n",
            "  input = module(input)\n"
          ]
        },
        {
          "output_type": "stream",
          "name": "stdout",
          "text": [
            "elbo\n"
          ]
        },
        {
          "output_type": "display_data",
          "data": {
            "text/plain": [
              "<Figure size 432x288 with 1 Axes>"
            ],
            "image/png": "[encoded data removed]"
          },
          "metadata": {
            "needs_background": "light"
          }
        },
        {
          "output_type": "stream",
          "name": "stdout",
          "text": [
            "reconstruction loss\n"
          ]
        },
        {
          "output_type": "display_data",
          "data": {
            "text/plain": [
              "<Figure size 432x288 with 1 Axes>"
            ],
            "image/png": "[encoded data removed]"
          },
          "metadata": {
            "needs_background": "light"
          }
        },
        {
          "output_type": "stream",
          "name": "stdout",
          "text": [
            "18.625492 10.820949 -3.0164051055908203 40.26738929748535\n"
          ]
        }
      ],
      "source": [
        "# Inspect, validate, and analyse your trained model\n",
        "vae.eval()\n",
        "\n",
        "normal_elbo = []\n",
        "# anomaly_test_elbo = []\n",
        "normal_rec = []\n",
        "# anomaly_test_rec = []\n",
        "batch_size = 1000\n",
        "\n",
        "with torch.no_grad():\n",
        "    for batch_idx, (x, y) in enumerate(unlabeled_train_loder):\n",
        "        # print(x.size())\n",
        "        x = x.to(device=DEVICE, dtype=torch.float)\n",
        "        y = y.to(device=DEVICE, dtype=torch.float)\n",
        "        x_rec, mu, log_sigma, _ = vae(x)\n",
        "\n",
        "        x = x.view(x.size()[0], -1)\n",
        "        elbo, rec, kl = vae.elbo_elementwise(x, x_rec, mu, log_sigma)\n",
        "        normal_elbo.append(elbo.cpu().numpy())\n",
        "        normal_rec.append(rec.cpu().numpy())\n",
        "    \n",
        "    normal_elbo = np.concatenate(normal_elbo, 0)\n",
        "    normal_rec = np.concatenate(normal_rec, 0)\n",
        "\n",
        "    print('elbo')\n",
        "    plt.hist(normal_elbo, bins=100)\n",
        "    plt.show()\n",
        "    print('reconstruction loss')\n",
        "    plt.hist(normal_rec, bins=100)\n",
        "    plt.show()\n",
        "\n",
        "    mu = np.mean(normal_rec)\n",
        "    std = np.std(normal_rec)\n",
        "    threshold_left = mu - 2*std\n",
        "    threshold_right = mu + 2*std\n",
        "    print(mu, std, threshold_left, threshold_right)\n"
      ]
    },
    {
      "cell_type": "code",
      "source": [
        "# evaluation\n",
        "batch_size = 1052\n",
        "DEVICE = torch.device(\"cuda\" if cuda else \"cpu\")\n",
        "test_data =  MyDataset(representative_set_1['data'], representative_set_1['labels'])\n",
        "test_train_loder = DataLoader(dataset=test_data, batch_size=batch_size)\n",
        "print(threshold_left, threshold_right)\n",
        "with torch.no_grad():\n",
        "    for batch_idx, batch in enumerate(test_train_loder):\n",
        "        accuracy = vae.evaluation(batch, batch_size, threshold_left, threshold_right, DEVICE)\n",
        "        print(accuracy)"
      ],
      "metadata": {
        "colab": {
          "base_uri": "https://localhost:8080/"
        },
        "id": "bd743HNis31f",
        "outputId": "42b7f28e-bd5c-4aa6-9fe8-bbc9166128a5"
      },
      "execution_count": 161,
      "outputs": [
        {
          "output_type": "stream",
          "name": "stdout",
          "text": [
            "-3.0164051055908203 40.26738929748535\n"
          ]
        },
        {
          "output_type": "stream",
          "name": "stderr",
          "text": [
            "/usr/local/lib/python3.7/dist-packages/torch/nn/modules/container.py:141: UserWarning: Implicit dimension choice for softmax has been deprecated. Change the call to include dim=X as an argument.\n",
            "  input = module(input)\n"
          ]
        },
        {
          "output_type": "stream",
          "name": "stdout",
          "text": [
            "(0.8479087452471483, 34, 892)\n"
          ]
        }
      ]
    }
  ],
  "metadata": {
    "interpreter": {
      "hash": "93aa0139fa57dda094a7ddd49a7a44ee21342a7ee37e3f7e1205953a77a5c532"
    },
    "kernelspec": {
      "display_name": "Python 3.10.4",
      "language": "python",
      "name": "python3"
    },
    "language_info": {
      "codemirror_mode": {
        "name": "ipython",
        "version": 3
      },
      "file_extension": ".py",
      "mimetype": "text/x-python",
      "name": "python",
      "nbconvert_exporter": "python",
      "pygments_lexer": "ipython3",
      "version": "3.10.4"
    },
    "orig_nbformat": 4,
    "colab": {
      "name": "Copy_of_assignment_4_skeleton.ipynb",
      "provenance": [],
      "collapsed_sections": []
    },
    "accelerator": "GPU",
    "gpuClass": "standard"
  },
  "nbformat": 4,
  "nbformat_minor": 0
}