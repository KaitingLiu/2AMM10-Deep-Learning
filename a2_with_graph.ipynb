{
  "cells": [
    {
      "cell_type": "markdown",
      "id": "730fd591",
      "metadata": {
        "id": "730fd591"
      },
      "source": [
        "<a href=\"https://colab.research.google.com/github/vlamen/tue-deeplearning/blob/main/assignments/assignment_2_3/a2_skeleton.ipynb\" target=\"_parent\"><img src=\"https://colab.research.google.com/assets/colab-badge.svg\" alt=\"Open In Colab\"/></a>"
      ]
    },
    {
      "cell_type": "markdown",
      "id": "d32f8d18",
      "metadata": {
        "id": "d32f8d18"
      },
      "source": [
        "# Group Number:\n",
        "\n",
        "# Student 1: Kaiting Liu\n",
        "\n",
        "# Student 2: Sihan Zhu\n",
        "\n",
        "# Student 3: Ruozhu Yao"
      ]
    },
    {
      "cell_type": "markdown",
      "id": "faec2056",
      "metadata": {
        "id": "faec2056"
      },
      "source": [
        "# Downloading Data and Preliminaries"
      ]
    },
    {
      "cell_type": "code",
      "execution_count": null,
      "id": "7d0580a5",
      "metadata": {
        "id": "7d0580a5"
      },
      "outputs": [],
      "source": [
        "import pickle\n",
        "import matplotlib.pyplot as plt\n",
        "import matplotlib\n",
        "import numpy as np\n",
        "\n",
        "from zipfile import ZipFile\n",
        "import requests\n",
        "import io"
      ]
    },
    {
      "cell_type": "code",
      "execution_count": null,
      "id": "b0756591",
      "metadata": {
        "id": "b0756591"
      },
      "outputs": [],
      "source": [
        "def load_zip(url):\n",
        "    response = requests.get(url)\n",
        "    response.raise_for_status()\n",
        "    zipf = ZipFile(io.BytesIO(response.content))\n",
        "    return {name: zipf.read(name) for name in zipf.namelist()}\n",
        "\n",
        "def load_array(zipfile, fn):\n",
        "    return np.load(io.BytesIO(zipfile[fn]))"
      ]
    },
    {
      "cell_type": "code",
      "execution_count": null,
      "id": "bb77a4be",
      "metadata": {
        "id": "bb77a4be",
        "colab": {
          "base_uri": "https://localhost:8080/"
        },
        "outputId": "44473c48-fb16-41a6-90ce-c540fc5a96db"
      },
      "outputs": [
        {
          "output_type": "stream",
          "name": "stdout",
          "text": [
            "Shapes of the training data:\n",
            "\n",
            "positions: (10000, 4, 2, 5)\n",
            "velocities: (10000, 1, 2, 5)\n",
            "charges: (10000, 5, 1)\n"
          ]
        }
      ],
      "source": [
        "\"\"\"\n",
        "This cell loads the training, validation or test data as numpy arrays,\n",
        "with the positions, initial velocities and charge data of the particles.\n",
        "\n",
        "The position arrays are shaped as\n",
        "[simulation id, time point (corresponding to t = 0, 0.5, 1 or 1.5), x/y spatial dimension, particle id].\n",
        "\n",
        "The initial velocity arrays are shaped as\n",
        "[simulation id, 1 (corresponding to t=0), x/y spatial dimension, particle id].\n",
        "\n",
        "The charge arrays are shaped as [simulation id, particle id, 1]\n",
        "\n",
        "\"\"\"\n",
        "\n",
        "data = load_zip('https://surfdrive.surf.nl/files/index.php/s/OIgda2ZRG8v0eqB/download')\n",
        "\n",
        "features = ['positions', 'velocities', 'charges']\n",
        "    \n",
        "positions_train, velocities_train, charges_train = (load_array(data, f'data/train/{f}.npy') for f in features)\n",
        "positions_valid, velocities_valid, charges_valid = (load_array(data, f'data/valid/{f}.npy') for f in features)\n",
        "positions_test, velocities_test, charges_test = (load_array(data, f'data/test/{f}.npy') for f in features)\n",
        "\n",
        "print('Shapes of the training data:\\n')\n",
        "print(f'positions: {positions_train.shape}')\n",
        "print(f'velocities: {velocities_train.shape}')\n",
        "print(f'charges: {charges_train.shape}')"
      ]
    },
    {
      "cell_type": "code",
      "execution_count": null,
      "id": "1c3ea4cb",
      "metadata": {
        "id": "1c3ea4cb",
        "colab": {
          "base_uri": "https://localhost:8080/"
        },
        "outputId": "dcbc6767-b8c3-445c-e996-983fee219cd3"
      },
      "outputs": [
        {
          "output_type": "stream",
          "name": "stdout",
          "text": [
            "An example of retrieving data from the arrays:\n",
            "\n",
            "\n",
            "In simulation 42 of the training set, particle 3 with charge -1.0 had coordinates [ 2.05159559 -1.46130851].\n",
            "The initial velocity of this particle was [ 0.28402364 -0.24784824].\n"
          ]
        }
      ],
      "source": [
        "print('An example of retrieving data from the arrays:\\n\\n')\n",
        "\n",
        "sim_idx = 42\n",
        "t_idx = 2  # t_idx 0, 1, 2, 3 corresponds to t=0, 0.5, 1 and 1.5 respectively\n",
        "spatial_idx = (0,1)  # corresponds to both x and y dimension\n",
        "particle_idx = 3  # corresponds to particle with index 3\n",
        "\n",
        "p = positions_train[sim_idx, t_idx, spatial_idx, particle_idx]\n",
        "v = velocities_train[sim_idx, 0, spatial_idx, particle_idx]  # note: this array contains only the inital velocity -> hence the 0\n",
        "c = charges_train[sim_idx, particle_idx, 0] \n",
        "\n",
        "print(\n",
        "    f'In simulation {sim_idx} of the training set, particle {particle_idx} with charge {c} had coordinates {p}.\\nThe initial velocity of this particle was {v}.'\n",
        ")"
      ]
    },
    {
      "cell_type": "code",
      "execution_count": null,
      "id": "10a3438a",
      "metadata": {
        "id": "10a3438a",
        "colab": {
          "base_uri": "https://localhost:8080/"
        },
        "outputId": "315112cd-b787-4c41-8f31-941fed186c17"
      },
      "outputs": [
        {
          "output_type": "stream",
          "name": "stdout",
          "text": [
            "Overview of no. datapoints:\n",
            "\n",
            "10000 train, 2000 validation, 2000 test simulations\n"
          ]
        }
      ],
      "source": [
        "print('Overview of no. datapoints:\\n')\n",
        "\n",
        "print(f'{len(positions_train)} train, {len(positions_valid)} validation, {len(positions_test)} test simulations')"
      ]
    },
    {
      "cell_type": "code",
      "execution_count": null,
      "id": "f9106543",
      "metadata": {
        "id": "f9106543"
      },
      "outputs": [],
      "source": [
        "def plot_example(pos, vel):\n",
        "\n",
        "    fig = plt.figure()\n",
        "    axes = plt.gca()\n",
        "    axes.set_xlim([-5., 5.])\n",
        "    axes.set_ylim([-5., 5.])\n",
        "    colors = ['red', 'blue', 'green', 'orange', 'brown']\n",
        "    for i in range(pos.shape[-1]):\n",
        "        plt.plot(pos[0, 0, i], pos[0, 1, i], 'd', color=colors[i])\n",
        "        plt.plot(pos[-1, 0, i], pos[-1, 1, i], 'x', color=colors[i])\n",
        "        plt.plot([pos[0, 0, i], pos[0, 0, i] + vel[0, 0, i]], [pos[0, 1, i], pos[0, 1, i] + vel[0, 1, i]], '--', color=colors[i])\n",
        "    fig.set_size_inches(7, 7)\n",
        "    plt.xlim(np.min(pos)-1, np.max(pos) +1)\n",
        "    plt.ylim(np.min(pos)-1, np.max(pos) +1)\n",
        "    plt.plot([], [], 'd', color='black', label='initial position')\n",
        "    plt.plot([], [], 'x', color='black', label='final position')\n",
        "    plt.plot([], [], '--', color='black', label='initial velocity \\ndirection and magnitude')\n",
        "    plt.legend()\n",
        "    \n",
        "    plt.show()\n",
        "    return"
      ]
    },
    {
      "cell_type": "code",
      "execution_count": null,
      "id": "d28681a6",
      "metadata": {
        "id": "d28681a6",
        "colab": {
          "base_uri": "https://localhost:8080/",
          "height": 428
        },
        "outputId": "2623b221-b69f-4eb2-a968-a4835b4f1148"
      },
      "outputs": [
        {
          "output_type": "display_data",
          "data": {
            "text/plain": [
              "<Figure size 504x504 with 1 Axes>"
            ],
            "image/png": "[encoded data removed]"
          },
          "metadata": {
            "needs_background": "light"
          }
        }
      ],
      "source": [
        "random_idx = np.random.randint(0, 10000)\n",
        "plot_example(positions_train[random_idx], velocities_train[random_idx])"
      ]
    },
    {
      "cell_type": "markdown",
      "id": "059b633c",
      "metadata": {
        "id": "059b633c"
      },
      "source": [
        "# Data Handling and Preprocessing"
      ]
    },
    {
      "cell_type": "code",
      "execution_count": null,
      "id": "e6ecb529",
      "metadata": {
        "id": "e6ecb529"
      },
      "outputs": [],
      "source": [
        "#todo"
      ]
    },
    {
      "cell_type": "code",
      "execution_count": null,
      "id": "f8633eb8",
      "metadata": {
        "id": "f8633eb8"
      },
      "outputs": [],
      "source": [
        "import torch\n",
        "from torchvision import transforms\n",
        "import torch.nn as nn\n",
        "import torch.nn.functional as F\n",
        "from torch.utils.data import Dataset, DataLoader, TensorDataset\n",
        "import numpy as np\n",
        "from PIL import Image\n",
        "\n",
        "def data_transformation(positions, velocities, charges):\n",
        "    \"\"\"\n",
        "    Transform the original set of 6 images to the set of 3 images, \n",
        "    (anchor, support image has same character, support image has different character)\n",
        "    \"\"\"\n",
        "    positions_start = positions[:, 0, :, :]\n",
        "    velocities_start = velocities[:, 0, :, :]\n",
        "    charges_start = charges[:, :, :]\n",
        "\n",
        "    temp = np.concatenate((positions_start, velocities_start), axis=1)\n",
        "    temp = np.moveaxis(temp, 1, 2)\n",
        "    input_data = np.concatenate((temp,charges_start), axis=2)\n",
        "\n",
        "    positions_end = np.moveaxis(positions, 2, 3)\n",
        "    label_data_1 = positions_end[:, 1, :, :]\n",
        "    label_data_2 = positions_end[:, 2, :, :]\n",
        "    label_data_3 = positions_end[:, 3, :, :]\n",
        "\n",
        "    return input_data, label_data_1, label_data_2, label_data_3\n",
        "\n",
        "class MyDataset(Dataset):\n",
        "    def __init__(self, input_data, label_data):\n",
        "        self.input_data = torch.FloatTensor(input_data)\n",
        "        self.label_data = torch.FloatTensor(label_data)\n",
        "        \n",
        "    def __getitem__(self, index):\n",
        "        input = self.input_data[index, :, :]\n",
        "        label = self.label_data[index, :, :]\n",
        "        return input, label\n",
        "        \n",
        "    def __len__(self):\n",
        "        return len(self.label_data)"
      ]
    },
    {
      "cell_type": "markdown",
      "id": "18b2874d",
      "metadata": {
        "id": "18b2874d"
      },
      "source": [
        "# Model Implementation"
      ]
    },
    {
      "cell_type": "code",
      "execution_count": null,
      "id": "66774050",
      "metadata": {
        "id": "66774050"
      },
      "outputs": [],
      "source": [
        "#todo"
      ]
    },
    {
      "cell_type": "code",
      "execution_count": null,
      "id": "ba598378",
      "metadata": {
        "id": "ba598378"
      },
      "outputs": [],
      "source": [
        "## Model Definition ##\n",
        "class Network(nn.Module):\n",
        "    def __init__(self):\n",
        "        super(Network, self).__init__()\n",
        "\n",
        "        \"\"\"Embedding extraction, use aggregation function here to utilize neighborhood info\"\"\" \n",
        "        self.embedding = nn.Sequential(nn.Linear(10, 5), nn.BatchNorm1d(5,momentum=1,affine=True), nn.Sigmoid())\n",
        "\n",
        "        \"\"\"Multilayer Perceptron.\"\"\"\n",
        "        self.MLP = nn.Sequential(\n",
        "            nn.Linear(5, 32),\n",
        "            nn.BatchNorm1d(32,momentum=1,affine=True),\n",
        "            nn.ReLU(inplace=True),  \n",
        "            nn.Linear(32, 32),\n",
        "            nn.BatchNorm1d(32,momentum=1,affine=True),\n",
        "            nn.ReLU(inplace=True),  \n",
        "            nn.Linear(32, 2)\n",
        "        )\n",
        "\n",
        "    def aggregate(self, x, neighbors):\n",
        "        \"\"\"aggregate the info of set for x\"\"\"\n",
        "        neighbors_info = torch.mean(neighbors, axis=1)\n",
        "        return torch.concat((x,neighbors_info), axis=1)\n",
        "\n",
        "    def forward(self, input):\n",
        "        \"\"\"Perform forward\"\"\"\n",
        "        positions = []\n",
        "        for idx in range(5):\n",
        "          aggregation = self.aggregate(input[:, idx, :], np.delete(input, idx, axis=1))\n",
        "          embedding = self.embedding(aggregation)\n",
        "          position = self.MLP(embedding)\n",
        "          positions.append(position)\n",
        "        positions = torch.stack(positions)\n",
        "        positions = torch.moveaxis(positions, 0, 1)\n",
        "        return positions\n",
        "\n",
        "    def predict(self, input):\n",
        "        \"\"\"Perform forward\"\"\"\n",
        "        positions = []\n",
        "        for idx in range(5):\n",
        "          aggregation = self.aggregate(input[:, idx, :], np.delete(input, idx, axis=1))\n",
        "          embedding = self.embedding(aggregation)\n",
        "          position = self.MLP(embedding)\n",
        "          positions.append(position)\n",
        "        positions = torch.stack(positions)\n",
        "        positions = torch.moveaxis(positions, 0, 1)\n",
        "        return positions\n",
        "\n",
        "\n",
        "    def accuracy(self, batch):\n",
        "      \"\"\"\n",
        "      using full accuracy to evaluate our model performance, \n",
        "      by predicting one set is correct when all the images in the set is predicted correctly.\n",
        "      \"\"\"\n",
        "      inputs, labels = batch\n",
        "      predictions = self.predict(inputs)\n",
        "      cos = nn.CosineSimilarity(dim=2, eps=1e-6)\n",
        "      cos_sims = cos(predictions, labels)\n",
        "      return cos_sims.mean(), predictions\n",
        "\n"
      ]
    },
    {
      "cell_type": "code",
      "execution_count": null,
      "id": "95154df7",
      "metadata": {
        "id": "95154df7"
      },
      "outputs": [],
      "source": [
        "## LOSS Definition ##\n",
        "class MSELoss(nn.Module):\n",
        "    \"\"\"\n",
        "    Mean squared loss\n",
        "    \"\"\"\n",
        "\n",
        "    def __init__(self):\n",
        "        super(MSELoss, self).__init__()\n",
        "\n",
        "    def forward(self, prediction, label):\n",
        "        error = prediction - label\n",
        "        squared_error = torch.square(error)\n",
        "        losses = torch.sum(squared_error)\n",
        "        return losses.mean()"
      ]
    },
    {
      "cell_type": "markdown",
      "id": "dea70d73",
      "metadata": {
        "id": "dea70d73"
      },
      "source": [
        "# Model Training"
      ]
    },
    {
      "cell_type": "code",
      "execution_count": null,
      "id": "3af520ae",
      "metadata": {
        "id": "3af520ae"
      },
      "outputs": [],
      "source": [
        "#todo"
      ]
    },
    {
      "cell_type": "code",
      "execution_count": null,
      "id": "e95af5f9",
      "metadata": {
        "id": "e95af5f9"
      },
      "outputs": [],
      "source": [
        "import numpy as np\n",
        "from tqdm import tqdm\n",
        "import time\n",
        "\n",
        "class Trainer():\n",
        "    def __init__(self,\n",
        "                 device: torch.device,\n",
        "                 criterion: torch.nn.Module,\n",
        "                 epochs: int\n",
        "                 ):\n",
        "\n",
        "        self.criterion = criterion\n",
        "        self.device = device\n",
        "        self.epochs = epochs\n",
        "\n",
        "\n",
        "    def run_trainer(self, model, training_DataLoader, valid_DataLoader, optimizer):\n",
        "        avg_losses_per_epoch=[]\n",
        "        start = time.time()\n",
        "        for epoch in tqdm(range(self.epochs)):\n",
        "            model.train()  # train model\n",
        "            train_losses=[]\n",
        "            for batch in training_DataLoader:\n",
        "                inputs, labels = batch\n",
        "                # anchor, positive, negative = anchor.to(device=device, dtype=torch.float), positive.to(device=device, dtype=torch.float), negative.to(device=device, dtype=torch.float)\n",
        "                optimizer.zero_grad()  # zerograd the parameters\n",
        "                predictions = model(inputs)# one forward pass\n",
        "                loss = self.criterion(predictions, labels)  # calculate loss\n",
        "                \n",
        "                loss_value = loss.item()\n",
        "                train_losses.append(loss_value)\n",
        "                \n",
        "                loss.backward()  # one backward pass\n",
        "                optimizer.step()  # update the parameters\n",
        "            # print(\n",
        "            #     f'EPOCH: {epoch+1:0>{len(str(self.epochs))}}/{self.epochs}',\n",
        "            #     end=' '\n",
        "            # )\n",
        "            train_sim, __=trainer.evaluation(model, training_DataLoader)\n",
        "            val_sim, __=trainer.evaluation(model, valid_DataLoader)\n",
        "            tic = time.time()\n",
        "\n",
        "            print(f'Epoch: {epoch+1:0>{len(str(self.epochs))}}/{self.epochs}, Train Similarity: {train_sim:.4f}, Validation Similarity: {val_sim:.4f}. Training time so far: {tic-start:.1f} s')\n",
        "            avg_loss=np.mean(train_losses)\n",
        "            avg_losses_per_epoch.append(avg_loss)\n",
        "            print(f'LOSS: {avg_loss:.4f}',end='\\n')\n",
        "        plt.plot(np.linspace(1, self.epochs, self.epochs, endpoint=True), avg_losses_per_epoch)\n",
        "        plt.xlabel('Number of epochs')\n",
        "        plt.ylabel('Loss')\n",
        "        plt.show()\n",
        "\n",
        "    \n",
        "    def evaluation(self, model, testing_DataLoader):\n",
        "        accuracies = []\n",
        "        predictions = []\n",
        "        for batch in testing_DataLoader:\n",
        "          cos_sim,prediction = model.accuracy(batch)\n",
        "          accuracies.append(cos_sim.detach().numpy())\n",
        "          predictions.append(prediction)\n",
        "        accuracy_mean=np.mean(accuracies)\n",
        "        # print(f'ACCURACY: {np.mean(accuracies):.4f}',end='\\n')\n",
        "\n",
        "        return accuracy_mean,predictions\n",
        "    \n",
        "    "
      ]
    },
    {
      "cell_type": "code",
      "execution_count": null,
      "id": "07e03ddf",
      "metadata": {
        "id": "07e03ddf",
        "colab": {
          "base_uri": "https://localhost:8080/",
          "height": 1000
        },
        "outputId": "ecb073b2-2850-4d3d-e53b-d10cf2bc657e"
      },
      "outputs": [
        {
          "output_type": "stream",
          "name": "stderr",
          "text": [
            "  2%|▏         | 1/50 [00:01<00:59,  1.21s/it]"
          ]
        },
        {
          "output_type": "stream",
          "name": "stdout",
          "text": [
            "Epoch: 01/50, Train Similarity: 0.9691, Validation Similarity: 0.9684. Training time so far: 1.2 s\n",
            "LOSS: 390.5074\n"
          ]
        },
        {
          "output_type": "stream",
          "name": "stderr",
          "text": [
            "\r  4%|▍         | 2/50 [00:02<00:56,  1.17s/it]"
          ]
        },
        {
          "output_type": "stream",
          "name": "stdout",
          "text": [
            "Epoch: 02/50, Train Similarity: 0.9695, Validation Similarity: 0.9691. Training time so far: 2.4 s\n",
            "LOSS: 212.3773\n"
          ]
        },
        {
          "output_type": "stream",
          "name": "stderr",
          "text": [
            "\r  6%|▌         | 3/50 [00:03<00:54,  1.16s/it]"
          ]
        },
        {
          "output_type": "stream",
          "name": "stdout",
          "text": [
            "Epoch: 03/50, Train Similarity: 0.9697, Validation Similarity: 0.9695. Training time so far: 3.5 s\n",
            "LOSS: 199.4085\n"
          ]
        },
        {
          "output_type": "stream",
          "name": "stderr",
          "text": [
            "\r  8%|▊         | 4/50 [00:04<00:54,  1.18s/it]"
          ]
        },
        {
          "output_type": "stream",
          "name": "stdout",
          "text": [
            "Epoch: 04/50, Train Similarity: 0.9699, Validation Similarity: 0.9696. Training time so far: 4.7 s\n",
            "LOSS: 191.4797\n"
          ]
        },
        {
          "output_type": "stream",
          "name": "stderr",
          "text": [
            "\r 10%|█         | 5/50 [00:05<00:53,  1.18s/it]"
          ]
        },
        {
          "output_type": "stream",
          "name": "stdout",
          "text": [
            "Epoch: 05/50, Train Similarity: 0.9701, Validation Similarity: 0.9698. Training time so far: 5.9 s\n",
            "LOSS: 185.8740\n"
          ]
        },
        {
          "output_type": "stream",
          "name": "stderr",
          "text": [
            "\r 12%|█▏        | 6/50 [00:07<00:51,  1.17s/it]"
          ]
        },
        {
          "output_type": "stream",
          "name": "stdout",
          "text": [
            "Epoch: 06/50, Train Similarity: 0.9703, Validation Similarity: 0.9700. Training time so far: 7.0 s\n",
            "LOSS: 181.7552\n"
          ]
        },
        {
          "output_type": "stream",
          "name": "stderr",
          "text": [
            "\r 14%|█▍        | 7/50 [00:08<00:49,  1.15s/it]"
          ]
        },
        {
          "output_type": "stream",
          "name": "stdout",
          "text": [
            "Epoch: 07/50, Train Similarity: 0.9703, Validation Similarity: 0.9700. Training time so far: 8.2 s\n",
            "LOSS: 178.9524\n"
          ]
        },
        {
          "output_type": "stream",
          "name": "stderr",
          "text": [
            "\r 16%|█▌        | 8/50 [00:09<00:47,  1.14s/it]"
          ]
        },
        {
          "output_type": "stream",
          "name": "stdout",
          "text": [
            "Epoch: 08/50, Train Similarity: 0.9699, Validation Similarity: 0.9697. Training time so far: 9.3 s\n",
            "LOSS: 174.9382\n"
          ]
        },
        {
          "output_type": "stream",
          "name": "stderr",
          "text": [
            "\r 18%|█▊        | 9/50 [00:10<00:47,  1.15s/it]"
          ]
        },
        {
          "output_type": "stream",
          "name": "stdout",
          "text": [
            "Epoch: 09/50, Train Similarity: 0.9699, Validation Similarity: 0.9697. Training time so far: 10.4 s\n",
            "LOSS: 172.6654\n"
          ]
        },
        {
          "output_type": "stream",
          "name": "stderr",
          "text": [
            "\r 20%|██        | 10/50 [00:11<00:46,  1.16s/it]"
          ]
        },
        {
          "output_type": "stream",
          "name": "stdout",
          "text": [
            "Epoch: 10/50, Train Similarity: 0.9703, Validation Similarity: 0.9701. Training time so far: 11.6 s\n",
            "LOSS: 170.6318\n"
          ]
        },
        {
          "output_type": "stream",
          "name": "stderr",
          "text": [
            "\r 22%|██▏       | 11/50 [00:12<00:45,  1.16s/it]"
          ]
        },
        {
          "output_type": "stream",
          "name": "stdout",
          "text": [
            "Epoch: 11/50, Train Similarity: 0.9702, Validation Similarity: 0.9701. Training time so far: 12.8 s\n",
            "LOSS: 168.3036\n"
          ]
        },
        {
          "output_type": "stream",
          "name": "stderr",
          "text": [
            "\r 24%|██▍       | 12/50 [00:13<00:43,  1.15s/it]"
          ]
        },
        {
          "output_type": "stream",
          "name": "stdout",
          "text": [
            "Epoch: 12/50, Train Similarity: 0.9706, Validation Similarity: 0.9705. Training time so far: 13.9 s\n",
            "LOSS: 166.5830\n"
          ]
        },
        {
          "output_type": "stream",
          "name": "stderr",
          "text": [
            "\r 26%|██▌       | 13/50 [00:15<00:43,  1.17s/it]"
          ]
        },
        {
          "output_type": "stream",
          "name": "stdout",
          "text": [
            "Epoch: 13/50, Train Similarity: 0.9706, Validation Similarity: 0.9704. Training time so far: 15.1 s\n",
            "LOSS: 165.3655\n"
          ]
        },
        {
          "output_type": "stream",
          "name": "stderr",
          "text": [
            "\r 28%|██▊       | 14/50 [00:16<00:42,  1.19s/it]"
          ]
        },
        {
          "output_type": "stream",
          "name": "stdout",
          "text": [
            "Epoch: 14/50, Train Similarity: 0.9711, Validation Similarity: 0.9708. Training time so far: 16.4 s\n",
            "LOSS: 164.2079\n"
          ]
        },
        {
          "output_type": "stream",
          "name": "stderr",
          "text": [
            "\r 30%|███       | 15/50 [00:17<00:40,  1.16s/it]"
          ]
        },
        {
          "output_type": "stream",
          "name": "stdout",
          "text": [
            "Epoch: 15/50, Train Similarity: 0.9711, Validation Similarity: 0.9709. Training time so far: 17.5 s\n",
            "LOSS: 162.9486\n"
          ]
        },
        {
          "output_type": "stream",
          "name": "stderr",
          "text": [
            "\r 32%|███▏      | 16/50 [00:18<00:39,  1.16s/it]"
          ]
        },
        {
          "output_type": "stream",
          "name": "stdout",
          "text": [
            "Epoch: 16/50, Train Similarity: 0.9710, Validation Similarity: 0.9708. Training time so far: 18.6 s\n",
            "LOSS: 161.6876\n"
          ]
        },
        {
          "output_type": "stream",
          "name": "stderr",
          "text": [
            "\r 34%|███▍      | 17/50 [00:19<00:38,  1.16s/it]"
          ]
        },
        {
          "output_type": "stream",
          "name": "stdout",
          "text": [
            "Epoch: 17/50, Train Similarity: 0.9711, Validation Similarity: 0.9709. Training time so far: 19.8 s\n",
            "LOSS: 160.7063\n"
          ]
        },
        {
          "output_type": "stream",
          "name": "stderr",
          "text": [
            "\r 36%|███▌      | 18/50 [00:20<00:36,  1.15s/it]"
          ]
        },
        {
          "output_type": "stream",
          "name": "stdout",
          "text": [
            "Epoch: 18/50, Train Similarity: 0.9710, Validation Similarity: 0.9709. Training time so far: 20.9 s\n",
            "LOSS: 159.7849\n"
          ]
        },
        {
          "output_type": "stream",
          "name": "stderr",
          "text": [
            "\r 38%|███▊      | 19/50 [00:22<00:35,  1.16s/it]"
          ]
        },
        {
          "output_type": "stream",
          "name": "stdout",
          "text": [
            "Epoch: 19/50, Train Similarity: 0.9711, Validation Similarity: 0.9710. Training time so far: 22.1 s\n",
            "LOSS: 158.8027\n"
          ]
        },
        {
          "output_type": "stream",
          "name": "stderr",
          "text": [
            "\r 40%|████      | 20/50 [00:23<00:35,  1.17s/it]"
          ]
        },
        {
          "output_type": "stream",
          "name": "stdout",
          "text": [
            "Epoch: 20/50, Train Similarity: 0.9711, Validation Similarity: 0.9710. Training time so far: 23.3 s\n",
            "LOSS: 158.1241\n"
          ]
        },
        {
          "output_type": "stream",
          "name": "stderr",
          "text": [
            "\r 42%|████▏     | 21/50 [00:24<00:33,  1.17s/it]"
          ]
        },
        {
          "output_type": "stream",
          "name": "stdout",
          "text": [
            "Epoch: 21/50, Train Similarity: 0.9712, Validation Similarity: 0.9710. Training time so far: 24.4 s\n",
            "LOSS: 157.0828\n"
          ]
        },
        {
          "output_type": "stream",
          "name": "stderr",
          "text": [
            "\r 44%|████▍     | 22/50 [00:25<00:32,  1.16s/it]"
          ]
        },
        {
          "output_type": "stream",
          "name": "stdout",
          "text": [
            "Epoch: 22/50, Train Similarity: 0.9712, Validation Similarity: 0.9711. Training time so far: 25.6 s\n",
            "LOSS: 156.2345\n"
          ]
        },
        {
          "output_type": "stream",
          "name": "stderr",
          "text": [
            "\r 46%|████▌     | 23/50 [00:26<00:31,  1.16s/it]"
          ]
        },
        {
          "output_type": "stream",
          "name": "stdout",
          "text": [
            "Epoch: 23/50, Train Similarity: 0.9712, Validation Similarity: 0.9711. Training time so far: 26.7 s\n",
            "LOSS: 155.6350\n"
          ]
        },
        {
          "output_type": "stream",
          "name": "stderr",
          "text": [
            "\r 48%|████▊     | 24/50 [00:27<00:30,  1.16s/it]"
          ]
        },
        {
          "output_type": "stream",
          "name": "stdout",
          "text": [
            "Epoch: 24/50, Train Similarity: 0.9712, Validation Similarity: 0.9711. Training time so far: 27.9 s\n",
            "LOSS: 154.8306\n"
          ]
        },
        {
          "output_type": "stream",
          "name": "stderr",
          "text": [
            "\r 50%|█████     | 25/50 [00:29<00:29,  1.16s/it]"
          ]
        },
        {
          "output_type": "stream",
          "name": "stdout",
          "text": [
            "Epoch: 25/50, Train Similarity: 0.9713, Validation Similarity: 0.9711. Training time so far: 29.1 s\n",
            "LOSS: 154.2348\n"
          ]
        },
        {
          "output_type": "stream",
          "name": "stderr",
          "text": [
            "\r 52%|█████▏    | 26/50 [00:30<00:27,  1.15s/it]"
          ]
        },
        {
          "output_type": "stream",
          "name": "stdout",
          "text": [
            "Epoch: 26/50, Train Similarity: 0.9713, Validation Similarity: 0.9711. Training time so far: 30.2 s\n",
            "LOSS: 153.4299\n"
          ]
        },
        {
          "output_type": "stream",
          "name": "stderr",
          "text": [
            "\r 54%|█████▍    | 27/50 [00:31<00:26,  1.14s/it]"
          ]
        },
        {
          "output_type": "stream",
          "name": "stdout",
          "text": [
            "Epoch: 27/50, Train Similarity: 0.9713, Validation Similarity: 0.9711. Training time so far: 31.3 s\n",
            "LOSS: 152.9666\n"
          ]
        },
        {
          "output_type": "stream",
          "name": "stderr",
          "text": [
            "\r 56%|█████▌    | 28/50 [00:32<00:25,  1.15s/it]"
          ]
        },
        {
          "output_type": "stream",
          "name": "stdout",
          "text": [
            "Epoch: 28/50, Train Similarity: 0.9713, Validation Similarity: 0.9711. Training time so far: 32.5 s\n",
            "LOSS: 152.5495\n"
          ]
        },
        {
          "output_type": "stream",
          "name": "stderr",
          "text": [
            "\r 58%|█████▊    | 29/50 [00:33<00:24,  1.15s/it]"
          ]
        },
        {
          "output_type": "stream",
          "name": "stdout",
          "text": [
            "Epoch: 29/50, Train Similarity: 0.9713, Validation Similarity: 0.9710. Training time so far: 33.6 s\n",
            "LOSS: 152.0775\n"
          ]
        },
        {
          "output_type": "stream",
          "name": "stderr",
          "text": [
            "\r 60%|██████    | 30/50 [00:34<00:22,  1.14s/it]"
          ]
        },
        {
          "output_type": "stream",
          "name": "stdout",
          "text": [
            "Epoch: 30/50, Train Similarity: 0.9714, Validation Similarity: 0.9710. Training time so far: 34.7 s\n",
            "LOSS: 151.5064\n"
          ]
        },
        {
          "output_type": "stream",
          "name": "stderr",
          "text": [
            "\r 62%|██████▏   | 31/50 [00:35<00:21,  1.13s/it]"
          ]
        },
        {
          "output_type": "stream",
          "name": "stdout",
          "text": [
            "Epoch: 31/50, Train Similarity: 0.9714, Validation Similarity: 0.9710. Training time so far: 35.8 s\n",
            "LOSS: 151.0678\n"
          ]
        },
        {
          "output_type": "stream",
          "name": "stderr",
          "text": [
            "\r 64%|██████▍   | 32/50 [00:36<00:20,  1.12s/it]"
          ]
        },
        {
          "output_type": "stream",
          "name": "stdout",
          "text": [
            "Epoch: 32/50, Train Similarity: 0.9715, Validation Similarity: 0.9710. Training time so far: 36.9 s\n",
            "LOSS: 150.6578\n"
          ]
        },
        {
          "output_type": "stream",
          "name": "stderr",
          "text": [
            "\r 66%|██████▌   | 33/50 [00:38<00:18,  1.11s/it]"
          ]
        },
        {
          "output_type": "stream",
          "name": "stdout",
          "text": [
            "Epoch: 33/50, Train Similarity: 0.9715, Validation Similarity: 0.9710. Training time so far: 38.0 s\n",
            "LOSS: 150.3177\n"
          ]
        },
        {
          "output_type": "stream",
          "name": "stderr",
          "text": [
            "\r 68%|██████▊   | 34/50 [00:39<00:17,  1.12s/it]"
          ]
        },
        {
          "output_type": "stream",
          "name": "stdout",
          "text": [
            "Epoch: 34/50, Train Similarity: 0.9716, Validation Similarity: 0.9710. Training time so far: 39.2 s\n",
            "LOSS: 150.1878\n"
          ]
        },
        {
          "output_type": "stream",
          "name": "stderr",
          "text": [
            "\r 70%|███████   | 35/50 [00:40<00:16,  1.12s/it]"
          ]
        },
        {
          "output_type": "stream",
          "name": "stdout",
          "text": [
            "Epoch: 35/50, Train Similarity: 0.9716, Validation Similarity: 0.9710. Training time so far: 40.3 s\n",
            "LOSS: 149.3326\n"
          ]
        },
        {
          "output_type": "stream",
          "name": "stderr",
          "text": [
            "\r 72%|███████▏  | 36/50 [00:41<00:16,  1.14s/it]"
          ]
        },
        {
          "output_type": "stream",
          "name": "stdout",
          "text": [
            "Epoch: 36/50, Train Similarity: 0.9717, Validation Similarity: 0.9710. Training time so far: 41.5 s\n",
            "LOSS: 149.1713\n"
          ]
        },
        {
          "output_type": "stream",
          "name": "stderr",
          "text": [
            "\r 74%|███████▍  | 37/50 [00:42<00:14,  1.14s/it]"
          ]
        },
        {
          "output_type": "stream",
          "name": "stdout",
          "text": [
            "Epoch: 37/50, Train Similarity: 0.9718, Validation Similarity: 0.9710. Training time so far: 42.6 s\n",
            "LOSS: 148.6862\n"
          ]
        },
        {
          "output_type": "stream",
          "name": "stderr",
          "text": [
            "\r 76%|███████▌  | 38/50 [00:43<00:13,  1.13s/it]"
          ]
        },
        {
          "output_type": "stream",
          "name": "stdout",
          "text": [
            "Epoch: 38/50, Train Similarity: 0.9719, Validation Similarity: 0.9710. Training time so far: 43.7 s\n",
            "LOSS: 148.3338\n"
          ]
        },
        {
          "output_type": "stream",
          "name": "stderr",
          "text": [
            "\r 78%|███████▊  | 39/50 [00:44<00:12,  1.13s/it]"
          ]
        },
        {
          "output_type": "stream",
          "name": "stdout",
          "text": [
            "Epoch: 39/50, Train Similarity: 0.9719, Validation Similarity: 0.9710. Training time so far: 44.8 s\n",
            "LOSS: 147.8228\n"
          ]
        },
        {
          "output_type": "stream",
          "name": "stderr",
          "text": [
            "\r 80%|████████  | 40/50 [00:45<00:11,  1.13s/it]"
          ]
        },
        {
          "output_type": "stream",
          "name": "stdout",
          "text": [
            "Epoch: 40/50, Train Similarity: 0.9719, Validation Similarity: 0.9710. Training time so far: 46.0 s\n",
            "LOSS: 147.6052\n"
          ]
        },
        {
          "output_type": "stream",
          "name": "stderr",
          "text": [
            "\r 82%|████████▏ | 41/50 [00:47<00:10,  1.12s/it]"
          ]
        },
        {
          "output_type": "stream",
          "name": "stdout",
          "text": [
            "Epoch: 41/50, Train Similarity: 0.9720, Validation Similarity: 0.9710. Training time so far: 47.1 s\n",
            "LOSS: 147.1952\n"
          ]
        },
        {
          "output_type": "stream",
          "name": "stderr",
          "text": [
            "\r 84%|████████▍ | 42/50 [00:48<00:09,  1.14s/it]"
          ]
        },
        {
          "output_type": "stream",
          "name": "stdout",
          "text": [
            "Epoch: 42/50, Train Similarity: 0.9720, Validation Similarity: 0.9711. Training time so far: 48.3 s\n",
            "LOSS: 146.7320\n"
          ]
        },
        {
          "output_type": "stream",
          "name": "stderr",
          "text": [
            "\r 86%|████████▌ | 43/50 [00:49<00:07,  1.13s/it]"
          ]
        },
        {
          "output_type": "stream",
          "name": "stdout",
          "text": [
            "Epoch: 43/50, Train Similarity: 0.9719, Validation Similarity: 0.9711. Training time so far: 49.4 s\n",
            "LOSS: 146.6688\n"
          ]
        },
        {
          "output_type": "stream",
          "name": "stderr",
          "text": [
            "\r 88%|████████▊ | 44/50 [00:50<00:06,  1.13s/it]"
          ]
        },
        {
          "output_type": "stream",
          "name": "stdout",
          "text": [
            "Epoch: 44/50, Train Similarity: 0.9720, Validation Similarity: 0.9711. Training time so far: 50.5 s\n",
            "LOSS: 146.3931\n"
          ]
        },
        {
          "output_type": "stream",
          "name": "stderr",
          "text": [
            "\r 90%|█████████ | 45/50 [00:51<00:05,  1.13s/it]"
          ]
        },
        {
          "output_type": "stream",
          "name": "stdout",
          "text": [
            "Epoch: 45/50, Train Similarity: 0.9720, Validation Similarity: 0.9711. Training time so far: 51.6 s\n",
            "LOSS: 146.0161\n"
          ]
        },
        {
          "output_type": "stream",
          "name": "stderr",
          "text": [
            "\r 92%|█████████▏| 46/50 [00:52<00:04,  1.12s/it]"
          ]
        },
        {
          "output_type": "stream",
          "name": "stdout",
          "text": [
            "Epoch: 46/50, Train Similarity: 0.9720, Validation Similarity: 0.9712. Training time so far: 52.7 s\n",
            "LOSS: 145.6328\n"
          ]
        },
        {
          "output_type": "stream",
          "name": "stderr",
          "text": [
            "\r 94%|█████████▍| 47/50 [00:53<00:03,  1.13s/it]"
          ]
        },
        {
          "output_type": "stream",
          "name": "stdout",
          "text": [
            "Epoch: 47/50, Train Similarity: 0.9720, Validation Similarity: 0.9713. Training time so far: 53.9 s\n",
            "LOSS: 145.2832\n"
          ]
        },
        {
          "output_type": "stream",
          "name": "stderr",
          "text": [
            "\r 96%|█████████▌| 48/50 [00:55<00:02,  1.13s/it]"
          ]
        },
        {
          "output_type": "stream",
          "name": "stdout",
          "text": [
            "Epoch: 48/50, Train Similarity: 0.9721, Validation Similarity: 0.9713. Training time so far: 55.0 s\n",
            "LOSS: 145.0181\n"
          ]
        },
        {
          "output_type": "stream",
          "name": "stderr",
          "text": [
            "\r 98%|█████████▊| 49/50 [00:56<00:01,  1.14s/it]"
          ]
        },
        {
          "output_type": "stream",
          "name": "stdout",
          "text": [
            "Epoch: 49/50, Train Similarity: 0.9721, Validation Similarity: 0.9713. Training time so far: 56.2 s\n",
            "LOSS: 144.5857\n"
          ]
        },
        {
          "output_type": "stream",
          "name": "stderr",
          "text": [
            "100%|██████████| 50/50 [00:57<00:00,  1.15s/it]"
          ]
        },
        {
          "output_type": "stream",
          "name": "stdout",
          "text": [
            "Epoch: 50/50, Train Similarity: 0.9722, Validation Similarity: 0.9712. Training time so far: 57.3 s\n",
            "LOSS: 144.3972\n"
          ]
        },
        {
          "output_type": "stream",
          "name": "stderr",
          "text": [
            "\n"
          ]
        },
        {
          "output_type": "display_data",
          "data": {
            "text/plain": [
              "<Figure size 432x288 with 1 Axes>"
            ],
            "image/png": "[encoded data removed]"
          },
          "metadata": {
            "needs_background": "light"
          }
        },
        {
          "output_type": "stream",
          "name": "stderr",
          "text": [
            "  2%|▏         | 1/50 [00:01<00:53,  1.10s/it]"
          ]
        },
        {
          "output_type": "stream",
          "name": "stdout",
          "text": [
            "Epoch: 01/50, Train Similarity: 0.9533, Validation Similarity: 0.9532. Training time so far: 1.1 s\n",
            "LOSS: 618.5096\n"
          ]
        },
        {
          "output_type": "stream",
          "name": "stderr",
          "text": [
            "\r  4%|▍         | 2/50 [00:02<00:57,  1.21s/it]"
          ]
        },
        {
          "output_type": "stream",
          "name": "stdout",
          "text": [
            "Epoch: 02/50, Train Similarity: 0.9539, Validation Similarity: 0.9538. Training time so far: 2.4 s\n",
            "LOSS: 343.3202\n"
          ]
        },
        {
          "output_type": "stream",
          "name": "stderr",
          "text": [
            "\r  6%|▌         | 3/50 [00:03<00:55,  1.18s/it]"
          ]
        },
        {
          "output_type": "stream",
          "name": "stdout",
          "text": [
            "Epoch: 03/50, Train Similarity: 0.9541, Validation Similarity: 0.9539. Training time so far: 3.5 s\n",
            "LOSS: 327.0035\n"
          ]
        },
        {
          "output_type": "stream",
          "name": "stderr",
          "text": [
            "\r  8%|▊         | 4/50 [00:04<00:52,  1.15s/it]"
          ]
        },
        {
          "output_type": "stream",
          "name": "stdout",
          "text": [
            "Epoch: 04/50, Train Similarity: 0.9545, Validation Similarity: 0.9543. Training time so far: 4.6 s\n",
            "LOSS: 318.3391\n"
          ]
        },
        {
          "output_type": "stream",
          "name": "stderr",
          "text": [
            "\r 10%|█         | 5/50 [00:05<00:53,  1.18s/it]"
          ]
        },
        {
          "output_type": "stream",
          "name": "stdout",
          "text": [
            "Epoch: 05/50, Train Similarity: 0.9544, Validation Similarity: 0.9543. Training time so far: 5.9 s\n",
            "LOSS: 311.9439\n"
          ]
        },
        {
          "output_type": "stream",
          "name": "stderr",
          "text": [
            "\r 12%|█▏        | 6/50 [00:07<00:51,  1.17s/it]"
          ]
        },
        {
          "output_type": "stream",
          "name": "stdout",
          "text": [
            "Epoch: 06/50, Train Similarity: 0.9544, Validation Similarity: 0.9544. Training time so far: 7.0 s\n",
            "LOSS: 305.1774\n"
          ]
        },
        {
          "output_type": "stream",
          "name": "stderr",
          "text": [
            "\r 14%|█▍        | 7/50 [00:08<00:49,  1.15s/it]"
          ]
        },
        {
          "output_type": "stream",
          "name": "stdout",
          "text": [
            "Epoch: 07/50, Train Similarity: 0.9545, Validation Similarity: 0.9545. Training time so far: 8.1 s\n",
            "LOSS: 301.4259\n"
          ]
        },
        {
          "output_type": "stream",
          "name": "stderr",
          "text": [
            "\r 16%|█▌        | 8/50 [00:09<00:48,  1.14s/it]"
          ]
        },
        {
          "output_type": "stream",
          "name": "stdout",
          "text": [
            "Epoch: 08/50, Train Similarity: 0.9551, Validation Similarity: 0.9550. Training time so far: 9.3 s\n",
            "LOSS: 296.5595\n"
          ]
        },
        {
          "output_type": "stream",
          "name": "stderr",
          "text": [
            "\r 18%|█▊        | 9/50 [00:10<00:46,  1.13s/it]"
          ]
        },
        {
          "output_type": "stream",
          "name": "stdout",
          "text": [
            "Epoch: 09/50, Train Similarity: 0.9552, Validation Similarity: 0.9552. Training time so far: 10.3 s\n",
            "LOSS: 294.2865\n"
          ]
        },
        {
          "output_type": "stream",
          "name": "stderr",
          "text": [
            "\r 20%|██        | 10/50 [00:11<00:44,  1.12s/it]"
          ]
        },
        {
          "output_type": "stream",
          "name": "stdout",
          "text": [
            "Epoch: 10/50, Train Similarity: 0.9552, Validation Similarity: 0.9552. Training time so far: 11.5 s\n",
            "LOSS: 288.4241\n"
          ]
        },
        {
          "output_type": "stream",
          "name": "stderr",
          "text": [
            "\r 22%|██▏       | 11/50 [00:12<00:43,  1.12s/it]"
          ]
        },
        {
          "output_type": "stream",
          "name": "stdout",
          "text": [
            "Epoch: 11/50, Train Similarity: 0.9555, Validation Similarity: 0.9555. Training time so far: 12.6 s\n",
            "LOSS: 286.8731\n"
          ]
        },
        {
          "output_type": "stream",
          "name": "stderr",
          "text": [
            "\r 24%|██▍       | 12/50 [00:13<00:42,  1.12s/it]"
          ]
        },
        {
          "output_type": "stream",
          "name": "stdout",
          "text": [
            "Epoch: 12/50, Train Similarity: 0.9554, Validation Similarity: 0.9554. Training time so far: 13.7 s\n",
            "LOSS: 282.7639\n"
          ]
        },
        {
          "output_type": "stream",
          "name": "stderr",
          "text": [
            "\r 26%|██▌       | 13/50 [00:14<00:42,  1.14s/it]"
          ]
        },
        {
          "output_type": "stream",
          "name": "stdout",
          "text": [
            "Epoch: 13/50, Train Similarity: 0.9552, Validation Similarity: 0.9555. Training time so far: 14.9 s\n",
            "LOSS: 280.8780\n"
          ]
        },
        {
          "output_type": "stream",
          "name": "stderr",
          "text": [
            "\r 28%|██▊       | 14/50 [00:16<00:40,  1.13s/it]"
          ]
        },
        {
          "output_type": "stream",
          "name": "stdout",
          "text": [
            "Epoch: 14/50, Train Similarity: 0.9554, Validation Similarity: 0.9556. Training time so far: 16.0 s\n",
            "LOSS: 277.3422\n"
          ]
        },
        {
          "output_type": "stream",
          "name": "stderr",
          "text": [
            "\r 30%|███       | 15/50 [00:17<00:39,  1.14s/it]"
          ]
        },
        {
          "output_type": "stream",
          "name": "stdout",
          "text": [
            "Epoch: 15/50, Train Similarity: 0.9555, Validation Similarity: 0.9559. Training time so far: 17.2 s\n",
            "LOSS: 274.0733\n"
          ]
        },
        {
          "output_type": "stream",
          "name": "stderr",
          "text": [
            "\r 32%|███▏      | 16/50 [00:18<00:38,  1.13s/it]"
          ]
        },
        {
          "output_type": "stream",
          "name": "stdout",
          "text": [
            "Epoch: 16/50, Train Similarity: 0.9559, Validation Similarity: 0.9563. Training time so far: 18.3 s\n",
            "LOSS: 271.2687\n"
          ]
        },
        {
          "output_type": "stream",
          "name": "stderr",
          "text": [
            "\r 34%|███▍      | 17/50 [00:19<00:37,  1.13s/it]"
          ]
        },
        {
          "output_type": "stream",
          "name": "stdout",
          "text": [
            "Epoch: 17/50, Train Similarity: 0.9559, Validation Similarity: 0.9566. Training time so far: 19.4 s\n",
            "LOSS: 269.3530\n"
          ]
        },
        {
          "output_type": "stream",
          "name": "stderr",
          "text": [
            "\r 36%|███▌      | 18/50 [00:20<00:35,  1.12s/it]"
          ]
        },
        {
          "output_type": "stream",
          "name": "stdout",
          "text": [
            "Epoch: 18/50, Train Similarity: 0.9561, Validation Similarity: 0.9569. Training time so far: 20.5 s\n",
            "LOSS: 267.2543\n"
          ]
        },
        {
          "output_type": "stream",
          "name": "stderr",
          "text": [
            "\r 38%|███▊      | 19/50 [00:21<00:34,  1.12s/it]"
          ]
        },
        {
          "output_type": "stream",
          "name": "stdout",
          "text": [
            "Epoch: 19/50, Train Similarity: 0.9562, Validation Similarity: 0.9570. Training time so far: 21.6 s\n",
            "LOSS: 266.1574\n"
          ]
        },
        {
          "output_type": "stream",
          "name": "stderr",
          "text": [
            "\r 40%|████      | 20/50 [00:22<00:33,  1.12s/it]"
          ]
        },
        {
          "output_type": "stream",
          "name": "stdout",
          "text": [
            "Epoch: 20/50, Train Similarity: 0.9564, Validation Similarity: 0.9571. Training time so far: 22.7 s\n",
            "LOSS: 264.5757\n"
          ]
        },
        {
          "output_type": "stream",
          "name": "stderr",
          "text": [
            "\r 42%|████▏     | 21/50 [00:23<00:32,  1.14s/it]"
          ]
        },
        {
          "output_type": "stream",
          "name": "stdout",
          "text": [
            "Epoch: 21/50, Train Similarity: 0.9565, Validation Similarity: 0.9573. Training time so far: 23.9 s\n",
            "LOSS: 263.2383\n"
          ]
        },
        {
          "output_type": "stream",
          "name": "stderr",
          "text": [
            "\r 44%|████▍     | 22/50 [00:25<00:31,  1.13s/it]"
          ]
        },
        {
          "output_type": "stream",
          "name": "stdout",
          "text": [
            "Epoch: 22/50, Train Similarity: 0.9566, Validation Similarity: 0.9574. Training time so far: 25.0 s\n",
            "LOSS: 262.2735\n"
          ]
        },
        {
          "output_type": "stream",
          "name": "stderr",
          "text": [
            "\r 46%|████▌     | 23/50 [00:26<00:31,  1.15s/it]"
          ]
        },
        {
          "output_type": "stream",
          "name": "stdout",
          "text": [
            "Epoch: 23/50, Train Similarity: 0.9567, Validation Similarity: 0.9574. Training time so far: 26.2 s\n",
            "LOSS: 260.1568\n"
          ]
        },
        {
          "output_type": "stream",
          "name": "stderr",
          "text": [
            "\r 48%|████▊     | 24/50 [00:27<00:30,  1.17s/it]"
          ]
        },
        {
          "output_type": "stream",
          "name": "stdout",
          "text": [
            "Epoch: 24/50, Train Similarity: 0.9568, Validation Similarity: 0.9576. Training time so far: 27.4 s\n",
            "LOSS: 257.9582\n"
          ]
        },
        {
          "output_type": "stream",
          "name": "stderr",
          "text": [
            "\r 50%|█████     | 25/50 [00:28<00:28,  1.16s/it]"
          ]
        },
        {
          "output_type": "stream",
          "name": "stdout",
          "text": [
            "Epoch: 25/50, Train Similarity: 0.9571, Validation Similarity: 0.9577. Training time so far: 28.6 s\n",
            "LOSS: 256.7121\n"
          ]
        },
        {
          "output_type": "stream",
          "name": "stderr",
          "text": [
            "\r 52%|█████▏    | 26/50 [00:29<00:27,  1.15s/it]"
          ]
        },
        {
          "output_type": "stream",
          "name": "stdout",
          "text": [
            "Epoch: 26/50, Train Similarity: 0.9572, Validation Similarity: 0.9580. Training time so far: 29.7 s\n",
            "LOSS: 254.8801\n"
          ]
        },
        {
          "output_type": "stream",
          "name": "stderr",
          "text": [
            "\r 54%|█████▍    | 27/50 [00:30<00:26,  1.15s/it]"
          ]
        },
        {
          "output_type": "stream",
          "name": "stdout",
          "text": [
            "Epoch: 27/50, Train Similarity: 0.9575, Validation Similarity: 0.9583. Training time so far: 30.9 s\n",
            "LOSS: 253.1083\n"
          ]
        },
        {
          "output_type": "stream",
          "name": "stderr",
          "text": [
            "\r 56%|█████▌    | 28/50 [00:31<00:25,  1.15s/it]"
          ]
        },
        {
          "output_type": "stream",
          "name": "stdout",
          "text": [
            "Epoch: 28/50, Train Similarity: 0.9576, Validation Similarity: 0.9584. Training time so far: 32.0 s\n",
            "LOSS: 251.7680\n"
          ]
        },
        {
          "output_type": "stream",
          "name": "stderr",
          "text": [
            "\r 58%|█████▊    | 29/50 [00:33<00:24,  1.15s/it]"
          ]
        },
        {
          "output_type": "stream",
          "name": "stdout",
          "text": [
            "Epoch: 29/50, Train Similarity: 0.9579, Validation Similarity: 0.9586. Training time so far: 33.1 s\n",
            "LOSS: 249.8360\n"
          ]
        },
        {
          "output_type": "stream",
          "name": "stderr",
          "text": [
            "\r 60%|██████    | 30/50 [00:34<00:22,  1.14s/it]"
          ]
        },
        {
          "output_type": "stream",
          "name": "stdout",
          "text": [
            "Epoch: 30/50, Train Similarity: 0.9580, Validation Similarity: 0.9587. Training time so far: 34.3 s\n",
            "LOSS: 248.1332\n"
          ]
        },
        {
          "output_type": "stream",
          "name": "stderr",
          "text": [
            "\r 62%|██████▏   | 31/50 [00:35<00:21,  1.14s/it]"
          ]
        },
        {
          "output_type": "stream",
          "name": "stdout",
          "text": [
            "Epoch: 31/50, Train Similarity: 0.9581, Validation Similarity: 0.9587. Training time so far: 35.4 s\n",
            "LOSS: 246.8444\n"
          ]
        },
        {
          "output_type": "stream",
          "name": "stderr",
          "text": [
            "\r 64%|██████▍   | 32/50 [00:36<00:20,  1.13s/it]"
          ]
        },
        {
          "output_type": "stream",
          "name": "stdout",
          "text": [
            "Epoch: 32/50, Train Similarity: 0.9582, Validation Similarity: 0.9589. Training time so far: 36.5 s\n",
            "LOSS: 245.5036\n"
          ]
        },
        {
          "output_type": "stream",
          "name": "stderr",
          "text": [
            "\r 66%|██████▌   | 33/50 [00:37<00:19,  1.13s/it]"
          ]
        },
        {
          "output_type": "stream",
          "name": "stdout",
          "text": [
            "Epoch: 33/50, Train Similarity: 0.9583, Validation Similarity: 0.9589. Training time so far: 37.7 s\n",
            "LOSS: 244.1263\n"
          ]
        },
        {
          "output_type": "stream",
          "name": "stderr",
          "text": [
            "\r 68%|██████▊   | 34/50 [00:38<00:18,  1.14s/it]"
          ]
        },
        {
          "output_type": "stream",
          "name": "stdout",
          "text": [
            "Epoch: 34/50, Train Similarity: 0.9584, Validation Similarity: 0.9589. Training time so far: 38.8 s\n",
            "LOSS: 243.2080\n"
          ]
        },
        {
          "output_type": "stream",
          "name": "stderr",
          "text": [
            "\r 70%|███████   | 35/50 [00:39<00:17,  1.14s/it]"
          ]
        },
        {
          "output_type": "stream",
          "name": "stdout",
          "text": [
            "Epoch: 35/50, Train Similarity: 0.9585, Validation Similarity: 0.9588. Training time so far: 39.9 s\n",
            "LOSS: 242.4459\n"
          ]
        },
        {
          "output_type": "stream",
          "name": "stderr",
          "text": [
            "\r 72%|███████▏  | 36/50 [00:41<00:16,  1.16s/it]"
          ]
        },
        {
          "output_type": "stream",
          "name": "stdout",
          "text": [
            "Epoch: 36/50, Train Similarity: 0.9585, Validation Similarity: 0.9588. Training time so far: 41.2 s\n",
            "LOSS: 241.6410\n"
          ]
        },
        {
          "output_type": "stream",
          "name": "stderr",
          "text": [
            "\r 74%|███████▍  | 37/50 [00:42<00:14,  1.15s/it]"
          ]
        },
        {
          "output_type": "stream",
          "name": "stdout",
          "text": [
            "Epoch: 37/50, Train Similarity: 0.9585, Validation Similarity: 0.9588. Training time so far: 42.3 s\n",
            "LOSS: 240.9232\n"
          ]
        },
        {
          "output_type": "stream",
          "name": "stderr",
          "text": [
            "\r 76%|███████▌  | 38/50 [00:43<00:13,  1.15s/it]"
          ]
        },
        {
          "output_type": "stream",
          "name": "stdout",
          "text": [
            "Epoch: 38/50, Train Similarity: 0.9585, Validation Similarity: 0.9588. Training time so far: 43.4 s\n",
            "LOSS: 240.2333\n"
          ]
        },
        {
          "output_type": "stream",
          "name": "stderr",
          "text": [
            "\r 78%|███████▊  | 39/50 [00:44<00:12,  1.14s/it]"
          ]
        },
        {
          "output_type": "stream",
          "name": "stdout",
          "text": [
            "Epoch: 39/50, Train Similarity: 0.9586, Validation Similarity: 0.9587. Training time so far: 44.5 s\n",
            "LOSS: 239.5674\n"
          ]
        },
        {
          "output_type": "stream",
          "name": "stderr",
          "text": [
            "\r 80%|████████  | 40/50 [00:45<00:11,  1.14s/it]"
          ]
        },
        {
          "output_type": "stream",
          "name": "stdout",
          "text": [
            "Epoch: 40/50, Train Similarity: 0.9587, Validation Similarity: 0.9587. Training time so far: 45.7 s\n",
            "LOSS: 238.9413\n"
          ]
        },
        {
          "output_type": "stream",
          "name": "stderr",
          "text": [
            "\r 82%|████████▏ | 41/50 [00:46<00:10,  1.13s/it]"
          ]
        },
        {
          "output_type": "stream",
          "name": "stdout",
          "text": [
            "Epoch: 41/50, Train Similarity: 0.9587, Validation Similarity: 0.9587. Training time so far: 46.8 s\n",
            "LOSS: 238.4086\n"
          ]
        },
        {
          "output_type": "stream",
          "name": "stderr",
          "text": [
            "\r 84%|████████▍ | 42/50 [00:47<00:09,  1.14s/it]"
          ]
        },
        {
          "output_type": "stream",
          "name": "stdout",
          "text": [
            "Epoch: 42/50, Train Similarity: 0.9587, Validation Similarity: 0.9587. Training time so far: 48.0 s\n",
            "LOSS: 237.7275\n"
          ]
        },
        {
          "output_type": "stream",
          "name": "stderr",
          "text": [
            "\r 86%|████████▌ | 43/50 [00:49<00:08,  1.15s/it]"
          ]
        },
        {
          "output_type": "stream",
          "name": "stdout",
          "text": [
            "Epoch: 43/50, Train Similarity: 0.9588, Validation Similarity: 0.9587. Training time so far: 49.1 s\n",
            "LOSS: 237.1112\n"
          ]
        },
        {
          "output_type": "stream",
          "name": "stderr",
          "text": [
            "\r 88%|████████▊ | 44/50 [00:50<00:06,  1.15s/it]"
          ]
        },
        {
          "output_type": "stream",
          "name": "stdout",
          "text": [
            "Epoch: 44/50, Train Similarity: 0.9588, Validation Similarity: 0.9587. Training time so far: 50.3 s\n",
            "LOSS: 236.6041\n"
          ]
        },
        {
          "output_type": "stream",
          "name": "stderr",
          "text": [
            "\r 90%|█████████ | 45/50 [00:51<00:05,  1.15s/it]"
          ]
        },
        {
          "output_type": "stream",
          "name": "stdout",
          "text": [
            "Epoch: 45/50, Train Similarity: 0.9589, Validation Similarity: 0.9587. Training time so far: 51.4 s\n",
            "LOSS: 236.0853\n"
          ]
        },
        {
          "output_type": "stream",
          "name": "stderr",
          "text": [
            "\r 92%|█████████▏| 46/50 [00:52<00:04,  1.16s/it]"
          ]
        },
        {
          "output_type": "stream",
          "name": "stdout",
          "text": [
            "Epoch: 46/50, Train Similarity: 0.9589, Validation Similarity: 0.9587. Training time so far: 52.6 s\n",
            "LOSS: 235.5882\n"
          ]
        },
        {
          "output_type": "stream",
          "name": "stderr",
          "text": [
            "\r 94%|█████████▍| 47/50 [00:53<00:03,  1.17s/it]"
          ]
        },
        {
          "output_type": "stream",
          "name": "stdout",
          "text": [
            "Epoch: 47/50, Train Similarity: 0.9590, Validation Similarity: 0.9587. Training time so far: 53.8 s\n",
            "LOSS: 235.1917\n"
          ]
        },
        {
          "output_type": "stream",
          "name": "stderr",
          "text": [
            "\r 96%|█████████▌| 48/50 [00:54<00:02,  1.16s/it]"
          ]
        },
        {
          "output_type": "stream",
          "name": "stdout",
          "text": [
            "Epoch: 48/50, Train Similarity: 0.9590, Validation Similarity: 0.9587. Training time so far: 55.0 s\n",
            "LOSS: 234.7445\n"
          ]
        },
        {
          "output_type": "stream",
          "name": "stderr",
          "text": [
            "\r 98%|█████████▊| 49/50 [00:56<00:01,  1.16s/it]"
          ]
        },
        {
          "output_type": "stream",
          "name": "stdout",
          "text": [
            "Epoch: 49/50, Train Similarity: 0.9591, Validation Similarity: 0.9587. Training time so far: 56.1 s\n",
            "LOSS: 234.2737\n"
          ]
        },
        {
          "output_type": "stream",
          "name": "stderr",
          "text": [
            "100%|██████████| 50/50 [00:57<00:00,  1.15s/it]"
          ]
        },
        {
          "output_type": "stream",
          "name": "stdout",
          "text": [
            "Epoch: 50/50, Train Similarity: 0.9591, Validation Similarity: 0.9587. Training time so far: 57.3 s\n",
            "LOSS: 233.8452\n"
          ]
        },
        {
          "output_type": "stream",
          "name": "stderr",
          "text": [
            "\n"
          ]
        },
        {
          "output_type": "display_data",
          "data": {
            "text/plain": [
              "<Figure size 432x288 with 1 Axes>"
            ],
            "image/png": "[encoded data removed]"
          },
          "metadata": {
            "needs_background": "light"
          }
        },
        {
          "output_type": "stream",
          "name": "stderr",
          "text": [
            "  2%|▏         | 1/50 [00:01<01:00,  1.23s/it]"
          ]
        },
        {
          "output_type": "stream",
          "name": "stdout",
          "text": [
            "Epoch: 01/50, Train Similarity: 0.9385, Validation Similarity: 0.9353. Training time so far: 1.2 s\n",
            "LOSS: 863.0419\n"
          ]
        },
        {
          "output_type": "stream",
          "name": "stderr",
          "text": [
            "\r  4%|▍         | 2/50 [00:02<00:56,  1.18s/it]"
          ]
        },
        {
          "output_type": "stream",
          "name": "stdout",
          "text": [
            "Epoch: 02/50, Train Similarity: 0.9394, Validation Similarity: 0.9363. Training time so far: 2.4 s\n",
            "LOSS: 537.1974\n"
          ]
        },
        {
          "output_type": "stream",
          "name": "stderr",
          "text": [
            "\r  6%|▌         | 3/50 [00:03<00:55,  1.17s/it]"
          ]
        },
        {
          "output_type": "stream",
          "name": "stdout",
          "text": [
            "Epoch: 03/50, Train Similarity: 0.9400, Validation Similarity: 0.9368. Training time so far: 3.5 s\n",
            "LOSS: 519.0559\n"
          ]
        },
        {
          "output_type": "stream",
          "name": "stderr",
          "text": [
            "\r  8%|▊         | 4/50 [00:04<00:53,  1.16s/it]"
          ]
        },
        {
          "output_type": "stream",
          "name": "stdout",
          "text": [
            "Epoch: 04/50, Train Similarity: 0.9402, Validation Similarity: 0.9370. Training time so far: 4.7 s\n",
            "LOSS: 506.2137\n"
          ]
        },
        {
          "output_type": "stream",
          "name": "stderr",
          "text": [
            "\r 10%|█         | 5/50 [00:05<00:53,  1.20s/it]"
          ]
        },
        {
          "output_type": "stream",
          "name": "stdout",
          "text": [
            "Epoch: 05/50, Train Similarity: 0.9406, Validation Similarity: 0.9374. Training time so far: 5.9 s\n",
            "LOSS: 496.6319\n"
          ]
        },
        {
          "output_type": "stream",
          "name": "stderr",
          "text": [
            "\r 12%|█▏        | 6/50 [00:07<00:51,  1.18s/it]"
          ]
        },
        {
          "output_type": "stream",
          "name": "stdout",
          "text": [
            "Epoch: 06/50, Train Similarity: 0.9410, Validation Similarity: 0.9379. Training time so far: 7.1 s\n",
            "LOSS: 488.1299\n"
          ]
        },
        {
          "output_type": "stream",
          "name": "stderr",
          "text": [
            "\r 14%|█▍        | 7/50 [00:08<00:50,  1.18s/it]"
          ]
        },
        {
          "output_type": "stream",
          "name": "stdout",
          "text": [
            "Epoch: 07/50, Train Similarity: 0.9416, Validation Similarity: 0.9386. Training time so far: 8.3 s\n",
            "LOSS: 482.9953\n"
          ]
        },
        {
          "output_type": "stream",
          "name": "stderr",
          "text": [
            "\r 16%|█▌        | 8/50 [00:09<00:48,  1.16s/it]"
          ]
        },
        {
          "output_type": "stream",
          "name": "stdout",
          "text": [
            "Epoch: 08/50, Train Similarity: 0.9424, Validation Similarity: 0.9393. Training time so far: 9.4 s\n",
            "LOSS: 470.1443\n"
          ]
        },
        {
          "output_type": "stream",
          "name": "stderr",
          "text": [
            "\r 18%|█▊        | 9/50 [00:10<00:47,  1.15s/it]"
          ]
        },
        {
          "output_type": "stream",
          "name": "stdout",
          "text": [
            "Epoch: 09/50, Train Similarity: 0.9429, Validation Similarity: 0.9398. Training time so far: 10.5 s\n",
            "LOSS: 460.6903\n"
          ]
        },
        {
          "output_type": "stream",
          "name": "stderr",
          "text": [
            "\r 20%|██        | 10/50 [00:11<00:46,  1.17s/it]"
          ]
        },
        {
          "output_type": "stream",
          "name": "stdout",
          "text": [
            "Epoch: 10/50, Train Similarity: 0.9430, Validation Similarity: 0.9400. Training time so far: 11.7 s\n",
            "LOSS: 454.8437\n"
          ]
        },
        {
          "output_type": "stream",
          "name": "stderr",
          "text": [
            "\r 22%|██▏       | 11/50 [00:12<00:45,  1.16s/it]"
          ]
        },
        {
          "output_type": "stream",
          "name": "stdout",
          "text": [
            "Epoch: 11/50, Train Similarity: 0.9431, Validation Similarity: 0.9401. Training time so far: 12.9 s\n",
            "LOSS: 449.0464\n"
          ]
        },
        {
          "output_type": "stream",
          "name": "stderr",
          "text": [
            "\r 24%|██▍       | 12/50 [00:14<00:43,  1.16s/it]"
          ]
        },
        {
          "output_type": "stream",
          "name": "stdout",
          "text": [
            "Epoch: 12/50, Train Similarity: 0.9432, Validation Similarity: 0.9402. Training time so far: 14.0 s\n",
            "LOSS: 444.5436\n"
          ]
        },
        {
          "output_type": "stream",
          "name": "stderr",
          "text": [
            "\r 26%|██▌       | 13/50 [00:15<00:42,  1.14s/it]"
          ]
        },
        {
          "output_type": "stream",
          "name": "stdout",
          "text": [
            "Epoch: 13/50, Train Similarity: 0.9432, Validation Similarity: 0.9401. Training time so far: 15.1 s\n",
            "LOSS: 440.0751\n"
          ]
        },
        {
          "output_type": "stream",
          "name": "stderr",
          "text": [
            "\r 28%|██▊       | 14/50 [00:16<00:41,  1.15s/it]"
          ]
        },
        {
          "output_type": "stream",
          "name": "stdout",
          "text": [
            "Epoch: 14/50, Train Similarity: 0.9434, Validation Similarity: 0.9401. Training time so far: 16.3 s\n",
            "LOSS: 436.1526\n"
          ]
        },
        {
          "output_type": "stream",
          "name": "stderr",
          "text": [
            "\r 30%|███       | 15/50 [00:17<00:40,  1.15s/it]"
          ]
        },
        {
          "output_type": "stream",
          "name": "stdout",
          "text": [
            "Epoch: 15/50, Train Similarity: 0.9435, Validation Similarity: 0.9402. Training time so far: 17.4 s\n",
            "LOSS: 432.6390\n"
          ]
        },
        {
          "output_type": "stream",
          "name": "stderr",
          "text": [
            "\r 32%|███▏      | 16/50 [00:18<00:38,  1.14s/it]"
          ]
        },
        {
          "output_type": "stream",
          "name": "stdout",
          "text": [
            "Epoch: 16/50, Train Similarity: 0.9436, Validation Similarity: 0.9403. Training time so far: 18.6 s\n",
            "LOSS: 429.2786\n"
          ]
        },
        {
          "output_type": "stream",
          "name": "stderr",
          "text": [
            "\r 34%|███▍      | 17/50 [00:19<00:37,  1.14s/it]"
          ]
        },
        {
          "output_type": "stream",
          "name": "stdout",
          "text": [
            "Epoch: 17/50, Train Similarity: 0.9438, Validation Similarity: 0.9405. Training time so far: 19.7 s\n",
            "LOSS: 426.3178\n"
          ]
        },
        {
          "output_type": "stream",
          "name": "stderr",
          "text": [
            "\r 36%|███▌      | 18/50 [00:20<00:36,  1.13s/it]"
          ]
        },
        {
          "output_type": "stream",
          "name": "stdout",
          "text": [
            "Epoch: 18/50, Train Similarity: 0.9439, Validation Similarity: 0.9406. Training time so far: 20.8 s\n",
            "LOSS: 423.6738\n"
          ]
        },
        {
          "output_type": "stream",
          "name": "stderr",
          "text": [
            "\r 38%|███▊      | 19/50 [00:21<00:34,  1.13s/it]"
          ]
        },
        {
          "output_type": "stream",
          "name": "stdout",
          "text": [
            "Epoch: 19/50, Train Similarity: 0.9443, Validation Similarity: 0.9407. Training time so far: 21.9 s\n",
            "LOSS: 420.4688\n"
          ]
        },
        {
          "output_type": "stream",
          "name": "stderr",
          "text": [
            "\r 40%|████      | 20/50 [00:23<00:33,  1.13s/it]"
          ]
        },
        {
          "output_type": "stream",
          "name": "stdout",
          "text": [
            "Epoch: 20/50, Train Similarity: 0.9446, Validation Similarity: 0.9410. Training time so far: 23.1 s\n",
            "LOSS: 417.1319\n"
          ]
        },
        {
          "output_type": "stream",
          "name": "stderr",
          "text": [
            "\r 42%|████▏     | 21/50 [00:24<00:32,  1.13s/it]"
          ]
        },
        {
          "output_type": "stream",
          "name": "stdout",
          "text": [
            "Epoch: 21/50, Train Similarity: 0.9448, Validation Similarity: 0.9414. Training time so far: 24.2 s\n",
            "LOSS: 413.9260\n"
          ]
        },
        {
          "output_type": "stream",
          "name": "stderr",
          "text": [
            "\r 44%|████▍     | 22/50 [00:25<00:31,  1.13s/it]"
          ]
        },
        {
          "output_type": "stream",
          "name": "stdout",
          "text": [
            "Epoch: 22/50, Train Similarity: 0.9451, Validation Similarity: 0.9418. Training time so far: 25.3 s\n",
            "LOSS: 410.7023\n"
          ]
        },
        {
          "output_type": "stream",
          "name": "stderr",
          "text": [
            "\r 46%|████▌     | 23/50 [00:26<00:30,  1.13s/it]"
          ]
        },
        {
          "output_type": "stream",
          "name": "stdout",
          "text": [
            "Epoch: 23/50, Train Similarity: 0.9455, Validation Similarity: 0.9422. Training time so far: 26.5 s\n",
            "LOSS: 406.9737\n"
          ]
        },
        {
          "output_type": "stream",
          "name": "stderr",
          "text": [
            "\r 48%|████▊     | 24/50 [00:27<00:29,  1.14s/it]"
          ]
        },
        {
          "output_type": "stream",
          "name": "stdout",
          "text": [
            "Epoch: 24/50, Train Similarity: 0.9459, Validation Similarity: 0.9430. Training time so far: 27.6 s\n",
            "LOSS: 402.7041\n"
          ]
        },
        {
          "output_type": "stream",
          "name": "stderr",
          "text": [
            "\r 50%|█████     | 25/50 [00:28<00:28,  1.15s/it]"
          ]
        },
        {
          "output_type": "stream",
          "name": "stdout",
          "text": [
            "Epoch: 25/50, Train Similarity: 0.9463, Validation Similarity: 0.9435. Training time so far: 28.8 s\n",
            "LOSS: 398.2225\n"
          ]
        },
        {
          "output_type": "stream",
          "name": "stderr",
          "text": [
            "\r 52%|█████▏    | 26/50 [00:29<00:27,  1.15s/it]"
          ]
        },
        {
          "output_type": "stream",
          "name": "stdout",
          "text": [
            "Epoch: 26/50, Train Similarity: 0.9465, Validation Similarity: 0.9438. Training time so far: 29.9 s\n",
            "LOSS: 394.2989\n"
          ]
        },
        {
          "output_type": "stream",
          "name": "stderr",
          "text": [
            "\r 54%|█████▍    | 27/50 [00:31<00:26,  1.14s/it]"
          ]
        },
        {
          "output_type": "stream",
          "name": "stdout",
          "text": [
            "Epoch: 27/50, Train Similarity: 0.9467, Validation Similarity: 0.9439. Training time so far: 31.1 s\n",
            "LOSS: 391.4918\n"
          ]
        },
        {
          "output_type": "stream",
          "name": "stderr",
          "text": [
            "\r 56%|█████▌    | 28/50 [00:32<00:25,  1.14s/it]"
          ]
        },
        {
          "output_type": "stream",
          "name": "stdout",
          "text": [
            "Epoch: 28/50, Train Similarity: 0.9468, Validation Similarity: 0.9440. Training time so far: 32.2 s\n",
            "LOSS: 389.0955\n"
          ]
        },
        {
          "output_type": "stream",
          "name": "stderr",
          "text": [
            "\r 58%|█████▊    | 29/50 [00:33<00:23,  1.14s/it]"
          ]
        },
        {
          "output_type": "stream",
          "name": "stdout",
          "text": [
            "Epoch: 29/50, Train Similarity: 0.9469, Validation Similarity: 0.9441. Training time so far: 33.3 s\n",
            "LOSS: 387.0372\n"
          ]
        },
        {
          "output_type": "stream",
          "name": "stderr",
          "text": [
            "\r 60%|██████    | 30/50 [00:34<00:22,  1.15s/it]"
          ]
        },
        {
          "output_type": "stream",
          "name": "stdout",
          "text": [
            "Epoch: 30/50, Train Similarity: 0.9471, Validation Similarity: 0.9442. Training time so far: 34.5 s\n",
            "LOSS: 385.1725\n"
          ]
        },
        {
          "output_type": "stream",
          "name": "stderr",
          "text": [
            "\r 62%|██████▏   | 31/50 [00:35<00:21,  1.15s/it]"
          ]
        },
        {
          "output_type": "stream",
          "name": "stdout",
          "text": [
            "Epoch: 31/50, Train Similarity: 0.9472, Validation Similarity: 0.9442. Training time so far: 35.7 s\n",
            "LOSS: 383.9559\n"
          ]
        },
        {
          "output_type": "stream",
          "name": "stderr",
          "text": [
            "\r 64%|██████▍   | 32/50 [00:36<00:20,  1.15s/it]"
          ]
        },
        {
          "output_type": "stream",
          "name": "stdout",
          "text": [
            "Epoch: 32/50, Train Similarity: 0.9473, Validation Similarity: 0.9442. Training time so far: 36.8 s\n",
            "LOSS: 382.5315\n"
          ]
        },
        {
          "output_type": "stream",
          "name": "stderr",
          "text": [
            "\r 66%|██████▌   | 33/50 [00:37<00:19,  1.14s/it]"
          ]
        },
        {
          "output_type": "stream",
          "name": "stdout",
          "text": [
            "Epoch: 33/50, Train Similarity: 0.9473, Validation Similarity: 0.9442. Training time so far: 37.9 s\n",
            "LOSS: 381.3309\n"
          ]
        },
        {
          "output_type": "stream",
          "name": "stderr",
          "text": [
            "\r 68%|██████▊   | 34/50 [00:39<00:18,  1.14s/it]"
          ]
        },
        {
          "output_type": "stream",
          "name": "stdout",
          "text": [
            "Epoch: 34/50, Train Similarity: 0.9474, Validation Similarity: 0.9441. Training time so far: 39.1 s\n",
            "LOSS: 380.1296\n"
          ]
        },
        {
          "output_type": "stream",
          "name": "stderr",
          "text": [
            "\r 70%|███████   | 35/50 [00:40<00:17,  1.14s/it]"
          ]
        },
        {
          "output_type": "stream",
          "name": "stdout",
          "text": [
            "Epoch: 35/50, Train Similarity: 0.9474, Validation Similarity: 0.9441. Training time so far: 40.2 s\n",
            "LOSS: 379.0176\n"
          ]
        },
        {
          "output_type": "stream",
          "name": "stderr",
          "text": [
            "\r 72%|███████▏  | 36/50 [00:41<00:16,  1.17s/it]"
          ]
        },
        {
          "output_type": "stream",
          "name": "stdout",
          "text": [
            "Epoch: 36/50, Train Similarity: 0.9474, Validation Similarity: 0.9441. Training time so far: 41.4 s\n",
            "LOSS: 378.1144\n"
          ]
        },
        {
          "output_type": "stream",
          "name": "stderr",
          "text": [
            "\r 74%|███████▍  | 37/50 [00:42<00:14,  1.15s/it]"
          ]
        },
        {
          "output_type": "stream",
          "name": "stdout",
          "text": [
            "Epoch: 37/50, Train Similarity: 0.9475, Validation Similarity: 0.9441. Training time so far: 42.5 s\n",
            "LOSS: 377.1919\n"
          ]
        },
        {
          "output_type": "stream",
          "name": "stderr",
          "text": [
            "\r 76%|███████▌  | 38/50 [00:43<00:13,  1.15s/it]"
          ]
        },
        {
          "output_type": "stream",
          "name": "stdout",
          "text": [
            "Epoch: 38/50, Train Similarity: 0.9475, Validation Similarity: 0.9441. Training time so far: 43.7 s\n",
            "LOSS: 376.3555\n"
          ]
        },
        {
          "output_type": "stream",
          "name": "stderr",
          "text": [
            "\r 78%|███████▊  | 39/50 [00:44<00:12,  1.14s/it]"
          ]
        },
        {
          "output_type": "stream",
          "name": "stdout",
          "text": [
            "Epoch: 39/50, Train Similarity: 0.9475, Validation Similarity: 0.9441. Training time so far: 44.8 s\n",
            "LOSS: 375.5394\n"
          ]
        },
        {
          "output_type": "stream",
          "name": "stderr",
          "text": [
            "\r 80%|████████  | 40/50 [00:46<00:11,  1.15s/it]"
          ]
        },
        {
          "output_type": "stream",
          "name": "stdout",
          "text": [
            "Epoch: 40/50, Train Similarity: 0.9476, Validation Similarity: 0.9441. Training time so far: 46.0 s\n",
            "LOSS: 374.9158\n"
          ]
        },
        {
          "output_type": "stream",
          "name": "stderr",
          "text": [
            "\r 82%|████████▏ | 41/50 [00:47<00:10,  1.15s/it]"
          ]
        },
        {
          "output_type": "stream",
          "name": "stdout",
          "text": [
            "Epoch: 41/50, Train Similarity: 0.9476, Validation Similarity: 0.9440. Training time so far: 47.1 s\n",
            "LOSS: 374.1704\n"
          ]
        },
        {
          "output_type": "stream",
          "name": "stderr",
          "text": [
            "\r 84%|████████▍ | 42/50 [00:48<00:09,  1.14s/it]"
          ]
        },
        {
          "output_type": "stream",
          "name": "stdout",
          "text": [
            "Epoch: 42/50, Train Similarity: 0.9476, Validation Similarity: 0.9441. Training time so far: 48.3 s\n",
            "LOSS: 373.5737\n"
          ]
        },
        {
          "output_type": "stream",
          "name": "stderr",
          "text": [
            "\r 86%|████████▌ | 43/50 [00:49<00:07,  1.14s/it]"
          ]
        },
        {
          "output_type": "stream",
          "name": "stdout",
          "text": [
            "Epoch: 43/50, Train Similarity: 0.9476, Validation Similarity: 0.9440. Training time so far: 49.4 s\n",
            "LOSS: 372.7971\n"
          ]
        },
        {
          "output_type": "stream",
          "name": "stderr",
          "text": [
            "\r 88%|████████▊ | 44/50 [00:50<00:06,  1.15s/it]"
          ]
        },
        {
          "output_type": "stream",
          "name": "stdout",
          "text": [
            "Epoch: 44/50, Train Similarity: 0.9476, Validation Similarity: 0.9439. Training time so far: 50.6 s\n",
            "LOSS: 372.2048\n"
          ]
        },
        {
          "output_type": "stream",
          "name": "stderr",
          "text": [
            "\r 90%|█████████ | 45/50 [00:51<00:05,  1.14s/it]"
          ]
        },
        {
          "output_type": "stream",
          "name": "stdout",
          "text": [
            "Epoch: 45/50, Train Similarity: 0.9476, Validation Similarity: 0.9439. Training time so far: 51.7 s\n",
            "LOSS: 371.5780\n"
          ]
        },
        {
          "output_type": "stream",
          "name": "stderr",
          "text": [
            "\r 92%|█████████▏| 46/50 [00:52<00:04,  1.15s/it]"
          ]
        },
        {
          "output_type": "stream",
          "name": "stdout",
          "text": [
            "Epoch: 46/50, Train Similarity: 0.9476, Validation Similarity: 0.9439. Training time so far: 52.9 s\n",
            "LOSS: 370.9868\n"
          ]
        },
        {
          "output_type": "stream",
          "name": "stderr",
          "text": [
            "\r 94%|█████████▍| 47/50 [00:54<00:03,  1.16s/it]"
          ]
        },
        {
          "output_type": "stream",
          "name": "stdout",
          "text": [
            "Epoch: 47/50, Train Similarity: 0.9477, Validation Similarity: 0.9440. Training time so far: 54.0 s\n",
            "LOSS: 370.4263\n"
          ]
        },
        {
          "output_type": "stream",
          "name": "stderr",
          "text": [
            "\r 96%|█████████▌| 48/50 [00:55<00:02,  1.14s/it]"
          ]
        },
        {
          "output_type": "stream",
          "name": "stdout",
          "text": [
            "Epoch: 48/50, Train Similarity: 0.9477, Validation Similarity: 0.9439. Training time so far: 55.2 s\n",
            "LOSS: 369.8455\n"
          ]
        },
        {
          "output_type": "stream",
          "name": "stderr",
          "text": [
            "\r 98%|█████████▊| 49/50 [00:56<00:01,  1.16s/it]"
          ]
        },
        {
          "output_type": "stream",
          "name": "stdout",
          "text": [
            "Epoch: 49/50, Train Similarity: 0.9478, Validation Similarity: 0.9439. Training time so far: 56.3 s\n",
            "LOSS: 369.3622\n"
          ]
        },
        {
          "output_type": "stream",
          "name": "stderr",
          "text": [
            "100%|██████████| 50/50 [00:57<00:00,  1.15s/it]"
          ]
        },
        {
          "output_type": "stream",
          "name": "stdout",
          "text": [
            "Epoch: 50/50, Train Similarity: 0.9478, Validation Similarity: 0.9440. Training time so far: 57.5 s\n",
            "LOSS: 368.8285\n"
          ]
        },
        {
          "output_type": "stream",
          "name": "stderr",
          "text": [
            "\n"
          ]
        },
        {
          "output_type": "display_data",
          "data": {
            "text/plain": [
              "<Figure size 432x288 with 1 Axes>"
            ],
            "image/png": "[encoded data removed]"
          },
          "metadata": {
            "needs_background": "light"
          }
        }
      ],
      "source": [
        "# prepare data\n",
        "input_data, label_data_1, label_data_2, label_data_3 = data_transformation(positions_train, velocities_train, charges_train)\n",
        "train_dataset_1 = MyDataset(input_data, label_data_1)\n",
        "train_dataset_2 = MyDataset(input_data, label_data_2)\n",
        "train_dataset_3 = MyDataset(input_data, label_data_3)\n",
        "\n",
        "valid_data, valid_label_data_1, valid_label_data_2, valid_label_data_3 = data_transformation(positions_valid, velocities_valid, charges_valid)\n",
        "valid_dataset_1 = MyDataset(valid_data, valid_label_data_1)\n",
        "valid_dataset_2 = MyDataset(valid_data, valid_label_data_2)\n",
        "valid_dataset_3 = MyDataset(valid_data, valid_label_data_3)\n",
        "valid_DataLoader_1 = torch.utils.data.DataLoader(valid_dataset_1, batch_size=100)\n",
        "valid_DataLoader_2 = torch.utils.data.DataLoader(valid_dataset_2, batch_size=100)\n",
        "valid_DataLoader_3 = torch.utils.data.DataLoader(valid_dataset_3, batch_size=100)\n",
        "\n",
        "\n",
        "# device\n",
        "if torch.cuda.is_available():\n",
        "    device = torch.device('cuda')\n",
        "else:\n",
        "    device=torch.device('cpu')\n",
        "# criterion\n",
        "criterion = MSELoss()\n",
        "# trainer\n",
        "trainer = Trainer(device=device,\n",
        "                  criterion=criterion,\n",
        "                  epochs=50)\n",
        "\n",
        "\n",
        "# model one: using data in timpoint 0 to predict timepoint 0.5\n",
        "model_1 = Network().to(device)\n",
        "# optimizer\n",
        "optimizer_1 = torch.optim.SGD(model_1.parameters(), lr=0.0001, momentum=0.5)\n",
        "# data loader\n",
        "train_loader_1 = torch.utils.data.DataLoader(train_dataset_1, batch_size=100)\n",
        "# start training\n",
        "trainer.run_trainer(model_1, train_loader_1,valid_DataLoader_1, optimizer_1)\n",
        "\n",
        "# model two: using data in timpoint 0 to predict timepoint 1\n",
        "model_2 = Network().to(device)\n",
        "# optimizer\n",
        "optimizer_2 = torch.optim.SGD(model_2.parameters(), lr=0.0001, momentum=0.5)\n",
        "# data loader\n",
        "train_loader_2 = torch.utils.data.DataLoader(train_dataset_2, batch_size=100)\n",
        "# start training\n",
        "trainer.run_trainer(model_2, train_loader_2, valid_DataLoader_2, optimizer_2)\n",
        "\n",
        "# model three: using data in timpoint 0 to predict timepoint 1.5\n",
        "model_3 = Network().to(device)\n",
        "# optimizer\n",
        "optimizer_3 = torch.optim.SGD(model_3.parameters(), lr=0.0001, momentum=0.5)\n",
        "# data loader\n",
        "train_loader_3 = torch.utils.data.DataLoader(train_dataset_3, batch_size=100)\n",
        "# start training\n",
        "trainer.run_trainer(model_3, train_loader_3, valid_DataLoader_3, optimizer_3)\n",
        "\n"
      ]
    },
    {
      "cell_type": "markdown",
      "id": "d5fb3b29",
      "metadata": {
        "id": "d5fb3b29"
      },
      "source": [
        "# Evaluation"
      ]
    },
    {
      "cell_type": "code",
      "execution_count": null,
      "id": "bf5fa1b4",
      "metadata": {
        "id": "bf5fa1b4"
      },
      "outputs": [],
      "source": [
        "#todo"
      ]
    },
    {
      "cell_type": "code",
      "execution_count": null,
      "id": "2280031f",
      "metadata": {
        "id": "2280031f"
      },
      "outputs": [],
      "source": [
        "# prepare test data\n",
        "input_data, label_data_1, label_data_2, label_data_3 = data_transformation(positions_test, velocities_test, charges_test)\n",
        "test_dataset_1 = MyDataset(input_data, label_data_1)\n",
        "test_dataset_2 = MyDataset(input_data, label_data_2)\n",
        "test_dataset_3 = MyDataset(input_data, label_data_3)\n",
        "# data loader\n",
        "test_DataLoader_1 = torch.utils.data.DataLoader(test_dataset_1, batch_size=100)\n",
        "test_DataLoader_2 = torch.utils.data.DataLoader(test_dataset_2, batch_size=100)\n",
        "test_DataLoader_3 = torch.utils.data.DataLoader(test_dataset_3, batch_size=100)"
      ]
    },
    {
      "cell_type": "code",
      "execution_count": null,
      "id": "3a8240f1",
      "metadata": {
        "id": "3a8240f1",
        "colab": {
          "base_uri": "https://localhost:8080/"
        },
        "outputId": "1c16e706-fb40-4ba0-8a47-d7cc78d15fbe"
      },
      "outputs": [
        {
          "output_type": "stream",
          "name": "stdout",
          "text": [
            "ACCURACY: 0.9720\n",
            "ACCURACY: 0.9613\n",
            "ACCURACY: 0.9447\n"
          ]
        }
      ],
      "source": [
        "# evaluation model1\n",
        "accuracy_1, predictions_1 = trainer.evaluation(model_1, test_DataLoader_1)\n",
        "# evaluation model2\n",
        "accuracy_2, predictions_2 = trainer.evaluation(model_2, test_DataLoader_2)\n",
        "# evaluation model3\n",
        "accuracy_3, predictions_3 = trainer.evaluation(model_3, test_DataLoader_3)"
      ]
    },
    {
      "cell_type": "code",
      "source": [
        "something that does not run"
      ],
      "metadata": {
        "id": "u-wHlbLC6g9Z"
      },
      "id": "u-wHlbLC6g9Z",
      "execution_count": null,
      "outputs": []
    },
    {
      "cell_type": "code",
      "source": [
        "def plot_example(test_example,prediction): # initial position and velocities, and positions in the end\n",
        "    fig = plt.figure()\n",
        "    axes = plt.gca()\n",
        "    axes.set_xlim([-5., 5.])\n",
        "    axes.set_ylim([-5., 5.])\n",
        "    initial=test_example[0]\n",
        "    label=test_example[1]\n",
        "    pred_list = prediction.tolist()\n",
        "    test_arr = test_example[0].detach().numpy()\n",
        "    pos = test_arr[:,:2]\n",
        "\n",
        "    colors = ['red', 'blue', 'green', 'orange', 'brown']\n",
        "    for i in range(initial.shape[-1]):\n",
        "        plt.plot(initial[i,0], initial[i, 1], 'd', color=colors[i])\n",
        "        plt.plot(label[i,0], label[i,1], 'x', color=colors[i]) # the correct label\n",
        "        plt.plot(pred_list[i][0],pred_list[i][1], 'o',color=colors[i])\n",
        "        plt.plot(initial[i,0], initial[i,0] + initial[i,2], initial[i, 1], initial[i, 1] + initial[i,3], '--', color=colors[i])\n",
        "    fig.set_size_inches(7, 7)\n",
        "    plt.xlim(np.min(pos)-1, np.max(pos) +1)\n",
        "    plt.ylim(np.min(pos)-1, np.max(pos) +1)\n",
        "    plt.plot([], [], 'd', color='black', label='initial position')\n",
        "    plt.plot([], [], 'o', color='black', label='predicted final position')\n",
        "    plt.plot([], [], 'x', color='black', label='actual final position')\n",
        "    plt.plot([], [], '--', color='black', label='initial velocity \\ndirection and magnitude')\n",
        "    plt.legend()\n",
        "    \n",
        "    plt.show()\n",
        "    return"
      ],
      "metadata": {
        "id": "4wBBT2GUDX8g"
      },
      "id": "4wBBT2GUDX8g",
      "execution_count": null,
      "outputs": []
    },
    {
      "cell_type": "code",
      "source": [
        "random_idx = np.random.randint(0, 2000)\n",
        "n_batch = int(random_idx/100)\n",
        "idx_in_batch = int(random_idx%100)\n",
        "plot_example(test_dataset_1[random_idx],predictions_1[n_batch][idx_in_batch])"
      ],
      "metadata": {
        "colab": {
          "base_uri": "https://localhost:8080/",
          "height": 428
        },
        "id": "CLKP7b1pgxnJ",
        "outputId": "e570f820-a526-4bf6-d4c9-37c2f4289590"
      },
      "id": "CLKP7b1pgxnJ",
      "execution_count": null,
      "outputs": [
        {
          "output_type": "display_data",
          "data": {
            "text/plain": [
              "<Figure size 504x504 with 1 Axes>"
            ],
            "image/png": "[encoded data removed]"
          },
          "metadata": {
            "needs_background": "light"
          }
        }
      ]
    },
    {
      "cell_type": "code",
      "source": [
        "random_idx = np.random.randint(0, 2000)\n",
        "n_batch = int(random_idx/100)\n",
        "idx_in_batch = int(random_idx%100)\n",
        "plot_example(test_dataset_2[random_idx],predictions_2[n_batch][idx_in_batch])"
      ],
      "metadata": {
        "colab": {
          "base_uri": "https://localhost:8080/",
          "height": 428
        },
        "id": "38zYEX8j2X5D",
        "outputId": "267ad97b-bfab-4c60-af4e-613797f38324"
      },
      "id": "38zYEX8j2X5D",
      "execution_count": null,
      "outputs": [
        {
          "output_type": "display_data",
          "data": {
            "text/plain": [
              "<Figure size 504x504 with 1 Axes>"
            ],
            "image/png": "[encoded data removed]"
          },
          "metadata": {
            "needs_background": "light"
          }
        }
      ]
    },
    {
      "cell_type": "code",
      "source": [
        "random_idx = np.random.randint(0, 2000)\n",
        "n_batch = int(random_idx/100)\n",
        "idx_in_batch = int(random_idx%100)\n",
        "plot_example(test_dataset_3[random_idx],predictions_3[n_batch][idx_in_batch])"
      ],
      "metadata": {
        "colab": {
          "base_uri": "https://localhost:8080/",
          "height": 428
        },
        "id": "WwDREJbU2hT6",
        "outputId": "2daa3aa1-cab6-4752-c4ba-8735429f1419"
      },
      "id": "WwDREJbU2hT6",
      "execution_count": null,
      "outputs": [
        {
          "output_type": "display_data",
          "data": {
            "text/plain": [
              "<Figure size 504x504 with 1 Axes>"
            ],
            "image/png": "[encoded data removed]"
          },
          "metadata": {
            "needs_background": "light"
          }
        }
      ]
    }
  ],
  "metadata": {
    "kernelspec": {
      "display_name": "Python 3",
      "language": "python",
      "name": "python3"
    },
    "language_info": {
      "codemirror_mode": {
        "name": "ipython",
        "version": 3
      },
      "file_extension": ".py",
      "mimetype": "text/x-python",
      "name": "python",
      "nbconvert_exporter": "python",
      "pygments_lexer": "ipython3",
      "version": "3.8.8"
    },
    "colab": {
      "name": "Copy_of_a2_skeleton-3.ipynb",
      "provenance": [],
      "collapsed_sections": []
    }
  },
  "nbformat": 4,
  "nbformat_minor": 5
}